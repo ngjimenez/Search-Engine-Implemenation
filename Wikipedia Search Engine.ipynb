{
  "cells": [
    {
      "cell_type": "markdown",
      "metadata": {
        "id": "NE34iUSQtraV"
      },
      "source": [
        "# Search Engine for Wikipedia Articles Using Elastic Search"
      ]
    },
    {
      "cell_type": "markdown",
      "metadata": {
        "id": "UzSaF49NtraX"
      },
      "source": [
        "### Table of Contents:\n",
        "- Section 1: Indexation <br><br>\n",
        "- Section 2: Demonstration\n",
        "    * Section 2.1: Language Model - Example Query\n",
        "    * Section 2.2: BM25 Model - Example Query\n",
        "    * Section 2.3 - Tf-idf Model: Example Query\n",
        "    * Section 2.4: Search Engine Demo<br><br>\n",
        "- Section 3: Importing Queries\n",
        "    * Section 3.1: All Queries\n",
        "    * Section 3.2: Query Length Distribution\n",
        "    * Section 3.3: Document Length Distribution <br><br>\n",
        "- Section 4: Defining Evaluation Model Rankings\n",
        "  * Section 4.1 - Evaluation Metrics for Ranking Using 1 Example Query nDCG@5\n",
        "  * Section 4.2 - Calculating Evaluation Metrics For All Queries - nDCG@5 and Precision@5\n",
        "    * Section 4.2.1 - Evaluation Metrics For All Queries - nDCG@5 and Precision@5\n",
        "    * Example Query Analysis\n",
        "  * Section 4.3 - Retrieving Evaluation Metrics and Formatting Results<br><br>\n",
        "\n",
        "- Section 5: Initial Evaluation of Models\n",
        "    * Section 5.1: Comparisons of NDCG@5\n",
        "    * Section 5.2: Comparisons of P@5<br><br>\n",
        "- Section 6: BM25 Parameter Tuning\n",
        "    * Section 6.1 - BM25 Creation Function\n",
        "    * Section 6.2 - Create Indices with Different Parameters\n",
        "    * Section 6.3 - Add Documents to Indices\n",
        "    * Section 6.4 - nDCG Comparison Between 'match' and Boolean Queries with Different Parameters\n",
        "    * Section 6.5 - Precision Comparison Between 'match' and Boolean Queries with Different Parameters\n",
        "    * Section 6.6 - The Best Parameters\n",
        "<br><br>\n",
        "- Section 7 - Language Model - Optimisation\n",
        "    * Section 7.1 - Evaluation of Language Models - NDCG@5 - Comparing 'match' with Boolean Queries\n",
        "    * Section 7.2 - Evaluation of Language Models - P@5 - Comparing 'match' with Boolean Queries\n",
        "    * Section 7.3 - Setting Alternative Lambda Values for JM Language Models\n",
        "    * Section 7.4 - Comparing Alternative Lambda Values for JM Language Models\n",
        "<br><br>\n",
        "- Section 8 - Tf-idf - Optimisation\n",
        "    * Section 8.1 - Comparison Between 'match' and Boolean Queries with Different Parameters\n",
        "      * Section 8.1.1 nDCG\n",
        "      * Section 8.1.2 - Precision\n",
        "    * Section 8.2 - Standard tf-idf\n",
        "    * Section 8.3 Standard tf-idf with document length normalisation\n",
        "    * Section 8.4 Sublinear tf transformation\n",
        "    * Section 8.5 Probabilistic inverse document frequency <br><br>\n",
        "- Section 9 - Final Results\n",
        "\n",
        "References\n"
      ]
    },
    {
      "cell_type": "markdown",
      "metadata": {
        "id": "UhagSjKHtraY"
      },
      "source": [
        "## Indexation"
      ]
    },
    {
      "cell_type": "code",
      "execution_count": null,
      "metadata": {
        "colab": {
          "base_uri": "https://localhost:8080/"
        },
        "id": "nO0osJpXfX7n",
        "outputId": "8e21836c-3400-4752-99f0-5bc1bedd190c"
      },
      "outputs": [
        {
          "name": "stdout",
          "output_type": "stream",
          "text": [
            "Collecting elasticsearch\n",
            "  Downloading elasticsearch-8.1.2-py3-none-any.whl (372 kB)\n",
            "\u001b[K     |████████████████████████████████| 372 kB 8.3 MB/s \n",
            "\u001b[?25hCollecting elastic-transport<9,>=8\n",
            "  Downloading elastic_transport-8.1.1-py3-none-any.whl (58 kB)\n",
            "\u001b[K     |████████████████████████████████| 58 kB 5.2 MB/s \n",
            "\u001b[?25hRequirement already satisfied: certifi in /usr/local/lib/python3.7/dist-packages (from elastic-transport<9,>=8->elasticsearch) (2021.10.8)\n",
            "Collecting urllib3<2,>=1.26.2\n",
            "  Downloading urllib3-1.26.9-py2.py3-none-any.whl (138 kB)\n",
            "\u001b[K     |████████████████████████████████| 138 kB 65.2 MB/s \n",
            "\u001b[?25hInstalling collected packages: urllib3, elastic-transport, elasticsearch\n",
            "  Attempting uninstall: urllib3\n",
            "    Found existing installation: urllib3 1.24.3\n",
            "    Uninstalling urllib3-1.24.3:\n",
            "      Successfully uninstalled urllib3-1.24.3\n",
            "\u001b[31mERROR: pip's dependency resolver does not currently take into account all the packages that are installed. This behaviour is the source of the following dependency conflicts.\n",
            "requests 2.23.0 requires urllib3!=1.25.0,!=1.25.1,<1.26,>=1.21.1, but you have urllib3 1.26.9 which is incompatible.\n",
            "datascience 0.10.6 requires folium==0.2.1, but you have folium 0.8.3 which is incompatible.\u001b[0m\n",
            "Successfully installed elastic-transport-8.1.1 elasticsearch-8.1.2 urllib3-1.26.9\n"
          ]
        }
      ],
      "source": [
        "!pip install elasticsearch"
      ]
    },
    {
      "cell_type": "code",
      "execution_count": null,
      "metadata": {
        "colab": {
          "base_uri": "https://localhost:8080/"
        },
        "id": "ecFlOTb1traY",
        "outputId": "476e573e-de04-4775-9d50-e3a4ac610ba0"
      },
      "outputs": [
        {
          "name": "stderr",
          "output_type": "stream",
          "text": [
            "/usr/local/lib/python3.7/dist-packages/requests/__init__.py:91: RequestsDependencyWarning: urllib3 (1.26.9) or chardet (3.0.4) doesn't match a supported version!\n",
            "  RequestsDependencyWarning)\n"
          ]
        }
      ],
      "source": [
        "import csv\n",
        "from datetime import datetime\n",
        "from elasticsearch import Elasticsearch\n",
        "from elasticsearch.helpers import bulk\n",
        "from elasticsearch.helpers import streaming_bulk\n",
        "import pandas as pd\n",
        "import numpy as np\n",
        "from tqdm import tqdm\n",
        "\n",
        "import matplotlib.pyplot as plt\n",
        "from sklearn.feature_extraction.text import CountVectorizer\n",
        "import scipy.sparse as sp"
      ]
    },
    {
      "cell_type": "code",
      "execution_count": null,
      "metadata": {
        "colab": {
          "base_uri": "https://localhost:8080/"
        },
        "id": "7WoEDEX4ghky",
        "outputId": "47783d49-3dfe-4da6-8e08-bafb78a063cb"
      },
      "outputs": [
        {
          "name": "stdout",
          "output_type": "stream",
          "text": [
            "Mounted at /content/drive\n"
          ]
        }
      ],
      "source": [
        "from google.colab import drive\n",
        "drive.mount('/content/drive')"
      ]
    },
    {
      "cell_type": "markdown",
      "metadata": {
        "id": "-N5a-qcitraZ"
      },
      "source": [
        "### Creating and ElasticSearch client - Connecting to a local host"
      ]
    },
    {
      "cell_type": "code",
      "execution_count": null,
      "metadata": {
        "colab": {
          "base_uri": "https://localhost:8080/"
        },
        "id": "NW9jDmS0traa",
        "outputId": "e3cf1b57-63b7-436c-88b6-dcee79d3009f"
      },
      "outputs": [
        {
          "name": "stderr",
          "output_type": "stream",
          "text": [
            "/usr/local/lib/python3.7/dist-packages/ipykernel_launcher.py:3: DeprecationWarning: The 'http_auth' parameter is deprecated. Use 'basic_auth' or 'bearer_auth' parameters instead\n",
            "  This is separate from the ipykernel package so we can avoid doing imports until\n"
          ]
        }
      ],
      "source": [
        "es = Elasticsearch(\n",
        "    cloud_id=\"cloud_id\",\n",
        "    http_auth=([\"elastic\", \"password\"])\n",
        ")"
      ]
    },
    {
      "cell_type": "markdown",
      "metadata": {
        "id": "Gt_rYg4Jtraa"
      },
      "source": [
        "> *certificate file path and password need to be adapted to file and authentication details on your system*"
      ]
    },
    {
      "cell_type": "code",
      "execution_count": null,
      "metadata": {
        "colab": {
          "base_uri": "https://localhost:8080/"
        },
        "id": "DaLVosjNtrad",
        "outputId": "c2ac1833-c9cd-4dc1-9820-d35dc00bc2cb"
      },
      "outputs": [
        {
          "data": {
            "text/plain": [
              "ObjectApiResponse({'name': 'instance-0000000001', 'cluster_name': '8a00e3b06fb74158868746907643074f', 'cluster_uuid': 'CnWJS4LPQP2uJQUjJfi-KA', 'version': {'number': '8.1.2', 'build_flavor': 'default', 'build_type': 'docker', 'build_hash': '31df9689e80bad366ac20176aa7f2371ea5eb4c1', 'build_date': '2022-03-29T21:18:59.991429448Z', 'build_snapshot': False, 'lucene_version': '9.0.0', 'minimum_wire_compatibility_version': '7.17.0', 'minimum_index_compatibility_version': '7.0.0'}, 'tagline': 'You Know, for Search'})"
            ]
          },
          "execution_count": 6,
          "metadata": {},
          "output_type": "execute_result"
        }
      ],
      "source": [
        "es.info()"
      ]
    },
    {
      "cell_type": "markdown",
      "metadata": {
        "id": "LLaWnIHptrad"
      },
      "source": [
        "### Checking the downloaded training data"
      ]
    },
    {
      "cell_type": "code",
      "execution_count": null,
      "metadata": {
        "id": "IqfAZCx2trae"
      },
      "outputs": [],
      "source": [
        "#To access the data and run the code cells successfully, fully advise adding a shorcut to Google Drive with the contents of this link: https://drive.google.com/drive/folders/1Lg5eDNy6z4xrdMX8yDRM8ifho83fvJlO?usp=sharing\n",
        "\n",
        "import pandas as pd\n",
        "pd.read_csv('/content/drive/MyDrive/wikIR1k/documents.csv').head()"
      ]
    },
    {
      "cell_type": "markdown",
      "metadata": {
        "id": "XbNeJjhOtrae"
      },
      "source": [
        "### Setting Similarity Settings & Preprocessing of Index - Language Model"
      ]
    },
    {
      "cell_type": "markdown",
      "metadata": {
        "id": "OawqNOI_GfbJ"
      },
      "source": [
        "Below, a function has been defined to create a Language Model index, specifying smoothing parameters and preprocessing steps."
      ]
    },
    {
      "cell_type": "code",
      "execution_count": null,
      "metadata": {
        "id": "XlRYHkjBGfbJ"
      },
      "outputs": [],
      "source": [
        "# The code below has been adapted from the Elasticsearch Guide [8.1] Similarity Module & Text Analysis, 2022\n",
        "def generate_lm_index_for_docs(\n",
        "                                es_index_name,\n",
        "                                number_of_shards = 4,\n",
        "                                number_of_replicas  = 1,\n",
        "                                similarity_name = 'lm_similarity',\n",
        "                                lm_smoothing_type = 'LMJelinekMercer',\n",
        "                                lm_smoothing_lambda = 0.1,\n",
        "                                stop_word_removal = True,\n",
        "                                stemming = True\n",
        "                                ):\n",
        "    \"\"\"\n",
        "    Create language model index based on specified settings\n",
        "\n",
        "    Uses logical operators to identify the components to be included\n",
        "    in the settings and mappings of the index. Uses mapping\n",
        "    settings required for the wikIR documents.\n",
        "\n",
        "    Parameters\n",
        "    ----------\n",
        "    es_index_name : str\n",
        "        Name to be given to new index\n",
        "    number_of_shards : int, optional\n",
        "        Number of shards to be used for the index, by default 4\n",
        "    number_of_replicas : int, optional\n",
        "        Number of replicas to be used for the index, by default 1\n",
        "    similarity_name : str, optional\n",
        "        Similarity name to be used in settings of the index. This\n",
        "        can be arbitrary, but will need to be distinguishable,\n",
        "        particularly from other language models using alternative\n",
        "        settings, by default 'lm_similarity'\n",
        "    lm_smoothing_type : str, optional\n",
        "        Language Model smoothing type, by default 'LMJelinekMercer'\n",
        "    lm_smoothing_lambda : float, optional\n",
        "        Language Model lambda smoothing value, by default 0.1\n",
        "    stop_word_removal : bool, optional\n",
        "        Choice of whether or not to use stop word removal\n",
        "        for measuring similarity, by default True\n",
        "    stemming : bool, optional\n",
        "        Choice of whether or not to use stemming removal\n",
        "        for measuring similarity,, by default True\n",
        "\n",
        "    Returns\n",
        "    -------\n",
        "    ObjectApiResponse or str\n",
        "        API response confirming whether the index has been created\n",
        "        or str stating the index already exists\n",
        "    \"\"\"\n",
        "\n",
        "    lm_settings = {\n",
        "                    'number_of_shards': number_of_shards,\n",
        "                    'number_of_replicas': number_of_replicas,\n",
        "                    'index' : {\n",
        "                                'similarity' : {\n",
        "                                                similarity_name : {\n",
        "                                                                    'type' : lm_smoothing_type,\n",
        "                                                                    'lambda' : lm_smoothing_lambda\n",
        "                                                                    }\n",
        "                                                }\n",
        "                                }\n",
        "                    }\n",
        "\n",
        "    if stop_word_removal and stemming:\n",
        "        analyser_settings =  {\n",
        "                                'stop_word_removal' : {\n",
        "                                                        'tokenizer' : 'whitespace',\n",
        "                                                        'filter' : ['stop'],\n",
        "                                                        'stopwords' : '_english_'\n",
        "                                                        },\n",
        "                                'stem'              :  {\n",
        "                                                        'tokenizer' : 'whitespace',\n",
        "                                                        'filter': ['stemmer']\n",
        "                                                         }\n",
        "                                }\n",
        "\n",
        "        lm_settings['analysis'] =  analyser_settings\n",
        "\n",
        "    elif stop_word_removal:\n",
        "        analyser_settings =  {\n",
        "                                'stop_word_removal' : {\n",
        "                                                        'tokenizer' : 'whitespace',\n",
        "                                                        'filter' : ['stop'],\n",
        "                                                        'stopwords' : '_english_'\n",
        "                                                        }\n",
        "                                }\n",
        "        lm_settings['analysis'] =  analyser_settings\n",
        "\n",
        "    elif stemming:\n",
        "        analyser_settings =  {\n",
        "                                'stem'              :  {\n",
        "                                                        'tokenizer' : 'whitespace',\n",
        "                                                        'filter': ['stemmer']\n",
        "                                                         }\n",
        "                                }\n",
        "        lm_settings['analysis'] =  analyser_settings\n",
        "\n",
        "    else:\n",
        "        pass\n",
        "\n",
        "    lm_mappings = {\n",
        "                    'properties': {\n",
        "                                    'doc_text': {'type': 'text', 'similarity': similarity_name}\n",
        "                                    }\n",
        "                    }\n",
        "\n",
        "    if es.indices.exists(index = es_index_name):\n",
        "        return print('An index with the name {} already exists'.format(es_index_name))\n",
        "    else:\n",
        "        return es.indices.create(index = es_index_name, settings = lm_settings, mappings = lm_mappings)\n"
      ]
    },
    {
      "cell_type": "markdown",
      "metadata": {
        "id": "24v42gZ5traf"
      },
      "source": [
        "The settings below have been outlined for the Language Model indexing. This includes the following:\n",
        "- Stop Word Removal\n",
        "- Stemming\n",
        "- Similarity measured by a uni-gram Language Model with Jelinek Mercer smoothing."
      ]
    },
    {
      "cell_type": "markdown",
      "metadata": {
        "id": "B7nS7dpCGfbL"
      },
      "source": [
        "The function above has been used to create a language model index with the smoothing parameter of lambda set to 0.1"
      ]
    },
    {
      "cell_type": "code",
      "execution_count": null,
      "metadata": {
        "colab": {
          "base_uri": "https://localhost:8080/"
        },
        "id": "JjTKeUh_GfbM",
        "outputId": "d7758366-278a-4c8f-a0f1-c7b764c220b1"
      },
      "outputs": [
        {
          "data": {
            "text/plain": [
              "ObjectApiResponse({'acknowledged': True, 'shards_acknowledged': True, 'index': 'lm_index_lambda_0p1'})"
            ]
          },
          "execution_count": 22,
          "metadata": {},
          "output_type": "execute_result"
        }
      ],
      "source": [
        "generate_lm_index_for_docs(\n",
        "                                es_index_name = 'lm_index_lambda_0p1',\n",
        "                                number_of_shards = 4,\n",
        "                                number_of_replicas  = 1,\n",
        "                                similarity_name = 'lm_similarity_lambda_0p1',\n",
        "                                lm_smoothing_type = 'LMJelinekMercer',\n",
        "                                lm_smoothing_lambda = 0.1,\n",
        "                                stop_word_removal = True,\n",
        "                                stemming = True\n",
        "                                )"
      ]
    },
    {
      "cell_type": "markdown",
      "metadata": {
        "id": "mQF0FXontrai"
      },
      "source": [
        "The settings of the index are shown below."
      ]
    },
    {
      "cell_type": "code",
      "execution_count": null,
      "metadata": {
        "colab": {
          "base_uri": "https://localhost:8080/"
        },
        "id": "Xjvp_PA_trai",
        "outputId": "27c5a51f-adb6-453a-f9c7-5f5dd82a5391"
      },
      "outputs": [
        {
          "data": {
            "text/plain": [
              "ObjectApiResponse({'lm_index_lambda_0p1': {'settings': {'index': {'routing': {'allocation': {'include': {'_tier_preference': 'data_content'}}}, 'number_of_shards': '4', 'provided_name': 'lm_index_lambda_0p1', 'similarity': {'lm_similarity_lambda_0p1': {'type': 'LMJelinekMercer', 'lambda': '0.1'}}, 'creation_date': '1649709035555', 'analysis': {'stop_word_removal': {'filter': ['stop'], 'stopwords': '_english_', 'tokenizer': 'whitespace'}, 'stem': {'filter': ['stemmer'], 'tokenizer': 'whitespace'}}, 'number_of_replicas': '1', 'uuid': 'IAC0aBzFS4eH2PyNJAyTkQ', 'version': {'created': '8010199'}}}}})"
            ]
          },
          "execution_count": 23,
          "metadata": {},
          "output_type": "execute_result"
        }
      ],
      "source": [
        "es.indices.get_settings(index = 'lm_index_lambda_0p1')"
      ]
    },
    {
      "cell_type": "code",
      "execution_count": null,
      "metadata": {
        "colab": {
          "base_uri": "https://localhost:8080/"
        },
        "id": "l5SQym-Ntrai",
        "outputId": "ea504190-134f-4e19-f676-aecc9e30df1d"
      },
      "outputs": [
        {
          "data": {
            "text/plain": [
              "ObjectApiResponse({'lm_index_lambda_0p1': {'mappings': {'properties': {'doc_text': {'type': 'text', 'similarity': 'lm_similarity_lambda_0p1'}}}}})"
            ]
          },
          "execution_count": 24,
          "metadata": {},
          "output_type": "execute_result"
        }
      ],
      "source": [
        "es.indices.get_mapping(index = 'lm_index_lambda_0p1')"
      ]
    },
    {
      "cell_type": "markdown",
      "metadata": {
        "id": "Zbb_coe3traj"
      },
      "source": [
        "Now that the documents have been indexed, the queries will now be compared with the documents, checking for similarity and ranking the results."
      ]
    },
    {
      "cell_type": "markdown",
      "metadata": {
        "id": "z-MqNUbttraj"
      },
      "source": [
        "### Taking documents from CSV file and inserting documents into an index"
      ]
    },
    {
      "cell_type": "markdown",
      "metadata": {
        "id": "ky4jZms7trak"
      },
      "source": [
        "Below the ElasticSearch code bulk-ingest.py 2022 has been adapted to insert the downloaded documents into an index for the wikipedia articles."
      ]
    },
    {
      "cell_type": "code",
      "execution_count": null,
      "metadata": {
        "id": "TY05qFOctrak"
      },
      "outputs": [],
      "source": [
        "# Function adapted from ElasticSearch bulk-ingest.py 2022 and Elasticsearch v8.1.0 B.V Revision 2022 documentation.\n",
        "# Code adapted to be made relevant\n",
        "\n",
        "file_path = '/content/drive/MyDrive/wikIR1k/documents.csv'\n",
        "\n",
        "def generate_actions():\n",
        "    with open(file_path, mode=\"r\") as f:\n",
        "        reader = csv.DictReader(f)\n",
        "\n",
        "        for row in reader:\n",
        "            doc = {\n",
        "                    \"doc_text\" : row[\"doc_text\"],\n",
        "                    \"_id\" : row[\"doc_id\"]\n",
        "                    }\n",
        "            yield doc"
      ]
    },
    {
      "cell_type": "markdown",
      "metadata": {
        "id": "rT_oRYOrtral"
      },
      "source": [
        "Below the elasticsearch helpers bulk function has been used with the function that has retrieved documents from the CSV file."
      ]
    },
    {
      "cell_type": "code",
      "execution_count": null,
      "metadata": {
        "colab": {
          "base_uri": "https://localhost:8080/"
        },
        "id": "A6pPigcJtral",
        "outputId": "b69eedf3-e491-43ea-c3b1-81550ba56a81"
      },
      "outputs": [
        {
          "data": {
            "text/plain": [
              "(369721, [])"
            ]
          },
          "execution_count": 26,
          "metadata": {},
          "output_type": "execute_result"
        }
      ],
      "source": [
        "bulk(es, generate_actions(), index = 'lm_index_lambda_0p1', ignore_status = 400)"
      ]
    },
    {
      "cell_type": "markdown",
      "metadata": {
        "id": "hXNQb-xjtral"
      },
      "source": [
        "> All 369,721 documents were added to the index, which has been named 'language_model_index'"
      ]
    },
    {
      "cell_type": "markdown",
      "metadata": {
        "id": "UfPWGkultram"
      },
      "source": [
        "Above the CSV file has been read and the elasticsearch helpers bulk function has been used create an index for the Wikipedia articles, inserting the document text for each document."
      ]
    },
    {
      "cell_type": "code",
      "execution_count": null,
      "metadata": {
        "colab": {
          "base_uri": "https://localhost:8080/",
          "height": 206
        },
        "id": "xTX59b7utram",
        "outputId": "e8454fff-a510-4148-ad52-87b50beb2e24"
      },
      "outputs": [
        {
          "data": {
            "text/html": [
              "\n",
              "  <div id=\"df-964e6860-c606-4a96-9f61-8f69f28c3a00\">\n",
              "    <div class=\"colab-df-container\">\n",
              "      <div>\n",
              "<style scoped>\n",
              "    .dataframe tbody tr th:only-of-type {\n",
              "        vertical-align: middle;\n",
              "    }\n",
              "\n",
              "    .dataframe tbody tr th {\n",
              "        vertical-align: top;\n",
              "    }\n",
              "\n",
              "    .dataframe thead th {\n",
              "        text-align: right;\n",
              "    }\n",
              "</style>\n",
              "<table border=\"1\" class=\"dataframe\">\n",
              "  <thead>\n",
              "    <tr style=\"text-align: right;\">\n",
              "      <th></th>\n",
              "      <th>doc_id</th>\n",
              "      <th>doc_text</th>\n",
              "    </tr>\n",
              "  </thead>\n",
              "  <tbody>\n",
              "    <tr>\n",
              "      <th>0</th>\n",
              "      <td>1781133</td>\n",
              "      <td>it was used in landing craft during world war ...</td>\n",
              "    </tr>\n",
              "    <tr>\n",
              "      <th>1</th>\n",
              "      <td>2426736</td>\n",
              "      <td>after rejecting an offer from cambridge univer...</td>\n",
              "    </tr>\n",
              "    <tr>\n",
              "      <th>2</th>\n",
              "      <td>2224122</td>\n",
              "      <td>mat zan coached kuala lumpur fa in 1999 and wo...</td>\n",
              "    </tr>\n",
              "    <tr>\n",
              "      <th>3</th>\n",
              "      <td>219642</td>\n",
              "      <td>a barcode is a machine readable optical label ...</td>\n",
              "    </tr>\n",
              "    <tr>\n",
              "      <th>4</th>\n",
              "      <td>1728654</td>\n",
              "      <td>since the subordination of the monarchy under ...</td>\n",
              "    </tr>\n",
              "  </tbody>\n",
              "</table>\n",
              "</div>\n",
              "      <button class=\"colab-df-convert\" onclick=\"convertToInteractive('df-964e6860-c606-4a96-9f61-8f69f28c3a00')\"\n",
              "              title=\"Convert this dataframe to an interactive table.\"\n",
              "              style=\"display:none;\">\n",
              "        \n",
              "  <svg xmlns=\"http://www.w3.org/2000/svg\" height=\"24px\"viewBox=\"0 0 24 24\"\n",
              "       width=\"24px\">\n",
              "    <path d=\"M0 0h24v24H0V0z\" fill=\"none\"/>\n",
              "    <path d=\"M18.56 5.44l.94 2.06.94-2.06 2.06-.94-2.06-.94-.94-2.06-.94 2.06-2.06.94zm-11 1L8.5 8.5l.94-2.06 2.06-.94-2.06-.94L8.5 2.5l-.94 2.06-2.06.94zm10 10l.94 2.06.94-2.06 2.06-.94-2.06-.94-.94-2.06-.94 2.06-2.06.94z\"/><path d=\"M17.41 7.96l-1.37-1.37c-.4-.4-.92-.59-1.43-.59-.52 0-1.04.2-1.43.59L10.3 9.45l-7.72 7.72c-.78.78-.78 2.05 0 2.83L4 21.41c.39.39.9.59 1.41.59.51 0 1.02-.2 1.41-.59l7.78-7.78 2.81-2.81c.8-.78.8-2.07 0-2.86zM5.41 20L4 18.59l7.72-7.72 1.47 1.35L5.41 20z\"/>\n",
              "  </svg>\n",
              "      </button>\n",
              "      \n",
              "  <style>\n",
              "    .colab-df-container {\n",
              "      display:flex;\n",
              "      flex-wrap:wrap;\n",
              "      gap: 12px;\n",
              "    }\n",
              "\n",
              "    .colab-df-convert {\n",
              "      background-color: #E8F0FE;\n",
              "      border: none;\n",
              "      border-radius: 50%;\n",
              "      cursor: pointer;\n",
              "      display: none;\n",
              "      fill: #1967D2;\n",
              "      height: 32px;\n",
              "      padding: 0 0 0 0;\n",
              "      width: 32px;\n",
              "    }\n",
              "\n",
              "    .colab-df-convert:hover {\n",
              "      background-color: #E2EBFA;\n",
              "      box-shadow: 0px 1px 2px rgba(60, 64, 67, 0.3), 0px 1px 3px 1px rgba(60, 64, 67, 0.15);\n",
              "      fill: #174EA6;\n",
              "    }\n",
              "\n",
              "    [theme=dark] .colab-df-convert {\n",
              "      background-color: #3B4455;\n",
              "      fill: #D2E3FC;\n",
              "    }\n",
              "\n",
              "    [theme=dark] .colab-df-convert:hover {\n",
              "      background-color: #434B5C;\n",
              "      box-shadow: 0px 1px 3px 1px rgba(0, 0, 0, 0.15);\n",
              "      filter: drop-shadow(0px 1px 2px rgba(0, 0, 0, 0.3));\n",
              "      fill: #FFFFFF;\n",
              "    }\n",
              "  </style>\n",
              "\n",
              "      <script>\n",
              "        const buttonEl =\n",
              "          document.querySelector('#df-964e6860-c606-4a96-9f61-8f69f28c3a00 button.colab-df-convert');\n",
              "        buttonEl.style.display =\n",
              "          google.colab.kernel.accessAllowed ? 'block' : 'none';\n",
              "\n",
              "        async function convertToInteractive(key) {\n",
              "          const element = document.querySelector('#df-964e6860-c606-4a96-9f61-8f69f28c3a00');\n",
              "          const dataTable =\n",
              "            await google.colab.kernel.invokeFunction('convertToInteractive',\n",
              "                                                     [key], {});\n",
              "          if (!dataTable) return;\n",
              "\n",
              "          const docLinkHtml = 'Like what you see? Visit the ' +\n",
              "            '<a target=\"_blank\" href=https://colab.research.google.com/notebooks/data_table.ipynb>data table notebook</a>'\n",
              "            + ' to learn more about interactive tables.';\n",
              "          element.innerHTML = '';\n",
              "          dataTable['output_type'] = 'display_data';\n",
              "          await google.colab.output.renderOutput(dataTable, element);\n",
              "          const docLink = document.createElement('div');\n",
              "          docLink.innerHTML = docLinkHtml;\n",
              "          element.appendChild(docLink);\n",
              "        }\n",
              "      </script>\n",
              "    </div>\n",
              "  </div>\n",
              "  "
            ],
            "text/plain": [
              "    doc_id                                           doc_text\n",
              "0  1781133  it was used in landing craft during world war ...\n",
              "1  2426736  after rejecting an offer from cambridge univer...\n",
              "2  2224122  mat zan coached kuala lumpur fa in 1999 and wo...\n",
              "3   219642  a barcode is a machine readable optical label ...\n",
              "4  1728654  since the subordination of the monarchy under ..."
            ]
          },
          "execution_count": 27,
          "metadata": {},
          "output_type": "execute_result"
        }
      ],
      "source": [
        "pd.read_csv('/content/drive/MyDrive/wikIR1k/documents.csv').head()"
      ]
    },
    {
      "cell_type": "code",
      "execution_count": null,
      "metadata": {
        "colab": {
          "base_uri": "https://localhost:8080/"
        },
        "id": "kWG6BG_2tram",
        "outputId": "5170f2a5-a22b-4a35-de67-abc25c852866"
      },
      "outputs": [
        {
          "data": {
            "text/plain": [
              "ObjectApiResponse({'took': 8, 'timed_out': False, '_shards': {'total': 4, 'successful': 4, 'skipped': 0, 'failed': 0}, 'hits': {'total': {'value': 1, 'relation': 'eq'}, 'max_score': 26.068209, 'hits': [{'_index': 'lm_index_lambda_0p1', '_id': '1781133', '_score': 26.068209, '_source': {'doc_text': 'it was used in landing craft during world war ii and is used today in private boats and training facilities the 6 71 is an inline six cylinder diesel engine the 71 refers to the displacement in cubic inches of each cylinder the firing order of the engine is 1 5 3 6 2 4 the engine s compression ratio is 18 7 1 with a 4 250 inch bore and a 5 00 inch stroke the engine weighs and is 54 inches long 29 inches wide and 41 inches tall at 2 100 revolutions per minute the engine is capable of producing 230 horse power 172 kilowatts v type versions of the 71 series were developed in 1957 the 6 71 is a two stroke engine as the engine will not naturally aspirate air is provided via a roots type blower however on the 6 71t models a turbocharger and a supercharger are utilized fuel is provided by unit injectors one per cylinder the amount of fuel injected into the engine is controlled by the engine s governor the engine cooling is via liquid in a water jacket in a boat cool external water is pumped into the engine'}}]}})"
            ]
          },
          "execution_count": 9,
          "metadata": {},
          "output_type": "execute_result"
        }
      ],
      "source": [
        "es.search(index = 'lm_index_lambda_0p1', query = {'match_phrase' : {'doc_text' : 'landing craft during world war'}})"
      ]
    },
    {
      "cell_type": "markdown",
      "metadata": {
        "id": "71uT_cBXtram"
      },
      "source": [
        "Above is a comparison between the csv file and the elasticsearch index using the text from one particular document. Match Phrase has been used as it is unlikely that more than one document would have this specific phrase."
      ]
    },
    {
      "cell_type": "markdown",
      "metadata": {
        "id": "O60kSxV0tran"
      },
      "source": [
        "### Setting Similarity Settings & Preprocessing of Index - BM25 Model"
      ]
    },
    {
      "cell_type": "markdown",
      "metadata": {
        "id": "FINNssK3tran"
      },
      "source": [
        "The settings below have been outlined for the Language Model indexing. This includes the following:\n",
        "- Stop Word Removal\n",
        "- Stemming\n",
        "- Similarity measured by a BM25 model (hyperparameters discussed below)."
      ]
    },
    {
      "cell_type": "code",
      "execution_count": null,
      "metadata": {
        "id": "MK74ZJIqtran"
      },
      "outputs": [],
      "source": [
        "# The code below has been adapted from the Elasticsearch Guide [8.1] Similarity Module & Text Analysis, 2022\n",
        "bm25_settings = {\n",
        "                'number_of_shards': 4,\n",
        "                'number_of_replicas': 1,\n",
        "                'index' : {\n",
        "                            'similarity' : {\n",
        "                                            'bm25_similarity' : {\n",
        "                                                                'type' : 'BM25',\n",
        "                                                                'k1' : 1.2,\n",
        "                                                                'b' : 0.75\n",
        "                                                                }\n",
        "                                            },\n",
        "                            'analysis' : {\n",
        "                                            'analyzer' : {\n",
        "                                                            'stop_word_removal' : {\n",
        "                                                                                    'tokenizer' : 'whitespace',\n",
        "                                                                                    'filter' : ['stop'],\n",
        "                                                                                    'stopwords' : '_english_'\n",
        "                                                                                    },\n",
        "                                                            'stem' :               {\n",
        "                                                                                    'tokenizer' : 'whitespace',\n",
        "                                                                                    'filter': ['stemmer']\n",
        "                                                                                    }\n",
        "                                                            }\n",
        "                                            }\n",
        "                                }\n",
        "                }\n"
      ]
    },
    {
      "cell_type": "code",
      "execution_count": null,
      "metadata": {
        "id": "udZ-pRhotran"
      },
      "outputs": [],
      "source": [
        "bm25_mappings = {\n",
        "                'properties': {\n",
        "                                'doc_text': {'type': 'text', 'similarity': 'bm25_similarity'}\n",
        "                                }\n",
        "                }"
      ]
    },
    {
      "cell_type": "markdown",
      "metadata": {
        "id": "7ZUPsQkltrao"
      },
      "source": [
        "Below the BM25 indices have been created, the settings and mappings are displayed beneath also."
      ]
    },
    {
      "cell_type": "code",
      "execution_count": null,
      "metadata": {
        "colab": {
          "base_uri": "https://localhost:8080/"
        },
        "id": "9lCfoMtTtrao",
        "outputId": "a7cb4586-5fba-48ba-cfa0-d8a7a5c39428"
      },
      "outputs": [
        {
          "data": {
            "text/plain": [
              "ObjectApiResponse({'acknowledged': True, 'shards_acknowledged': True, 'index': 'bm25_model_index'})"
            ]
          },
          "execution_count": 31,
          "metadata": {},
          "output_type": "execute_result"
        }
      ],
      "source": [
        "es.indices.create(index = 'bm25_model_index', settings = bm25_settings, mappings = bm25_mappings)"
      ]
    },
    {
      "cell_type": "code",
      "execution_count": null,
      "metadata": {
        "colab": {
          "base_uri": "https://localhost:8080/"
        },
        "id": "4-N-DRoKtrao",
        "outputId": "c7c67305-09fb-47e0-9999-fd1dc6a29392"
      },
      "outputs": [
        {
          "data": {
            "text/plain": [
              "ObjectApiResponse({'bm25_model_index': {'settings': {'index': {'routing': {'allocation': {'include': {'_tier_preference': 'data_content'}}}, 'number_of_shards': '4', 'provided_name': 'bm25_model_index', 'similarity': {'bm25_similarity': {'type': 'BM25', 'b': '0.75', 'k1': '1.2'}}, 'creation_date': '1649709256060', 'analysis': {'analyzer': {'stop_word_removal': {'filter': ['stop'], 'stopwords': '_english_', 'tokenizer': 'whitespace'}, 'stem': {'filter': ['stemmer'], 'tokenizer': 'whitespace'}}}, 'number_of_replicas': '1', 'uuid': 'kucweh8LSAiEm9Bn3CCg3A', 'version': {'created': '8010199'}}}}})"
            ]
          },
          "execution_count": 32,
          "metadata": {},
          "output_type": "execute_result"
        }
      ],
      "source": [
        "es.indices.get_settings(index = 'bm25_model_index')"
      ]
    },
    {
      "cell_type": "markdown",
      "metadata": {
        "id": "1_GEp8NLtrao"
      },
      "source": [
        "Below the documents have been added to the BM25 index."
      ]
    },
    {
      "cell_type": "code",
      "execution_count": null,
      "metadata": {
        "colab": {
          "base_uri": "https://localhost:8080/"
        },
        "id": "YTUzEFfitrap",
        "outputId": "a0c1b861-54b9-4a98-e420-bd8f3ff1ebf0"
      },
      "outputs": [
        {
          "data": {
            "text/plain": [
              "(369721, [])"
            ]
          },
          "execution_count": 33,
          "metadata": {},
          "output_type": "execute_result"
        }
      ],
      "source": [
        "bulk(es, generate_actions(), index = 'bm25_model_index', ignore_status = 400)"
      ]
    },
    {
      "cell_type": "markdown",
      "metadata": {
        "id": "2yZstzdKtrap"
      },
      "source": [
        "> All 369,721 documents were added to the index, which has been named 'bm25_model_index'"
      ]
    },
    {
      "cell_type": "markdown",
      "metadata": {
        "id": "OSqge-h1SpKq"
      },
      "source": [
        "### Setting Similarity Settings & Preprocessing of Index - Tf-idf Model\n",
        "\n",
        "The settings below have been outlined for the tf-idf indexing. This includes the following:\n",
        "- Stop Word Removal\n",
        "- Stemming\n",
        "- Similarity measured by a tf-idf model\n",
        "\n",
        "Since the tf-idf model is not a default one in ElasticSearch, I am leveraging a custom similarity to customize our formula.\n"
      ]
    },
    {
      "cell_type": "code",
      "execution_count": null,
      "metadata": {
        "id": "44viC2hjyqZk"
      },
      "outputs": [],
      "source": [
        "std_tfidf = \"double tf = doc.freq; double idf = Math.log((field.docCount+1.0)/(term.docFreq+1.0)) + 1.0; double norm = 1/Math.sqrt(doc.length); return tf * idf ;\""
      ]
    },
    {
      "cell_type": "code",
      "execution_count": null,
      "metadata": {
        "colab": {
          "base_uri": "https://localhost:8080/"
        },
        "id": "mSBkYle_JlfR",
        "outputId": "850540bb-f4e8-43b1-ef8a-fddbe8973e00"
      },
      "outputs": [
        {
          "name": "stderr",
          "output_type": "stream",
          "text": [
            "/usr/local/lib/python3.7/dist-packages/ipykernel_launcher.py:41: DeprecationWarning: Passing transport options in the API method is deprecated. Use 'Elasticsearch.options()' instead.\n",
            "/usr/local/lib/python3.7/dist-packages/ipykernel_launcher.py:41: DeprecationWarning: The 'body' parameter is deprecated and will be removed in a future version. Instead use individual parameters.\n"
          ]
        },
        {
          "data": {
            "text/plain": [
              "ObjectApiResponse({'acknowledged': True, 'shards_acknowledged': True, 'index': 'tf_idf'})"
            ]
          },
          "execution_count": 35,
          "metadata": {},
          "output_type": "execute_result"
        }
      ],
      "source": [
        "tfidf_body = {\n",
        "  \"settings\": {\n",
        "    \"number_of_shards\": 4,\n",
        "    \"number_of_replicas\"  : 1,\n",
        "    \"similarity\": {\n",
        "      \"scripted_tfidf\": {\n",
        "        \"type\": \"scripted\",\n",
        "        \"script\": {\n",
        "          \"source\": std_tfidf\n",
        "        }\n",
        "      }\n",
        "    },\n",
        "                                      'analysis' : {\n",
        "                                            'analyzer' : {\n",
        "                                                            'stop_word_removal' : {\n",
        "                                                                                    'tokenizer' : 'whitespace',\n",
        "                                                                                    'filter' : ['stop'],\n",
        "                                                                                    'stopwords' : '_english_'\n",
        "                                                                                    },\n",
        "                                                            'stem' :               {\n",
        "                                                                                    'tokenizer' : 'whitespace',\n",
        "                                                                                    'filter': ['stemmer']\n",
        "                                                                                    }\n",
        "                                                            }\n",
        "                                            }\n",
        "  }\n",
        "\n",
        "}\n",
        "\n",
        "\n",
        "\n",
        "tfidf_mappings = {\n",
        "                'properties': {\n",
        "                                'doc_text': {'type': 'text', 'similarity': 'scripted_tfidf'}\n",
        "                                }\n",
        "                }\n",
        "\n",
        "\n",
        "\n",
        "\n",
        "es.indices.create(index = 'tf_idf', body = tfidf_body,mappings=tfidf_mappings, ignore=[400, 404])\n",
        "\n"
      ]
    },
    {
      "cell_type": "markdown",
      "metadata": {
        "id": "wBpbgx6BR6ix"
      },
      "source": [
        "Below the documents have been added to the tf-idf index."
      ]
    },
    {
      "cell_type": "code",
      "execution_count": null,
      "metadata": {
        "colab": {
          "base_uri": "https://localhost:8080/"
        },
        "id": "MX2M-gDRTSep",
        "outputId": "daf9bcff-c650-4c05-82a1-e0a7a3397833"
      },
      "outputs": [
        {
          "data": {
            "text/plain": [
              "(369721, [])"
            ]
          },
          "execution_count": 36,
          "metadata": {},
          "output_type": "execute_result"
        }
      ],
      "source": [
        "bulk(es, generate_actions(), index = 'tf_idf', ignore_status = 400)"
      ]
    },
    {
      "cell_type": "markdown",
      "metadata": {
        "id": "mG-SuRdNtrap"
      },
      "source": [
        "## Section 2: Demonstration\n",
        "\n",
        "### Section 2.1: Language Model - Example Query"
      ]
    },
    {
      "cell_type": "markdown",
      "metadata": {
        "id": "PU_T_ReNtrap"
      },
      "source": [
        "Example Query:\n",
        "- Below the 'query' term 'football' has been searched for in the collection of documents to check if the returned documents are appropriate."
      ]
    },
    {
      "cell_type": "code",
      "execution_count": null,
      "metadata": {
        "id": "roDHbfritrap"
      },
      "outputs": [],
      "source": [
        "example_results_lm = es.search(index = 'lm_index_lambda_0p1', query = {'match' : {'doc_text' : 'football'}})['hits']['hits']"
      ]
    },
    {
      "cell_type": "code",
      "execution_count": null,
      "metadata": {
        "colab": {
          "base_uri": "https://localhost:8080/"
        },
        "id": "WasM0dcztraq",
        "outputId": "8539bcf8-3177-4dcb-bea1-9b432e819452"
      },
      "outputs": [
        {
          "data": {
            "text/plain": [
              "{'_id': '1428048',\n",
              " '_index': 'lm_index_lambda_0p1',\n",
              " '_score': 7.6730213,\n",
              " '_source': {'doc_text': 'unqualified the word football normally means the form of football that is the most popular where the word is used sports commonly called football include association football known as soccer in some countries gridiron football specifically american football or canadian football australian rules football rugby football either rugby league or rugby union and gaelic football these various forms of football are known as football codes there are a number of references to traditional ancient or prehistoric ball games played in many different parts of the world contemporary codes of football can be traced back to the codification of these games at english public schools during the nineteenth century the expansion of the british empire allowed these rules of football to spread to areas of british influence outside the directly controlled empire by the end of the nineteenth century distinct regional codes were already developing gaelic football for example deliberately incorporated the rules of local traditional football games in order to maintain their heritage in 1888 the football league was founded in england becoming the first of many professional football competitions during the twentieth century several of the various kinds of football grew to become some of the most popular team'}}"
            ]
          },
          "execution_count": 38,
          "metadata": {},
          "output_type": "execute_result"
        }
      ],
      "source": [
        "example_results_lm[0]"
      ]
    },
    {
      "cell_type": "markdown",
      "metadata": {
        "id": "ilZWlXnptraq"
      },
      "source": [
        "### Section 2.2 - BM25 Model: Example Query"
      ]
    },
    {
      "cell_type": "markdown",
      "metadata": {
        "id": "NGSZ2CGKtraq"
      },
      "source": [
        "Example Query:\n",
        "- Below the 'query' term 'football' has been searched for in the collection of documents to check if the returned documents are appropriate."
      ]
    },
    {
      "cell_type": "code",
      "execution_count": null,
      "metadata": {
        "id": "45wUxvZbtraq"
      },
      "outputs": [],
      "source": [
        "example_results_bm25 = es.search(index = 'bm25_model_index', query = {'match' : {'doc_text' : 'football'}})['hits']['hits']"
      ]
    },
    {
      "cell_type": "code",
      "execution_count": null,
      "metadata": {
        "id": "zQ0Q4zMLGfbX",
        "outputId": "f70e4654-dd63-442d-f30e-f8b27a44dc9c"
      },
      "outputs": [
        {
          "data": {
            "text/plain": [
              "{'_index': 'bm25_model_index',\n",
              " '_id': '1428048',\n",
              " '_score': 6.7784696,\n",
              " '_source': {'doc_text': 'unqualified the word football normally means the form of football that is the most popular where the word is used sports commonly called football include association football known as soccer in some countries gridiron football specifically american football or canadian football australian rules football rugby football either rugby league or rugby union and gaelic football these various forms of football are known as football codes there are a number of references to traditional ancient or prehistoric ball games played in many different parts of the world contemporary codes of football can be traced back to the codification of these games at english public schools during the nineteenth century the expansion of the british empire allowed these rules of football to spread to areas of british influence outside the directly controlled empire by the end of the nineteenth century distinct regional codes were already developing gaelic football for example deliberately incorporated the rules of local traditional football games in order to maintain their heritage in 1888 the football league was founded in england becoming the first of many professional football competitions during the twentieth century several of the various kinds of football grew to become some of the most popular team'}}"
            ]
          },
          "execution_count": 5,
          "metadata": {},
          "output_type": "execute_result"
        }
      ],
      "source": [
        "example_results_bm25[0]\n"
      ]
    },
    {
      "cell_type": "markdown",
      "metadata": {
        "id": "sOoe1BkKtrar"
      },
      "source": [
        "The highest ranked document contains repeated mentions of the term 'football' giving reason for the appearance of this document first."
      ]
    },
    {
      "cell_type": "markdown",
      "metadata": {
        "id": "L6I4TWS1GfbX"
      },
      "source": [
        "In addition to standard 'match', boolean queries will also be searched, a potential example is shown below. Specifying 'should' instead of 'must' is equivalent to enabling an OR logical operator instead of AND, which influence the search results as shown below. For long queries the percentage of query terms required to match a term can be controlled, which will affect the number of documents retrieved as shown below."
      ]
    },
    {
      "cell_type": "code",
      "execution_count": null,
      "metadata": {
        "colab": {
          "base_uri": "https://localhost:8080/"
        },
        "id": "y3Hb4hQZGfbX",
        "outputId": "0db357c5-ea79-4ba7-d9b8-e5949998cae8"
      },
      "outputs": [
        {
          "data": {
            "text/plain": [
              "ObjectApiResponse({'took': 1629, 'timed_out': False, '_shards': {'total': 4, 'successful': 4, 'skipped': 0, 'failed': 0}, 'hits': {'total': {'value': 1, 'relation': 'eq'}, 'max_score': 18.800447, 'hits': [{'_index': 'bm25_model_index', '_id': '1641690', '_score': 18.800447, '_source': {'doc_text': 'the team plays oxford university rfc in the annual varsity match at twickenham stadium every december cambridge players wear light blue and white hooped jerseys with a red lion crest many have gone on to represent their country and the british and irish lions a few most notably dan vickerman james horwill flip van der merwe have represented cambridge after successful international careers while at cambridge university james bevan became the first captain of the wales national rugby union team the curufc stadium is located in west cambridge beside grange road football is believed to have been introduced to cambridge university in 1839 by trinity college fresher albert pell pell had matriculated at cambridge after going up from rugby school where the game of rugby is believed to have originated cambridge university rugby union football club was officially established in 1872 around three years after the oxford rugby club was founded the first varsity match was contested between the two teams on 10 february 1872 the cambridge team was led out by captain isaac cowley lambert wearing pink jerseys with a monogram on the left breast played away at the park in oxford cambridge lost by a single goal to'}}]}})"
            ]
          },
          "execution_count": 41,
          "metadata": {},
          "output_type": "execute_result"
        }
      ],
      "source": [
        "es.search(\n",
        "            index = 'bm25_model_index',\n",
        "            query = {\n",
        "                    'bool' : {\n",
        "                                'must' : [\n",
        "                                                {'term' : {'doc_text' : 'football'}},\n",
        "                                                {'term' : {'doc_text' : 'rugby'}},\n",
        "                                                {'term' : {'doc_text' : 'pink'}}\n",
        "                                                ]\n",
        "                                }\n",
        "                        }\n",
        "            )"
      ]
    },
    {
      "cell_type": "markdown",
      "metadata": {
        "id": "slVC7oNZGfbX"
      },
      "source": [
        "Using the boolean option 'must' (equivalent to specifying AND for all terms in the query) narrowed the search results and found the only article in the training data with the terms 'football, 'rugby' and 'pink'. During evaluation, boolean query results will be reviewed to see how they affect evaluation metrics."
      ]
    },
    {
      "cell_type": "markdown",
      "metadata": {
        "id": "EOKCwx0PNj-B"
      },
      "source": [
        "### Section 2.3 - Tf-idf Model: Example Query"
      ]
    },
    {
      "cell_type": "markdown",
      "metadata": {
        "id": "uK4V9f5mUZn7"
      },
      "source": [
        "Example Query:\n",
        "- Below the 'query' term 'football' has been searched for in the collection of documents to check if the returned documents are appropriate."
      ]
    },
    {
      "cell_type": "code",
      "execution_count": null,
      "metadata": {
        "id": "iifSxFrSUZn7"
      },
      "outputs": [],
      "source": [
        "example_results_tfidf = es.search(index = 'tf_idf', query = {'match' : {'doc_text' : 'football'}})['hits']['hits']"
      ]
    },
    {
      "cell_type": "code",
      "execution_count": null,
      "metadata": {
        "colab": {
          "base_uri": "https://localhost:8080/"
        },
        "id": "clk3gIF_UZn8",
        "outputId": "e63eee3a-0b4c-46aa-9a74-f95bedebfeea"
      },
      "outputs": [
        {
          "data": {
            "text/plain": [
              "{'_id': '1428048',\n",
              " '_index': 'tf_idf',\n",
              " '_score': 81.26891,\n",
              " '_source': {'doc_text': 'unqualified the word football normally means the form of football that is the most popular where the word is used sports commonly called football include association football known as soccer in some countries gridiron football specifically american football or canadian football australian rules football rugby football either rugby league or rugby union and gaelic football these various forms of football are known as football codes there are a number of references to traditional ancient or prehistoric ball games played in many different parts of the world contemporary codes of football can be traced back to the codification of these games at english public schools during the nineteenth century the expansion of the british empire allowed these rules of football to spread to areas of british influence outside the directly controlled empire by the end of the nineteenth century distinct regional codes were already developing gaelic football for example deliberately incorporated the rules of local traditional football games in order to maintain their heritage in 1888 the football league was founded in england becoming the first of many professional football competitions during the twentieth century several of the various kinds of football grew to become some of the most popular team'}}"
            ]
          },
          "execution_count": 40,
          "metadata": {},
          "output_type": "execute_result"
        }
      ],
      "source": [
        "example_results_tfidf[0]"
      ]
    },
    {
      "cell_type": "markdown",
      "metadata": {
        "id": "V6YJI9RZtrar"
      },
      "source": [
        "### Section 2.4 - Demonstration of Search Engine Process (Example - To be adapted for final models)"
      ]
    },
    {
      "cell_type": "markdown",
      "metadata": {
        "id": "Bjh5Dx3-trar"
      },
      "source": [
        "Below a function has been defined to retrieve the top k documents from a specified index given a query."
      ]
    },
    {
      "cell_type": "code",
      "execution_count": null,
      "metadata": {
        "id": "DWDFMZpntrar"
      },
      "outputs": [],
      "source": [
        "def get_top_k_ranked_search_results(\n",
        "                                    query_check,\n",
        "                                    es_index,\n",
        "                                    k,\n",
        "                                    match_type = 'match',\n",
        "                                    boolean_query_option = 'should',\n",
        "                                    minimum_should_match = 1\n",
        "                                    ):\n",
        "    \"\"\"\n",
        "    Show top k ranked documents for a specified query.\n",
        "\n",
        "    Searches specified index and returns top k ranked results in\n",
        "    a Dataframe.\n",
        "\n",
        "    Parameters\n",
        "    ----------\n",
        "    query_check : str\n",
        "        The query being checked.\n",
        "    es_index : str\n",
        "        The elastic search index being checked.\n",
        "    k : int\n",
        "        The number of top of results to return.\n",
        "    match_type : str\n",
        "        Match type to use for the queries, by default 'match'.\n",
        "    boolean_query_option : str\n",
        "        Option specifying how terms in boolean query are matched\n",
        "        such as 'should' or 'must', by default 'should'.\n",
        "    minimum_should_match : int or str\n",
        "        Number of query terms or percentage that should match\n",
        "        terms in the documents if boolean_query_option\n",
        "        is set to 'should' (Elasticsearch Guide [8.1], 2022). If\n",
        "        percentage, should be entered as str e.g. '75%', by default 1.\n",
        "\n",
        "    Returns\n",
        "    -------\n",
        "    pandas.Dataframe\n",
        "        Table containing the the document IDs and similarity scores of\n",
        "        top K ranked documents for the specified query.\n",
        "    \"\"\"\n",
        "    if match_type == 'bool' and boolean_query_option == 'should':\n",
        "        query_terms = query_check.split()\n",
        "        query_given_match_type = {\n",
        "                                    match_type: {\n",
        "                                                boolean_query_option : [\n",
        "                                                                        {'term' : {'doc_text' : term}}\\\n",
        "                                                                        for term in query_terms\n",
        "                                                                        ],\n",
        "                                                'minimum_should_match' : minimum_should_match\n",
        "                                                }\n",
        "                                    }\n",
        "    elif match_type == 'bool' and boolean_query_option == 'must':\n",
        "        query_terms = query_check.split()\n",
        "        query_given_match_type = {\n",
        "                                    match_type: {\n",
        "                                                boolean_query_option : [\n",
        "                                                                        {'term' : {'doc_text' : term}}\\\n",
        "                                                                        for term in query_terms\n",
        "                                                                        ]\n",
        "                                                }\n",
        "                                    }\n",
        "    else:\n",
        "        query_given_match_type  = {match_type : {'doc_text' : query_check}}\n",
        "\n",
        "    es_search_results = es.search(index = es_index, query = query_given_match_type)['hits']['hits']\n",
        "    doc_ids_and_scores = []\n",
        "    query_result_dict = {query_check : doc_ids_and_scores}\n",
        "\n",
        "    for search_result in es_search_results[:k]:\n",
        "        doc_ids_and_scores.append([search_result['_id'], search_result['_score']])\n",
        "\n",
        "    # convert list of lists to an array to be used for a dataframe\n",
        "    query_result_dict[query_check] = np.array(doc_ids_and_scores, ndmin = 2)\n",
        "    print(\"Top Ranked Results for the Query: \\n'{}'\".format(query_check))\n",
        "    return pd.DataFrame(query_result_dict[query_check], columns = ['doc_id', 'similarity_score'])"
      ]
    },
    {
      "cell_type": "markdown",
      "metadata": {
        "id": "EkSnI8udtras"
      },
      "source": [
        "Below an example query 'cooking' has been searched for in each index."
      ]
    },
    {
      "cell_type": "code",
      "execution_count": null,
      "metadata": {
        "id": "E_ekekPMtras",
        "outputId": "7e22d05a-af4a-4f4c-ac34-97f3f816ffef"
      },
      "outputs": [
        {
          "name": "stdout",
          "output_type": "stream",
          "text": [
            "Top Ranked Results for the Query: \n",
            "'cooking'\n"
          ]
        },
        {
          "data": {
            "text/html": [
              "<div>\n",
              "<style scoped>\n",
              "    .dataframe tbody tr th:only-of-type {\n",
              "        vertical-align: middle;\n",
              "    }\n",
              "\n",
              "    .dataframe tbody tr th {\n",
              "        vertical-align: top;\n",
              "    }\n",
              "\n",
              "    .dataframe thead th {\n",
              "        text-align: right;\n",
              "    }\n",
              "</style>\n",
              "<table border=\"1\" class=\"dataframe\">\n",
              "  <thead>\n",
              "    <tr style=\"text-align: right;\">\n",
              "      <th></th>\n",
              "      <th>doc_id</th>\n",
              "      <th>similarity_score</th>\n",
              "    </tr>\n",
              "  </thead>\n",
              "  <tbody>\n",
              "    <tr>\n",
              "      <th>0</th>\n",
              "      <td>2131001</td>\n",
              "      <td>9.771462</td>\n",
              "    </tr>\n",
              "    <tr>\n",
              "      <th>1</th>\n",
              "      <td>515334</td>\n",
              "      <td>9.722675</td>\n",
              "    </tr>\n",
              "    <tr>\n",
              "      <th>2</th>\n",
              "      <td>1503229</td>\n",
              "      <td>9.722204</td>\n",
              "    </tr>\n",
              "    <tr>\n",
              "      <th>3</th>\n",
              "      <td>196153</td>\n",
              "      <td>9.715552</td>\n",
              "    </tr>\n",
              "    <tr>\n",
              "      <th>4</th>\n",
              "      <td>569454</td>\n",
              "      <td>9.670914</td>\n",
              "    </tr>\n",
              "    <tr>\n",
              "      <th>5</th>\n",
              "      <td>1813375</td>\n",
              "      <td>9.649467</td>\n",
              "    </tr>\n",
              "    <tr>\n",
              "      <th>6</th>\n",
              "      <td>1760149</td>\n",
              "      <td>9.548333</td>\n",
              "    </tr>\n",
              "    <tr>\n",
              "      <th>7</th>\n",
              "      <td>428522</td>\n",
              "      <td>9.548333</td>\n",
              "    </tr>\n",
              "    <tr>\n",
              "      <th>8</th>\n",
              "      <td>323126</td>\n",
              "      <td>9.548333</td>\n",
              "    </tr>\n",
              "    <tr>\n",
              "      <th>9</th>\n",
              "      <td>2362275</td>\n",
              "      <td>9.535089</td>\n",
              "    </tr>\n",
              "  </tbody>\n",
              "</table>\n",
              "</div>"
            ],
            "text/plain": [
              "    doc_id similarity_score\n",
              "0  2131001         9.771462\n",
              "1   515334         9.722675\n",
              "2  1503229         9.722204\n",
              "3   196153         9.715552\n",
              "4   569454         9.670914\n",
              "5  1813375         9.649467\n",
              "6  1760149         9.548333\n",
              "7   428522         9.548333\n",
              "8   323126         9.548333\n",
              "9  2362275         9.535089"
            ]
          },
          "execution_count": 50,
          "metadata": {},
          "output_type": "execute_result"
        }
      ],
      "source": [
        "get_top_k_ranked_search_results(query_check = 'cooking', es_index = 'lm_index_lambda_0p1', k = 10)"
      ]
    },
    {
      "cell_type": "markdown",
      "metadata": {
        "id": "FDxTUX33GfbZ"
      },
      "source": [
        "The function below retrieves the text for the top ranked documents (by default it is set to show the highest result alone, but can be adapted to show more). Below, it has been used to show the corresponding text to the the top result's ID."
      ]
    },
    {
      "cell_type": "code",
      "execution_count": null,
      "metadata": {
        "id": "azm51NX3GfbZ"
      },
      "outputs": [],
      "source": [
        "def show_top_search_result_text(\n",
        "                                query_check,\n",
        "                                es_index,\n",
        "                                k = 1,\n",
        "                                match_type = 'match',\n",
        "                                boolean_query_option = 'should',\n",
        "                                minimum_should_match = 1\n",
        "                                ):\n",
        "    \"\"\"\n",
        "    Show text for top search results for query.\n",
        "\n",
        "    Uses the get_top_k_ranked_search_results function and\n",
        "    looks up the corresponding text from documents using\n",
        "    their IDs, which are found in the documents file.\n",
        "\n",
        "    Parameters\n",
        "    ----------\n",
        "    query_check : str\n",
        "        The query being checked.\n",
        "    es_index : str\n",
        "        The elastic search index being checked.\n",
        "    k : int\n",
        "        The number of top of results to return.\n",
        "    match_type : str\n",
        "        Match type to use for the queries, by default 'match'.\n",
        "    boolean_query_option : str\n",
        "        Option specifying how terms in boolean query are matched\n",
        "        such as 'should' or 'must', by default 'should'.\n",
        "    minimum_should_match : int or float\n",
        "        Number of query terms or proportion that should match\n",
        "        terms in the documents if boolean_query_option\n",
        "        is set to 'should', by default 1.\n",
        "\n",
        "    Returns\n",
        "    -------\n",
        "    pandas.Series of Object\n",
        "        document text of top search results for given index\n",
        "        and query.\n",
        "    \"\"\"\n",
        "    docs_file_path = '/content/drive/MyDrive/wikIR1k/documents.csv'\n",
        "    df = get_top_k_ranked_search_results(\n",
        "                                            query_check,\n",
        "                                            es_index,\n",
        "                                            k = k,\n",
        "                                            match_type = match_type,\n",
        "                                            boolean_query_option = boolean_query_option,\n",
        "                                            minimum_should_match = minimum_should_match\n",
        "                                            )\n",
        "\n",
        "    # Update data type of doc_id to int (from str) to match data type of doc_id in documents file.\n",
        "    ids_of_top_docs = df.doc_id.astype({'doc_id' : 'int32'})\n",
        "\n",
        "    return pd.read_csv(docs_file_path, index_col = 'doc_id').loc[ids_of_top_docs, 'doc_text']"
      ]
    },
    {
      "cell_type": "markdown",
      "metadata": {
        "id": "liMxLgyFGfbZ"
      },
      "source": [
        "Example search from the Language Model index:"
      ]
    },
    {
      "cell_type": "code",
      "execution_count": null,
      "metadata": {
        "colab": {
          "base_uri": "https://localhost:8080/",
          "height": 226
        },
        "id": "4tDFxg3CGfba",
        "outputId": "8b01b17b-d869-45a0-f6d9-b9463d0f2b72"
      },
      "outputs": [
        {
          "name": "stdout",
          "output_type": "stream",
          "text": [
            "Top Ranked Results for the Query: \n",
            "'cooking'\n"
          ]
        },
        {
          "data": {
            "application/vnd.google.colaboratory.intrinsic+json": {
              "type": "string"
            },
            "text/plain": [
              "'he has been a michelin starred chef since 1990 his light and colorful cooking is permeated with north south mixtures thanks to his european and asiatic career according to him cooking is done with eco friendly and healthy products it needs to be shared he has written in magazines and english newspapers published books and hosted cooking shows on the bbc daniel galmiche loves cooking since its earliest years this love appeared through healthy and natural products from his grandparents farm from hunting with his father as well as fragrances from his mother cooking he apprenticed at the gourmet restaurant of chef yves lalloz luxeuil les bains he improved his work in la napoule in the south of france then abroad in sweden singapore and portugal in 1977 daniel galmiche practised in london with the help of the great french chef michel roux he was elected chef of the 1987 1988 season in scotland during the 1989 1990 season he got the michelin star at knockingam lodge hotel he joined the harveys bristol restaurant in 1996 and the ortolan in 2002 where he both maintains the michelin starred title two years later he was the great chef at cliveden house'"
            ]
          },
          "execution_count": 26,
          "metadata": {},
          "output_type": "execute_result"
        }
      ],
      "source": [
        "show_top_search_result_text(query_check = 'cooking', es_index = 'lm_index_lambda_0p1', match_type = 'match').item()"
      ]
    },
    {
      "cell_type": "markdown",
      "metadata": {
        "id": "CbL_2LDcGfba"
      },
      "source": [
        "> When k  is set to 1, the .item() function can be used with the returned output to show full text of the document in first position of the query results."
      ]
    },
    {
      "cell_type": "markdown",
      "metadata": {
        "id": "-p1sD3wcGfba"
      },
      "source": [
        "Example search from the BM25 index:"
      ]
    },
    {
      "cell_type": "code",
      "execution_count": null,
      "metadata": {
        "id": "2Si7pQhrGfba",
        "outputId": "a157e6c4-4be9-4836-d2a4-4cde19736380"
      },
      "outputs": [
        {
          "name": "stdout",
          "output_type": "stream",
          "text": [
            "Top Ranked Results for the Query: \n",
            "'cooking'\n"
          ]
        },
        {
          "data": {
            "text/plain": [
              "'he has been a michelin starred chef since 1990 his light and colorful cooking is permeated with north south mixtures thanks to his european and asiatic career according to him cooking is done with eco friendly and healthy products it needs to be shared he has written in magazines and english newspapers published books and hosted cooking shows on the bbc daniel galmiche loves cooking since its earliest years this love appeared through healthy and natural products from his grandparents farm from hunting with his father as well as fragrances from his mother cooking he apprenticed at the gourmet restaurant of chef yves lalloz luxeuil les bains he improved his work in la napoule in the south of france then abroad in sweden singapore and portugal in 1977 daniel galmiche practised in london with the help of the great french chef michel roux he was elected chef of the 1987 1988 season in scotland during the 1989 1990 season he got the michelin star at knockingam lodge hotel he joined the harveys bristol restaurant in 1996 and the ortolan in 2002 where he both maintains the michelin starred title two years later he was the great chef at cliveden house'"
            ]
          },
          "execution_count": 53,
          "metadata": {},
          "output_type": "execute_result"
        }
      ],
      "source": [
        "show_top_search_result_text(query_check = 'cooking', es_index = 'bm25_model_index', match_type = 'match').item()"
      ]
    },
    {
      "cell_type": "markdown",
      "metadata": {
        "id": "Q45wKocgtrat"
      },
      "source": [
        "The language model and BM25 model retrieved the same document in first position for the query cooking, demonstrating similarities of interpretations of what is relevant. This may change based on the match type and hyperparameters of the index, which is addressed in the following sections."
      ]
    },
    {
      "cell_type": "markdown",
      "metadata": {
        "id": "Lh1rKgS5Gfba"
      },
      "source": [
        "An example boolean query is shown below."
      ]
    },
    {
      "cell_type": "code",
      "execution_count": null,
      "metadata": {
        "id": "LinpOmAVGfbb",
        "outputId": "7e22d05a-af4a-4f4c-ac34-97f3f816ffef"
      },
      "outputs": [
        {
          "name": "stdout",
          "output_type": "stream",
          "text": [
            "Top Ranked Results for the Query: \n",
            "'rugby football pink'\n"
          ]
        },
        {
          "data": {
            "text/plain": [
              "doc_id\n",
              "1641690    the team plays oxford university rfc in the an...\n",
              "10792      rugby split into two sports in 1895 when twent...\n",
              "1473373    aside from american football rugby league is t...\n",
              "1648428    a second code clash featuring st helens and sa...\n",
              "308356     although the cfl was not founded until 1958 th...\n",
              "228325     it was officially constituted in 1949 and is a...\n",
              "454183     although the cfl was not founded until 1958 th...\n",
              "1252899    it began in australia in 1907 when the new sou...\n",
              "781668     their senior representative team compete in th...\n",
              "530425     thomas rugby football club gkt is the name giv...\n",
              "Name: doc_text, dtype: object"
            ]
          },
          "execution_count": 58,
          "metadata": {},
          "output_type": "execute_result"
        }
      ],
      "source": [
        "show_top_search_result_text(\n",
        "                                query_check = 'rugby football pink',\n",
        "                                es_index = 'bm25_model_index',\n",
        "                                k = 10,\n",
        "                                match_type = 'bool',\n",
        "                                boolean_query_option = 'should',\n",
        "                                minimum_should_match = '60%'\n",
        "                                )"
      ]
    },
    {
      "cell_type": "markdown",
      "metadata": {
        "id": "HAe719yJGfbb"
      },
      "source": [
        "> entering 'minimum_should_match' as '100%' is equivalent to entering 'must' as the boolean option, which corresponds to using AND in the query for all terms."
      ]
    },
    {
      "cell_type": "markdown",
      "metadata": {
        "id": "9YhCZKgUGfbb"
      },
      "source": [
        "## Section 3 - Importing Queries - Training Data"
      ]
    },
    {
      "cell_type": "markdown",
      "metadata": {
        "id": "7psVmUx5Gfbb"
      },
      "source": [
        "### Section 3.1 -  All Queries"
      ]
    },
    {
      "cell_type": "markdown",
      "metadata": {
        "id": "wlMIah2Strat"
      },
      "source": [
        "#### Importing Queries From Training Data"
      ]
    },
    {
      "cell_type": "code",
      "execution_count": null,
      "metadata": {
        "id": "4tWCfPYYtrat"
      },
      "outputs": [],
      "source": [
        "qrels_df  = pd.read_csv('/content/drive/MyDrive/wikIR1k/training/training_qrels.csv', index_col = 'query_id'\n",
        ")\n",
        "queries_df = pd.read_csv('/content/drive/MyDrive/wikIR1k/training/training_queries.csv', index_col = 'query_id'\n",
        "                         )"
      ]
    },
    {
      "cell_type": "markdown",
      "metadata": {
        "id": "XMdJqo3otrau"
      },
      "source": [
        "Query Relevance Scores (Ground Truths)"
      ]
    },
    {
      "cell_type": "code",
      "execution_count": null,
      "metadata": {
        "colab": {
          "base_uri": "https://localhost:8080/",
          "height": 237
        },
        "id": "_Js-Z9D1trau",
        "outputId": "9d9eb433-0c34-4c26-ea87-53071d0a1583"
      },
      "outputs": [
        {
          "data": {
            "text/html": [
              "\n",
              "  <div id=\"df-0e79a1f6-1517-4f45-956f-da9408e6b7ff\">\n",
              "    <div class=\"colab-df-container\">\n",
              "      <div>\n",
              "<style scoped>\n",
              "    .dataframe tbody tr th:only-of-type {\n",
              "        vertical-align: middle;\n",
              "    }\n",
              "\n",
              "    .dataframe tbody tr th {\n",
              "        vertical-align: top;\n",
              "    }\n",
              "\n",
              "    .dataframe thead th {\n",
              "        text-align: right;\n",
              "    }\n",
              "</style>\n",
              "<table border=\"1\" class=\"dataframe\">\n",
              "  <thead>\n",
              "    <tr style=\"text-align: right;\">\n",
              "      <th></th>\n",
              "      <th>doc_id</th>\n",
              "      <th>doc_relevance_given_query</th>\n",
              "    </tr>\n",
              "    <tr>\n",
              "      <th>query_id</th>\n",
              "      <th></th>\n",
              "      <th></th>\n",
              "    </tr>\n",
              "  </thead>\n",
              "  <tbody>\n",
              "    <tr>\n",
              "      <th>123839</th>\n",
              "      <td>123839</td>\n",
              "      <td>2</td>\n",
              "    </tr>\n",
              "    <tr>\n",
              "      <th>123839</th>\n",
              "      <td>1793430</td>\n",
              "      <td>1</td>\n",
              "    </tr>\n",
              "    <tr>\n",
              "      <th>123839</th>\n",
              "      <td>806300</td>\n",
              "      <td>1</td>\n",
              "    </tr>\n",
              "    <tr>\n",
              "      <th>123839</th>\n",
              "      <td>806075</td>\n",
              "      <td>1</td>\n",
              "    </tr>\n",
              "    <tr>\n",
              "      <th>123839</th>\n",
              "      <td>836567</td>\n",
              "      <td>1</td>\n",
              "    </tr>\n",
              "  </tbody>\n",
              "</table>\n",
              "</div>\n",
              "      <button class=\"colab-df-convert\" onclick=\"convertToInteractive('df-0e79a1f6-1517-4f45-956f-da9408e6b7ff')\"\n",
              "              title=\"Convert this dataframe to an interactive table.\"\n",
              "              style=\"display:none;\">\n",
              "        \n",
              "  <svg xmlns=\"http://www.w3.org/2000/svg\" height=\"24px\"viewBox=\"0 0 24 24\"\n",
              "       width=\"24px\">\n",
              "    <path d=\"M0 0h24v24H0V0z\" fill=\"none\"/>\n",
              "    <path d=\"M18.56 5.44l.94 2.06.94-2.06 2.06-.94-2.06-.94-.94-2.06-.94 2.06-2.06.94zm-11 1L8.5 8.5l.94-2.06 2.06-.94-2.06-.94L8.5 2.5l-.94 2.06-2.06.94zm10 10l.94 2.06.94-2.06 2.06-.94-2.06-.94-.94-2.06-.94 2.06-2.06.94z\"/><path d=\"M17.41 7.96l-1.37-1.37c-.4-.4-.92-.59-1.43-.59-.52 0-1.04.2-1.43.59L10.3 9.45l-7.72 7.72c-.78.78-.78 2.05 0 2.83L4 21.41c.39.39.9.59 1.41.59.51 0 1.02-.2 1.41-.59l7.78-7.78 2.81-2.81c.8-.78.8-2.07 0-2.86zM5.41 20L4 18.59l7.72-7.72 1.47 1.35L5.41 20z\"/>\n",
              "  </svg>\n",
              "      </button>\n",
              "      \n",
              "  <style>\n",
              "    .colab-df-container {\n",
              "      display:flex;\n",
              "      flex-wrap:wrap;\n",
              "      gap: 12px;\n",
              "    }\n",
              "\n",
              "    .colab-df-convert {\n",
              "      background-color: #E8F0FE;\n",
              "      border: none;\n",
              "      border-radius: 50%;\n",
              "      cursor: pointer;\n",
              "      display: none;\n",
              "      fill: #1967D2;\n",
              "      height: 32px;\n",
              "      padding: 0 0 0 0;\n",
              "      width: 32px;\n",
              "    }\n",
              "\n",
              "    .colab-df-convert:hover {\n",
              "      background-color: #E2EBFA;\n",
              "      box-shadow: 0px 1px 2px rgba(60, 64, 67, 0.3), 0px 1px 3px 1px rgba(60, 64, 67, 0.15);\n",
              "      fill: #174EA6;\n",
              "    }\n",
              "\n",
              "    [theme=dark] .colab-df-convert {\n",
              "      background-color: #3B4455;\n",
              "      fill: #D2E3FC;\n",
              "    }\n",
              "\n",
              "    [theme=dark] .colab-df-convert:hover {\n",
              "      background-color: #434B5C;\n",
              "      box-shadow: 0px 1px 3px 1px rgba(0, 0, 0, 0.15);\n",
              "      filter: drop-shadow(0px 1px 2px rgba(0, 0, 0, 0.3));\n",
              "      fill: #FFFFFF;\n",
              "    }\n",
              "  </style>\n",
              "\n",
              "      <script>\n",
              "        const buttonEl =\n",
              "          document.querySelector('#df-0e79a1f6-1517-4f45-956f-da9408e6b7ff button.colab-df-convert');\n",
              "        buttonEl.style.display =\n",
              "          google.colab.kernel.accessAllowed ? 'block' : 'none';\n",
              "\n",
              "        async function convertToInteractive(key) {\n",
              "          const element = document.querySelector('#df-0e79a1f6-1517-4f45-956f-da9408e6b7ff');\n",
              "          const dataTable =\n",
              "            await google.colab.kernel.invokeFunction('convertToInteractive',\n",
              "                                                     [key], {});\n",
              "          if (!dataTable) return;\n",
              "\n",
              "          const docLinkHtml = 'Like what you see? Visit the ' +\n",
              "            '<a target=\"_blank\" href=https://colab.research.google.com/notebooks/data_table.ipynb>data table notebook</a>'\n",
              "            + ' to learn more about interactive tables.';\n",
              "          element.innerHTML = '';\n",
              "          dataTable['output_type'] = 'display_data';\n",
              "          await google.colab.output.renderOutput(dataTable, element);\n",
              "          const docLink = document.createElement('div');\n",
              "          docLink.innerHTML = docLinkHtml;\n",
              "          element.appendChild(docLink);\n",
              "        }\n",
              "      </script>\n",
              "    </div>\n",
              "  </div>\n",
              "  "
            ],
            "text/plain": [
              "           doc_id  doc_relevance_given_query\n",
              "query_id                                    \n",
              "123839     123839                          2\n",
              "123839    1793430                          1\n",
              "123839     806300                          1\n",
              "123839     806075                          1\n",
              "123839     836567                          1"
            ]
          },
          "execution_count": 14,
          "metadata": {},
          "output_type": "execute_result"
        }
      ],
      "source": [
        "qrels_df.head()"
      ]
    },
    {
      "cell_type": "code",
      "execution_count": null,
      "metadata": {
        "colab": {
          "base_uri": "https://localhost:8080/",
          "height": 237
        },
        "id": "0C06K0gjtrau",
        "outputId": "6f325c66-6f73-48e4-a285-3ee3ee6b752e"
      },
      "outputs": [
        {
          "data": {
            "text/html": [
              "\n",
              "  <div id=\"df-2e42a8d5-6da2-4c80-99f8-4afcac276724\">\n",
              "    <div class=\"colab-df-container\">\n",
              "      <div>\n",
              "<style scoped>\n",
              "    .dataframe tbody tr th:only-of-type {\n",
              "        vertical-align: middle;\n",
              "    }\n",
              "\n",
              "    .dataframe tbody tr th {\n",
              "        vertical-align: top;\n",
              "    }\n",
              "\n",
              "    .dataframe thead th {\n",
              "        text-align: right;\n",
              "    }\n",
              "</style>\n",
              "<table border=\"1\" class=\"dataframe\">\n",
              "  <thead>\n",
              "    <tr style=\"text-align: right;\">\n",
              "      <th></th>\n",
              "      <th>query_text</th>\n",
              "    </tr>\n",
              "    <tr>\n",
              "      <th>query_id</th>\n",
              "      <th></th>\n",
              "    </tr>\n",
              "  </thead>\n",
              "  <tbody>\n",
              "    <tr>\n",
              "      <th>123839</th>\n",
              "      <td>yanni</td>\n",
              "    </tr>\n",
              "    <tr>\n",
              "      <th>188629</th>\n",
              "      <td>k pop</td>\n",
              "    </tr>\n",
              "    <tr>\n",
              "      <th>13898</th>\n",
              "      <td>venice film festival</td>\n",
              "    </tr>\n",
              "    <tr>\n",
              "      <th>316959</th>\n",
              "      <td>downtown brooklyn</td>\n",
              "    </tr>\n",
              "    <tr>\n",
              "      <th>515031</th>\n",
              "      <td>pennsylvania house of representatives</td>\n",
              "    </tr>\n",
              "  </tbody>\n",
              "</table>\n",
              "</div>\n",
              "      <button class=\"colab-df-convert\" onclick=\"convertToInteractive('df-2e42a8d5-6da2-4c80-99f8-4afcac276724')\"\n",
              "              title=\"Convert this dataframe to an interactive table.\"\n",
              "              style=\"display:none;\">\n",
              "        \n",
              "  <svg xmlns=\"http://www.w3.org/2000/svg\" height=\"24px\"viewBox=\"0 0 24 24\"\n",
              "       width=\"24px\">\n",
              "    <path d=\"M0 0h24v24H0V0z\" fill=\"none\"/>\n",
              "    <path d=\"M18.56 5.44l.94 2.06.94-2.06 2.06-.94-2.06-.94-.94-2.06-.94 2.06-2.06.94zm-11 1L8.5 8.5l.94-2.06 2.06-.94-2.06-.94L8.5 2.5l-.94 2.06-2.06.94zm10 10l.94 2.06.94-2.06 2.06-.94-2.06-.94-.94-2.06-.94 2.06-2.06.94z\"/><path d=\"M17.41 7.96l-1.37-1.37c-.4-.4-.92-.59-1.43-.59-.52 0-1.04.2-1.43.59L10.3 9.45l-7.72 7.72c-.78.78-.78 2.05 0 2.83L4 21.41c.39.39.9.59 1.41.59.51 0 1.02-.2 1.41-.59l7.78-7.78 2.81-2.81c.8-.78.8-2.07 0-2.86zM5.41 20L4 18.59l7.72-7.72 1.47 1.35L5.41 20z\"/>\n",
              "  </svg>\n",
              "      </button>\n",
              "      \n",
              "  <style>\n",
              "    .colab-df-container {\n",
              "      display:flex;\n",
              "      flex-wrap:wrap;\n",
              "      gap: 12px;\n",
              "    }\n",
              "\n",
              "    .colab-df-convert {\n",
              "      background-color: #E8F0FE;\n",
              "      border: none;\n",
              "      border-radius: 50%;\n",
              "      cursor: pointer;\n",
              "      display: none;\n",
              "      fill: #1967D2;\n",
              "      height: 32px;\n",
              "      padding: 0 0 0 0;\n",
              "      width: 32px;\n",
              "    }\n",
              "\n",
              "    .colab-df-convert:hover {\n",
              "      background-color: #E2EBFA;\n",
              "      box-shadow: 0px 1px 2px rgba(60, 64, 67, 0.3), 0px 1px 3px 1px rgba(60, 64, 67, 0.15);\n",
              "      fill: #174EA6;\n",
              "    }\n",
              "\n",
              "    [theme=dark] .colab-df-convert {\n",
              "      background-color: #3B4455;\n",
              "      fill: #D2E3FC;\n",
              "    }\n",
              "\n",
              "    [theme=dark] .colab-df-convert:hover {\n",
              "      background-color: #434B5C;\n",
              "      box-shadow: 0px 1px 3px 1px rgba(0, 0, 0, 0.15);\n",
              "      filter: drop-shadow(0px 1px 2px rgba(0, 0, 0, 0.3));\n",
              "      fill: #FFFFFF;\n",
              "    }\n",
              "  </style>\n",
              "\n",
              "      <script>\n",
              "        const buttonEl =\n",
              "          document.querySelector('#df-2e42a8d5-6da2-4c80-99f8-4afcac276724 button.colab-df-convert');\n",
              "        buttonEl.style.display =\n",
              "          google.colab.kernel.accessAllowed ? 'block' : 'none';\n",
              "\n",
              "        async function convertToInteractive(key) {\n",
              "          const element = document.querySelector('#df-2e42a8d5-6da2-4c80-99f8-4afcac276724');\n",
              "          const dataTable =\n",
              "            await google.colab.kernel.invokeFunction('convertToInteractive',\n",
              "                                                     [key], {});\n",
              "          if (!dataTable) return;\n",
              "\n",
              "          const docLinkHtml = 'Like what you see? Visit the ' +\n",
              "            '<a target=\"_blank\" href=https://colab.research.google.com/notebooks/data_table.ipynb>data table notebook</a>'\n",
              "            + ' to learn more about interactive tables.';\n",
              "          element.innerHTML = '';\n",
              "          dataTable['output_type'] = 'display_data';\n",
              "          await google.colab.output.renderOutput(dataTable, element);\n",
              "          const docLink = document.createElement('div');\n",
              "          docLink.innerHTML = docLinkHtml;\n",
              "          element.appendChild(docLink);\n",
              "        }\n",
              "      </script>\n",
              "    </div>\n",
              "  </div>\n",
              "  "
            ],
            "text/plain": [
              "                                     query_text\n",
              "query_id                                       \n",
              "123839                                    yanni\n",
              "188629                                    k pop\n",
              "13898                      venice film festival\n",
              "316959                        downtown brooklyn\n",
              "515031    pennsylvania house of representatives"
            ]
          },
          "execution_count": 15,
          "metadata": {},
          "output_type": "execute_result"
        }
      ],
      "source": [
        "queries_df.head()"
      ]
    },
    {
      "cell_type": "markdown",
      "metadata": {
        "id": "UiOc3ECbGfbc"
      },
      "source": [
        "### Section 3.2 - Query Length Distribution"
      ]
    },
    {
      "cell_type": "markdown",
      "metadata": {
        "id": "iY0BORQ8Gfbc"
      },
      "source": [
        "To see how queries of different lengths may affect the retrieval of relevant documents, below, queries have been categorised by their length."
      ]
    },
    {
      "cell_type": "code",
      "execution_count": null,
      "metadata": {
        "colab": {
          "base_uri": "https://localhost:8080/",
          "height": 237
        },
        "id": "CdEBbH6PGfbd",
        "outputId": "561c57be-4d80-490c-a9d9-b72b2dec4eef"
      },
      "outputs": [
        {
          "data": {
            "text/html": [
              "\n",
              "  <div id=\"df-40706c53-c5aa-498c-a562-4ea24240bedf\">\n",
              "    <div class=\"colab-df-container\">\n",
              "      <div>\n",
              "<style scoped>\n",
              "    .dataframe tbody tr th:only-of-type {\n",
              "        vertical-align: middle;\n",
              "    }\n",
              "\n",
              "    .dataframe tbody tr th {\n",
              "        vertical-align: top;\n",
              "    }\n",
              "\n",
              "    .dataframe thead th {\n",
              "        text-align: right;\n",
              "    }\n",
              "</style>\n",
              "<table border=\"1\" class=\"dataframe\">\n",
              "  <thead>\n",
              "    <tr style=\"text-align: right;\">\n",
              "      <th></th>\n",
              "      <th>query_text</th>\n",
              "      <th>query_length</th>\n",
              "    </tr>\n",
              "    <tr>\n",
              "      <th>query_id</th>\n",
              "      <th></th>\n",
              "      <th></th>\n",
              "    </tr>\n",
              "  </thead>\n",
              "  <tbody>\n",
              "    <tr>\n",
              "      <th>123839</th>\n",
              "      <td>yanni</td>\n",
              "      <td>1</td>\n",
              "    </tr>\n",
              "    <tr>\n",
              "      <th>188629</th>\n",
              "      <td>k pop</td>\n",
              "      <td>2</td>\n",
              "    </tr>\n",
              "    <tr>\n",
              "      <th>13898</th>\n",
              "      <td>venice film festival</td>\n",
              "      <td>3</td>\n",
              "    </tr>\n",
              "    <tr>\n",
              "      <th>316959</th>\n",
              "      <td>downtown brooklyn</td>\n",
              "      <td>2</td>\n",
              "    </tr>\n",
              "    <tr>\n",
              "      <th>515031</th>\n",
              "      <td>pennsylvania house of representatives</td>\n",
              "      <td>4</td>\n",
              "    </tr>\n",
              "  </tbody>\n",
              "</table>\n",
              "</div>\n",
              "      <button class=\"colab-df-convert\" onclick=\"convertToInteractive('df-40706c53-c5aa-498c-a562-4ea24240bedf')\"\n",
              "              title=\"Convert this dataframe to an interactive table.\"\n",
              "              style=\"display:none;\">\n",
              "        \n",
              "  <svg xmlns=\"http://www.w3.org/2000/svg\" height=\"24px\"viewBox=\"0 0 24 24\"\n",
              "       width=\"24px\">\n",
              "    <path d=\"M0 0h24v24H0V0z\" fill=\"none\"/>\n",
              "    <path d=\"M18.56 5.44l.94 2.06.94-2.06 2.06-.94-2.06-.94-.94-2.06-.94 2.06-2.06.94zm-11 1L8.5 8.5l.94-2.06 2.06-.94-2.06-.94L8.5 2.5l-.94 2.06-2.06.94zm10 10l.94 2.06.94-2.06 2.06-.94-2.06-.94-.94-2.06-.94 2.06-2.06.94z\"/><path d=\"M17.41 7.96l-1.37-1.37c-.4-.4-.92-.59-1.43-.59-.52 0-1.04.2-1.43.59L10.3 9.45l-7.72 7.72c-.78.78-.78 2.05 0 2.83L4 21.41c.39.39.9.59 1.41.59.51 0 1.02-.2 1.41-.59l7.78-7.78 2.81-2.81c.8-.78.8-2.07 0-2.86zM5.41 20L4 18.59l7.72-7.72 1.47 1.35L5.41 20z\"/>\n",
              "  </svg>\n",
              "      </button>\n",
              "      \n",
              "  <style>\n",
              "    .colab-df-container {\n",
              "      display:flex;\n",
              "      flex-wrap:wrap;\n",
              "      gap: 12px;\n",
              "    }\n",
              "\n",
              "    .colab-df-convert {\n",
              "      background-color: #E8F0FE;\n",
              "      border: none;\n",
              "      border-radius: 50%;\n",
              "      cursor: pointer;\n",
              "      display: none;\n",
              "      fill: #1967D2;\n",
              "      height: 32px;\n",
              "      padding: 0 0 0 0;\n",
              "      width: 32px;\n",
              "    }\n",
              "\n",
              "    .colab-df-convert:hover {\n",
              "      background-color: #E2EBFA;\n",
              "      box-shadow: 0px 1px 2px rgba(60, 64, 67, 0.3), 0px 1px 3px 1px rgba(60, 64, 67, 0.15);\n",
              "      fill: #174EA6;\n",
              "    }\n",
              "\n",
              "    [theme=dark] .colab-df-convert {\n",
              "      background-color: #3B4455;\n",
              "      fill: #D2E3FC;\n",
              "    }\n",
              "\n",
              "    [theme=dark] .colab-df-convert:hover {\n",
              "      background-color: #434B5C;\n",
              "      box-shadow: 0px 1px 3px 1px rgba(0, 0, 0, 0.15);\n",
              "      filter: drop-shadow(0px 1px 2px rgba(0, 0, 0, 0.3));\n",
              "      fill: #FFFFFF;\n",
              "    }\n",
              "  </style>\n",
              "\n",
              "      <script>\n",
              "        const buttonEl =\n",
              "          document.querySelector('#df-40706c53-c5aa-498c-a562-4ea24240bedf button.colab-df-convert');\n",
              "        buttonEl.style.display =\n",
              "          google.colab.kernel.accessAllowed ? 'block' : 'none';\n",
              "\n",
              "        async function convertToInteractive(key) {\n",
              "          const element = document.querySelector('#df-40706c53-c5aa-498c-a562-4ea24240bedf');\n",
              "          const dataTable =\n",
              "            await google.colab.kernel.invokeFunction('convertToInteractive',\n",
              "                                                     [key], {});\n",
              "          if (!dataTable) return;\n",
              "\n",
              "          const docLinkHtml = 'Like what you see? Visit the ' +\n",
              "            '<a target=\"_blank\" href=https://colab.research.google.com/notebooks/data_table.ipynb>data table notebook</a>'\n",
              "            + ' to learn more about interactive tables.';\n",
              "          element.innerHTML = '';\n",
              "          dataTable['output_type'] = 'display_data';\n",
              "          await google.colab.output.renderOutput(dataTable, element);\n",
              "          const docLink = document.createElement('div');\n",
              "          docLink.innerHTML = docLinkHtml;\n",
              "          element.appendChild(docLink);\n",
              "        }\n",
              "      </script>\n",
              "    </div>\n",
              "  </div>\n",
              "  "
            ],
            "text/plain": [
              "                                     query_text  query_length\n",
              "query_id                                                     \n",
              "123839                                    yanni             1\n",
              "188629                                    k pop             2\n",
              "13898                      venice film festival             3\n",
              "316959                        downtown brooklyn             2\n",
              "515031    pennsylvania house of representatives             4"
            ]
          },
          "execution_count": 17,
          "metadata": {},
          "output_type": "execute_result"
        }
      ],
      "source": [
        "# Remove whitespace from the beginning and end of a string\n",
        "queries_df = queries_df.apply(lambda x: x.str.strip() if x.dtype == \"object\" else x)\n",
        "# count words and add as column\n",
        "queries_df['query_length']  = queries_df['query_text'].apply(lambda x: len(x.split()))\n",
        "queries_df.head()"
      ]
    },
    {
      "cell_type": "code",
      "execution_count": null,
      "metadata": {
        "colab": {
          "base_uri": "https://localhost:8080/",
          "height": 299
        },
        "id": "Ucxb5pcUH_No",
        "outputId": "6011cf77-7220-4551-8a9f-8002b922ee84"
      },
      "outputs": [
        {
          "data": {
            "text/plain": [
              "Text(0, 0.5, 'Number of Queries')"
            ]
          },
          "execution_count": 19,
          "metadata": {},
          "output_type": "execute_result"
        },
        {
          "data": {
            "image/png": "[encoded data removed]",
            "text/plain": [
              "<Figure size 432x288 with 1 Axes>"
            ]
          },
          "metadata": {
            "needs_background": "light"
          },
          "output_type": "display_data"
        }
      ],
      "source": [
        "ax = queries_df['query_length'].hist()\n",
        "ax.set_xlabel(\"Query Length (terms)\")\n",
        "ax.set_ylabel(\"Number of Queries\")"
      ]
    },
    {
      "cell_type": "code",
      "execution_count": null,
      "metadata": {
        "colab": {
          "base_uri": "https://localhost:8080/"
        },
        "id": "LdoK3Z_PGfbd",
        "outputId": "809d397b-4881-4f3a-bea3-a7bc6bc144cf"
      },
      "outputs": [
        {
          "data": {
            "text/plain": [
              "count    1444.000000\n",
              "mean        2.187673\n",
              "std         1.187291\n",
              "min         1.000000\n",
              "25%         1.000000\n",
              "50%         2.000000\n",
              "75%         3.000000\n",
              "max        10.000000\n",
              "Name: query_length, dtype: float64"
            ]
          },
          "execution_count": 20,
          "metadata": {},
          "output_type": "execute_result"
        }
      ],
      "source": [
        "queries_df.query_length.describe()"
      ]
    },
    {
      "cell_type": "markdown",
      "metadata": {
        "id": "Vd7g5V5_Gfbd"
      },
      "source": [
        "From the table and histogram below, it is clear the majority of queries are 3 words long or shorter."
      ]
    },
    {
      "cell_type": "markdown",
      "metadata": {
        "id": "fVNRS7LIC-s_"
      },
      "source": [
        "### Section 3.3 - Document Length Distribution\n",
        "\n",
        "In this section we'll take a look at the distribution of document lengths since the BM25 and TF-IDF models incorporate document normalization techniques."
      ]
    },
    {
      "cell_type": "code",
      "execution_count": null,
      "metadata": {
        "colab": {
          "base_uri": "https://localhost:8080/",
          "height": 206
        },
        "id": "r45Y8GLRDCsy",
        "outputId": "00b50f3a-cef3-4f2f-e253-2724dd41cf06"
      },
      "outputs": [
        {
          "data": {
            "text/html": [
              "\n",
              "  <div id=\"df-c7727b1e-9160-438c-a333-34fe43bbce01\">\n",
              "    <div class=\"colab-df-container\">\n",
              "      <div>\n",
              "<style scoped>\n",
              "    .dataframe tbody tr th:only-of-type {\n",
              "        vertical-align: middle;\n",
              "    }\n",
              "\n",
              "    .dataframe tbody tr th {\n",
              "        vertical-align: top;\n",
              "    }\n",
              "\n",
              "    .dataframe thead th {\n",
              "        text-align: right;\n",
              "    }\n",
              "</style>\n",
              "<table border=\"1\" class=\"dataframe\">\n",
              "  <thead>\n",
              "    <tr style=\"text-align: right;\">\n",
              "      <th></th>\n",
              "      <th>doc_id</th>\n",
              "      <th>doc_text</th>\n",
              "    </tr>\n",
              "  </thead>\n",
              "  <tbody>\n",
              "    <tr>\n",
              "      <th>0</th>\n",
              "      <td>2222141</td>\n",
              "      <td>boat lift consists of the outer harbor the bot...</td>\n",
              "    </tr>\n",
              "    <tr>\n",
              "      <th>1</th>\n",
              "      <td>1466972</td>\n",
              "      <td>one highlight is its collection of fijnschilde...</td>\n",
              "    </tr>\n",
              "    <tr>\n",
              "      <th>2</th>\n",
              "      <td>1218994</td>\n",
              "      <td>their objective was to eliminate the presence ...</td>\n",
              "    </tr>\n",
              "    <tr>\n",
              "      <th>3</th>\n",
              "      <td>2087053</td>\n",
              "      <td>he was elected to basar constituency in the ye...</td>\n",
              "    </tr>\n",
              "    <tr>\n",
              "      <th>4</th>\n",
              "      <td>833090</td>\n",
              "      <td>developed from the earlier blue bonnet dating ...</td>\n",
              "    </tr>\n",
              "  </tbody>\n",
              "</table>\n",
              "</div>\n",
              "      <button class=\"colab-df-convert\" onclick=\"convertToInteractive('df-c7727b1e-9160-438c-a333-34fe43bbce01')\"\n",
              "              title=\"Convert this dataframe to an interactive table.\"\n",
              "              style=\"display:none;\">\n",
              "        \n",
              "  <svg xmlns=\"http://www.w3.org/2000/svg\" height=\"24px\"viewBox=\"0 0 24 24\"\n",
              "       width=\"24px\">\n",
              "    <path d=\"M0 0h24v24H0V0z\" fill=\"none\"/>\n",
              "    <path d=\"M18.56 5.44l.94 2.06.94-2.06 2.06-.94-2.06-.94-.94-2.06-.94 2.06-2.06.94zm-11 1L8.5 8.5l.94-2.06 2.06-.94-2.06-.94L8.5 2.5l-.94 2.06-2.06.94zm10 10l.94 2.06.94-2.06 2.06-.94-2.06-.94-.94-2.06-.94 2.06-2.06.94z\"/><path d=\"M17.41 7.96l-1.37-1.37c-.4-.4-.92-.59-1.43-.59-.52 0-1.04.2-1.43.59L10.3 9.45l-7.72 7.72c-.78.78-.78 2.05 0 2.83L4 21.41c.39.39.9.59 1.41.59.51 0 1.02-.2 1.41-.59l7.78-7.78 2.81-2.81c.8-.78.8-2.07 0-2.86zM5.41 20L4 18.59l7.72-7.72 1.47 1.35L5.41 20z\"/>\n",
              "  </svg>\n",
              "      </button>\n",
              "      \n",
              "  <style>\n",
              "    .colab-df-container {\n",
              "      display:flex;\n",
              "      flex-wrap:wrap;\n",
              "      gap: 12px;\n",
              "    }\n",
              "\n",
              "    .colab-df-convert {\n",
              "      background-color: #E8F0FE;\n",
              "      border: none;\n",
              "      border-radius: 50%;\n",
              "      cursor: pointer;\n",
              "      display: none;\n",
              "      fill: #1967D2;\n",
              "      height: 32px;\n",
              "      padding: 0 0 0 0;\n",
              "      width: 32px;\n",
              "    }\n",
              "\n",
              "    .colab-df-convert:hover {\n",
              "      background-color: #E2EBFA;\n",
              "      box-shadow: 0px 1px 2px rgba(60, 64, 67, 0.3), 0px 1px 3px 1px rgba(60, 64, 67, 0.15);\n",
              "      fill: #174EA6;\n",
              "    }\n",
              "\n",
              "    [theme=dark] .colab-df-convert {\n",
              "      background-color: #3B4455;\n",
              "      fill: #D2E3FC;\n",
              "    }\n",
              "\n",
              "    [theme=dark] .colab-df-convert:hover {\n",
              "      background-color: #434B5C;\n",
              "      box-shadow: 0px 1px 3px 1px rgba(0, 0, 0, 0.15);\n",
              "      filter: drop-shadow(0px 1px 2px rgba(0, 0, 0, 0.3));\n",
              "      fill: #FFFFFF;\n",
              "    }\n",
              "  </style>\n",
              "\n",
              "      <script>\n",
              "        const buttonEl =\n",
              "          document.querySelector('#df-c7727b1e-9160-438c-a333-34fe43bbce01 button.colab-df-convert');\n",
              "        buttonEl.style.display =\n",
              "          google.colab.kernel.accessAllowed ? 'block' : 'none';\n",
              "\n",
              "        async function convertToInteractive(key) {\n",
              "          const element = document.querySelector('#df-c7727b1e-9160-438c-a333-34fe43bbce01');\n",
              "          const dataTable =\n",
              "            await google.colab.kernel.invokeFunction('convertToInteractive',\n",
              "                                                     [key], {});\n",
              "          if (!dataTable) return;\n",
              "\n",
              "          const docLinkHtml = 'Like what you see? Visit the ' +\n",
              "            '<a target=\"_blank\" href=https://colab.research.google.com/notebooks/data_table.ipynb>data table notebook</a>'\n",
              "            + ' to learn more about interactive tables.';\n",
              "          element.innerHTML = '';\n",
              "          dataTable['output_type'] = 'display_data';\n",
              "          await google.colab.output.renderOutput(dataTable, element);\n",
              "          const docLink = document.createElement('div');\n",
              "          docLink.innerHTML = docLinkHtml;\n",
              "          element.appendChild(docLink);\n",
              "        }\n",
              "      </script>\n",
              "    </div>\n",
              "  </div>\n",
              "  "
            ],
            "text/plain": [
              "    doc_id                                           doc_text\n",
              "0  2222141  boat lift consists of the outer harbor the bot...\n",
              "1  1466972  one highlight is its collection of fijnschilde...\n",
              "2  1218994  their objective was to eliminate the presence ...\n",
              "3  2087053  he was elected to basar constituency in the ye...\n",
              "4   833090  developed from the earlier blue bonnet dating ..."
            ]
          },
          "execution_count": 6,
          "metadata": {},
          "output_type": "execute_result"
        }
      ],
      "source": [
        "# save training docs to df\n",
        "training_docs = pd.read_csv('/content/drive/MyDrive/wikIR1k/documents.csv')\n",
        "\n",
        "training_docs.head()"
      ]
    },
    {
      "cell_type": "markdown",
      "metadata": {
        "id": "Htb6H5fcGTl3"
      },
      "source": [
        "Given that the created indices remove stopwords, we'll process the training text in the same way below."
      ]
    },
    {
      "cell_type": "code",
      "execution_count": null,
      "metadata": {
        "id": "FUywId8sD79R"
      },
      "outputs": [],
      "source": [
        "# vectorize documents\n",
        "vectorizer = CountVectorizer(stop_words='english')\n",
        "documents_vectorized = vectorizer.fit_transform(training_docs['doc_text'])\n",
        "vocabulary = vectorizer.get_feature_names_out()"
      ]
    },
    {
      "cell_type": "markdown",
      "metadata": {
        "id": "IOSzven-GbsG"
      },
      "source": [
        "The table shows the total number of words per document. For example, the first document has 70 words, the second document has 112 words, etc."
      ]
    },
    {
      "cell_type": "code",
      "execution_count": null,
      "metadata": {
        "colab": {
          "base_uri": "https://localhost:8080/",
          "height": 206
        },
        "id": "J_NBv0HZDrvM",
        "outputId": "6d5a6803-aec5-4fa2-8f35-c774c4ba6658"
      },
      "outputs": [
        {
          "data": {
            "text/html": [
              "\n",
              "  <div id=\"df-6d21c43e-5a70-42a9-b77e-7cd0139f2fe0\">\n",
              "    <div class=\"colab-df-container\">\n",
              "      <div>\n",
              "<style scoped>\n",
              "    .dataframe tbody tr th:only-of-type {\n",
              "        vertical-align: middle;\n",
              "    }\n",
              "\n",
              "    .dataframe tbody tr th {\n",
              "        vertical-align: top;\n",
              "    }\n",
              "\n",
              "    .dataframe thead th {\n",
              "        text-align: right;\n",
              "    }\n",
              "</style>\n",
              "<table border=\"1\" class=\"dataframe\">\n",
              "  <thead>\n",
              "    <tr style=\"text-align: right;\">\n",
              "      <th></th>\n",
              "      <th>doc_id</th>\n",
              "      <th>doc_length</th>\n",
              "    </tr>\n",
              "  </thead>\n",
              "  <tbody>\n",
              "    <tr>\n",
              "      <th>0</th>\n",
              "      <td>2222141</td>\n",
              "      <td>70</td>\n",
              "    </tr>\n",
              "    <tr>\n",
              "      <th>1</th>\n",
              "      <td>1466972</td>\n",
              "      <td>112</td>\n",
              "    </tr>\n",
              "    <tr>\n",
              "      <th>2</th>\n",
              "      <td>1218994</td>\n",
              "      <td>105</td>\n",
              "    </tr>\n",
              "    <tr>\n",
              "      <th>3</th>\n",
              "      <td>2087053</td>\n",
              "      <td>99</td>\n",
              "    </tr>\n",
              "    <tr>\n",
              "      <th>4</th>\n",
              "      <td>833090</td>\n",
              "      <td>111</td>\n",
              "    </tr>\n",
              "  </tbody>\n",
              "</table>\n",
              "</div>\n",
              "      <button class=\"colab-df-convert\" onclick=\"convertToInteractive('df-6d21c43e-5a70-42a9-b77e-7cd0139f2fe0')\"\n",
              "              title=\"Convert this dataframe to an interactive table.\"\n",
              "              style=\"display:none;\">\n",
              "        \n",
              "  <svg xmlns=\"http://www.w3.org/2000/svg\" height=\"24px\"viewBox=\"0 0 24 24\"\n",
              "       width=\"24px\">\n",
              "    <path d=\"M0 0h24v24H0V0z\" fill=\"none\"/>\n",
              "    <path d=\"M18.56 5.44l.94 2.06.94-2.06 2.06-.94-2.06-.94-.94-2.06-.94 2.06-2.06.94zm-11 1L8.5 8.5l.94-2.06 2.06-.94-2.06-.94L8.5 2.5l-.94 2.06-2.06.94zm10 10l.94 2.06.94-2.06 2.06-.94-2.06-.94-.94-2.06-.94 2.06-2.06.94z\"/><path d=\"M17.41 7.96l-1.37-1.37c-.4-.4-.92-.59-1.43-.59-.52 0-1.04.2-1.43.59L10.3 9.45l-7.72 7.72c-.78.78-.78 2.05 0 2.83L4 21.41c.39.39.9.59 1.41.59.51 0 1.02-.2 1.41-.59l7.78-7.78 2.81-2.81c.8-.78.8-2.07 0-2.86zM5.41 20L4 18.59l7.72-7.72 1.47 1.35L5.41 20z\"/>\n",
              "  </svg>\n",
              "      </button>\n",
              "      \n",
              "  <style>\n",
              "    .colab-df-container {\n",
              "      display:flex;\n",
              "      flex-wrap:wrap;\n",
              "      gap: 12px;\n",
              "    }\n",
              "\n",
              "    .colab-df-convert {\n",
              "      background-color: #E8F0FE;\n",
              "      border: none;\n",
              "      border-radius: 50%;\n",
              "      cursor: pointer;\n",
              "      display: none;\n",
              "      fill: #1967D2;\n",
              "      height: 32px;\n",
              "      padding: 0 0 0 0;\n",
              "      width: 32px;\n",
              "    }\n",
              "\n",
              "    .colab-df-convert:hover {\n",
              "      background-color: #E2EBFA;\n",
              "      box-shadow: 0px 1px 2px rgba(60, 64, 67, 0.3), 0px 1px 3px 1px rgba(60, 64, 67, 0.15);\n",
              "      fill: #174EA6;\n",
              "    }\n",
              "\n",
              "    [theme=dark] .colab-df-convert {\n",
              "      background-color: #3B4455;\n",
              "      fill: #D2E3FC;\n",
              "    }\n",
              "\n",
              "    [theme=dark] .colab-df-convert:hover {\n",
              "      background-color: #434B5C;\n",
              "      box-shadow: 0px 1px 3px 1px rgba(0, 0, 0, 0.15);\n",
              "      filter: drop-shadow(0px 1px 2px rgba(0, 0, 0, 0.3));\n",
              "      fill: #FFFFFF;\n",
              "    }\n",
              "  </style>\n",
              "\n",
              "      <script>\n",
              "        const buttonEl =\n",
              "          document.querySelector('#df-6d21c43e-5a70-42a9-b77e-7cd0139f2fe0 button.colab-df-convert');\n",
              "        buttonEl.style.display =\n",
              "          google.colab.kernel.accessAllowed ? 'block' : 'none';\n",
              "\n",
              "        async function convertToInteractive(key) {\n",
              "          const element = document.querySelector('#df-6d21c43e-5a70-42a9-b77e-7cd0139f2fe0');\n",
              "          const dataTable =\n",
              "            await google.colab.kernel.invokeFunction('convertToInteractive',\n",
              "                                                     [key], {});\n",
              "          if (!dataTable) return;\n",
              "\n",
              "          const docLinkHtml = 'Like what you see? Visit the ' +\n",
              "            '<a target=\"_blank\" href=https://colab.research.google.com/notebooks/data_table.ipynb>data table notebook</a>'\n",
              "            + ' to learn more about interactive tables.';\n",
              "          element.innerHTML = '';\n",
              "          dataTable['output_type'] = 'display_data';\n",
              "          await google.colab.output.renderOutput(dataTable, element);\n",
              "          const docLink = document.createElement('div');\n",
              "          docLink.innerHTML = docLinkHtml;\n",
              "          element.appendChild(docLink);\n",
              "        }\n",
              "      </script>\n",
              "    </div>\n",
              "  </div>\n",
              "  "
            ],
            "text/plain": [
              "    doc_id  doc_length\n",
              "0  2222141          70\n",
              "1  1466972         112\n",
              "2  1218994         105\n",
              "3  2087053          99\n",
              "4   833090         111"
            ]
          },
          "execution_count": 8,
          "metadata": {},
          "output_type": "execute_result"
        }
      ],
      "source": [
        "# Make df of document lengths\n",
        "training_docs_lengths = training_docs.drop(columns=['doc_text'])\n",
        "training_docs_lengths['doc_length'] = (np.array(documents_vectorized.sum(axis=1))).flatten()\n",
        "training_docs_lengths.head()"
      ]
    },
    {
      "cell_type": "markdown",
      "metadata": {
        "id": "7BIZiG7xGk4C"
      },
      "source": [
        "From the table below:\n",
        "* Average terms per document: 107.29\n",
        "* Standard deviation: 10.64\n",
        "* Shortest document: 8 terms\n",
        "* Longest document: 182 terms"
      ]
    },
    {
      "cell_type": "code",
      "execution_count": null,
      "metadata": {
        "colab": {
          "base_uri": "https://localhost:8080/",
          "height": 300
        },
        "id": "mtDWIkNdDrr8",
        "outputId": "dc33b02e-9ec6-4a0f-a6ce-b89a4d281de8"
      },
      "outputs": [
        {
          "data": {
            "text/html": [
              "\n",
              "  <div id=\"df-bab06182-0945-48f2-bea7-de7d5b979e0f\">\n",
              "    <div class=\"colab-df-container\">\n",
              "      <div>\n",
              "<style scoped>\n",
              "    .dataframe tbody tr th:only-of-type {\n",
              "        vertical-align: middle;\n",
              "    }\n",
              "\n",
              "    .dataframe tbody tr th {\n",
              "        vertical-align: top;\n",
              "    }\n",
              "\n",
              "    .dataframe thead th {\n",
              "        text-align: right;\n",
              "    }\n",
              "</style>\n",
              "<table border=\"1\" class=\"dataframe\">\n",
              "  <thead>\n",
              "    <tr style=\"text-align: right;\">\n",
              "      <th></th>\n",
              "      <th>doc_id</th>\n",
              "      <th>doc_length</th>\n",
              "    </tr>\n",
              "  </thead>\n",
              "  <tbody>\n",
              "    <tr>\n",
              "      <th>count</th>\n",
              "      <td>4.382400e+04</td>\n",
              "      <td>43824.000000</td>\n",
              "    </tr>\n",
              "    <tr>\n",
              "      <th>mean</th>\n",
              "      <td>1.187713e+06</td>\n",
              "      <td>107.287012</td>\n",
              "    </tr>\n",
              "    <tr>\n",
              "      <th>std</th>\n",
              "      <td>7.078682e+05</td>\n",
              "      <td>10.641314</td>\n",
              "    </tr>\n",
              "    <tr>\n",
              "      <th>min</th>\n",
              "      <td>5.000000e+00</td>\n",
              "      <td>8.000000</td>\n",
              "    </tr>\n",
              "    <tr>\n",
              "      <th>25%</th>\n",
              "      <td>5.799928e+05</td>\n",
              "      <td>102.000000</td>\n",
              "    </tr>\n",
              "    <tr>\n",
              "      <th>50%</th>\n",
              "      <td>1.158835e+06</td>\n",
              "      <td>108.000000</td>\n",
              "    </tr>\n",
              "    <tr>\n",
              "      <th>75%</th>\n",
              "      <td>1.797272e+06</td>\n",
              "      <td>114.000000</td>\n",
              "    </tr>\n",
              "    <tr>\n",
              "      <th>max</th>\n",
              "      <td>2.456624e+06</td>\n",
              "      <td>182.000000</td>\n",
              "    </tr>\n",
              "  </tbody>\n",
              "</table>\n",
              "</div>\n",
              "      <button class=\"colab-df-convert\" onclick=\"convertToInteractive('df-bab06182-0945-48f2-bea7-de7d5b979e0f')\"\n",
              "              title=\"Convert this dataframe to an interactive table.\"\n",
              "              style=\"display:none;\">\n",
              "        \n",
              "  <svg xmlns=\"http://www.w3.org/2000/svg\" height=\"24px\"viewBox=\"0 0 24 24\"\n",
              "       width=\"24px\">\n",
              "    <path d=\"M0 0h24v24H0V0z\" fill=\"none\"/>\n",
              "    <path d=\"M18.56 5.44l.94 2.06.94-2.06 2.06-.94-2.06-.94-.94-2.06-.94 2.06-2.06.94zm-11 1L8.5 8.5l.94-2.06 2.06-.94-2.06-.94L8.5 2.5l-.94 2.06-2.06.94zm10 10l.94 2.06.94-2.06 2.06-.94-2.06-.94-.94-2.06-.94 2.06-2.06.94z\"/><path d=\"M17.41 7.96l-1.37-1.37c-.4-.4-.92-.59-1.43-.59-.52 0-1.04.2-1.43.59L10.3 9.45l-7.72 7.72c-.78.78-.78 2.05 0 2.83L4 21.41c.39.39.9.59 1.41.59.51 0 1.02-.2 1.41-.59l7.78-7.78 2.81-2.81c.8-.78.8-2.07 0-2.86zM5.41 20L4 18.59l7.72-7.72 1.47 1.35L5.41 20z\"/>\n",
              "  </svg>\n",
              "      </button>\n",
              "      \n",
              "  <style>\n",
              "    .colab-df-container {\n",
              "      display:flex;\n",
              "      flex-wrap:wrap;\n",
              "      gap: 12px;\n",
              "    }\n",
              "\n",
              "    .colab-df-convert {\n",
              "      background-color: #E8F0FE;\n",
              "      border: none;\n",
              "      border-radius: 50%;\n",
              "      cursor: pointer;\n",
              "      display: none;\n",
              "      fill: #1967D2;\n",
              "      height: 32px;\n",
              "      padding: 0 0 0 0;\n",
              "      width: 32px;\n",
              "    }\n",
              "\n",
              "    .colab-df-convert:hover {\n",
              "      background-color: #E2EBFA;\n",
              "      box-shadow: 0px 1px 2px rgba(60, 64, 67, 0.3), 0px 1px 3px 1px rgba(60, 64, 67, 0.15);\n",
              "      fill: #174EA6;\n",
              "    }\n",
              "\n",
              "    [theme=dark] .colab-df-convert {\n",
              "      background-color: #3B4455;\n",
              "      fill: #D2E3FC;\n",
              "    }\n",
              "\n",
              "    [theme=dark] .colab-df-convert:hover {\n",
              "      background-color: #434B5C;\n",
              "      box-shadow: 0px 1px 3px 1px rgba(0, 0, 0, 0.15);\n",
              "      filter: drop-shadow(0px 1px 2px rgba(0, 0, 0, 0.3));\n",
              "      fill: #FFFFFF;\n",
              "    }\n",
              "  </style>\n",
              "\n",
              "      <script>\n",
              "        const buttonEl =\n",
              "          document.querySelector('#df-bab06182-0945-48f2-bea7-de7d5b979e0f button.colab-df-convert');\n",
              "        buttonEl.style.display =\n",
              "          google.colab.kernel.accessAllowed ? 'block' : 'none';\n",
              "\n",
              "        async function convertToInteractive(key) {\n",
              "          const element = document.querySelector('#df-bab06182-0945-48f2-bea7-de7d5b979e0f');\n",
              "          const dataTable =\n",
              "            await google.colab.kernel.invokeFunction('convertToInteractive',\n",
              "                                                     [key], {});\n",
              "          if (!dataTable) return;\n",
              "\n",
              "          const docLinkHtml = 'Like what you see? Visit the ' +\n",
              "            '<a target=\"_blank\" href=https://colab.research.google.com/notebooks/data_table.ipynb>data table notebook</a>'\n",
              "            + ' to learn more about interactive tables.';\n",
              "          element.innerHTML = '';\n",
              "          dataTable['output_type'] = 'display_data';\n",
              "          await google.colab.output.renderOutput(dataTable, element);\n",
              "          const docLink = document.createElement('div');\n",
              "          docLink.innerHTML = docLinkHtml;\n",
              "          element.appendChild(docLink);\n",
              "        }\n",
              "      </script>\n",
              "    </div>\n",
              "  </div>\n",
              "  "
            ],
            "text/plain": [
              "             doc_id    doc_length\n",
              "count  4.382400e+04  43824.000000\n",
              "mean   1.187713e+06    107.287012\n",
              "std    7.078682e+05     10.641314\n",
              "min    5.000000e+00      8.000000\n",
              "25%    5.799928e+05    102.000000\n",
              "50%    1.158835e+06    108.000000\n",
              "75%    1.797272e+06    114.000000\n",
              "max    2.456624e+06    182.000000"
            ]
          },
          "execution_count": 9,
          "metadata": {},
          "output_type": "execute_result"
        }
      ],
      "source": [
        "training_docs_lengths.describe()"
      ]
    },
    {
      "cell_type": "markdown",
      "metadata": {
        "id": "3jPIxqrIG74w"
      },
      "source": [
        "The histogram below shows a narrow distribution of document lengths centered around the mean of document lengths (107.29)."
      ]
    },
    {
      "cell_type": "code",
      "execution_count": null,
      "metadata": {
        "colab": {
          "base_uri": "https://localhost:8080/",
          "height": 297
        },
        "id": "L78Kztp3DrnY",
        "outputId": "6eef94ec-335c-4a1b-c11f-83918095b9b0"
      },
      "outputs": [
        {
          "data": {
            "text/plain": [
              "Text(0, 0.5, 'Number of Documents')"
            ]
          },
          "execution_count": 12,
          "metadata": {},
          "output_type": "execute_result"
        },
        {
          "data": {
            "image/png": "[encoded data removed]",
            "text/plain": [
              "<Figure size 432x288 with 1 Axes>"
            ]
          },
          "metadata": {
            "needs_background": "light"
          },
          "output_type": "display_data"
        }
      ],
      "source": [
        "ax = training_docs_lengths['doc_length'].hist(bins=35)\n",
        "ax.set_xlabel(\"Document Length (words)\")\n",
        "ax.set_ylabel(\"Number of Documents\")"
      ]
    },
    {
      "cell_type": "markdown",
      "metadata": {
        "id": "xjpGn6K5Gfbd"
      },
      "source": [
        "## Section 4 - Defining Evaluation Model Rankings"
      ]
    },
    {
      "cell_type": "markdown",
      "metadata": {
        "id": "0B_nWX8atrau"
      },
      "source": [
        "### Section 4.1: Evaluation Metrics For Ranking Using 1 Example Query - NDCG@5"
      ]
    },
    {
      "cell_type": "markdown",
      "metadata": {
        "id": "dACRWpTntrav"
      },
      "source": [
        "Below a function has been defined to return the most relevant documents for a query from the dataframe containing the ground truth labels for relevance. This will be used to compare the search results for each model."
      ]
    },
    {
      "cell_type": "code",
      "execution_count": null,
      "metadata": {
        "id": "vDSCzS3rtrav"
      },
      "outputs": [],
      "source": [
        "def get_true_relevant_docs_for_query(query_id):\n",
        "    \"\"\"\n",
        "    Get the relevant documents and true relevance labels for a query.\n",
        "\n",
        "    Parameters\n",
        "    ----------\n",
        "    query_id : int\n",
        "        query ID corresponding to queries in the\n",
        "        queries dataframe and query relevance (qrels) dataframe.\n",
        "\n",
        "    Returns\n",
        "    -------\n",
        "    pandas.Dataframe\n",
        "        Datafrae containing the IDs of the truly relevant documents\n",
        "        for the query and their relevance labels.\n",
        "    \"\"\"\n",
        "    true_relevant_docs_for_query_df = qrels_df.loc[query_id]\n",
        "    query = queries_df.loc[query_id, 'query_text']\n",
        "    print(\"Ground truth relevance labels of documents for the query '{}':\".format(query))\n",
        "    return true_relevant_docs_for_query_df"
      ]
    },
    {
      "cell_type": "code",
      "execution_count": null,
      "metadata": {
        "colab": {
          "base_uri": "https://localhost:8080/",
          "height": 286
        },
        "id": "mHyg5Kl4trav",
        "outputId": "b05bb82a-4bd7-4f61-de22-aca86a003448"
      },
      "outputs": [
        {
          "name": "stdout",
          "output_type": "stream",
          "text": [
            "Ground truth relevance labels of documents for the query 'yanni':\n"
          ]
        },
        {
          "data": {
            "text/html": [
              "\n",
              "  <div id=\"df-ee5ff2e0-434b-4907-a438-ec514eb36597\">\n",
              "    <div class=\"colab-df-container\">\n",
              "      <div>\n",
              "<style scoped>\n",
              "    .dataframe tbody tr th:only-of-type {\n",
              "        vertical-align: middle;\n",
              "    }\n",
              "\n",
              "    .dataframe tbody tr th {\n",
              "        vertical-align: top;\n",
              "    }\n",
              "\n",
              "    .dataframe thead th {\n",
              "        text-align: right;\n",
              "    }\n",
              "</style>\n",
              "<table border=\"1\" class=\"dataframe\">\n",
              "  <thead>\n",
              "    <tr style=\"text-align: right;\">\n",
              "      <th></th>\n",
              "      <th>doc_id</th>\n",
              "      <th>doc_relevance_given_query</th>\n",
              "    </tr>\n",
              "    <tr>\n",
              "      <th>query_id</th>\n",
              "      <th></th>\n",
              "      <th></th>\n",
              "    </tr>\n",
              "  </thead>\n",
              "  <tbody>\n",
              "    <tr>\n",
              "      <th>123839</th>\n",
              "      <td>123839</td>\n",
              "      <td>2</td>\n",
              "    </tr>\n",
              "    <tr>\n",
              "      <th>123839</th>\n",
              "      <td>1793430</td>\n",
              "      <td>1</td>\n",
              "    </tr>\n",
              "    <tr>\n",
              "      <th>123839</th>\n",
              "      <td>806300</td>\n",
              "      <td>1</td>\n",
              "    </tr>\n",
              "    <tr>\n",
              "      <th>123839</th>\n",
              "      <td>806075</td>\n",
              "      <td>1</td>\n",
              "    </tr>\n",
              "    <tr>\n",
              "      <th>123839</th>\n",
              "      <td>836567</td>\n",
              "      <td>1</td>\n",
              "    </tr>\n",
              "    <tr>\n",
              "      <th>123839</th>\n",
              "      <td>806263</td>\n",
              "      <td>1</td>\n",
              "    </tr>\n",
              "  </tbody>\n",
              "</table>\n",
              "</div>\n",
              "      <button class=\"colab-df-convert\" onclick=\"convertToInteractive('df-ee5ff2e0-434b-4907-a438-ec514eb36597')\"\n",
              "              title=\"Convert this dataframe to an interactive table.\"\n",
              "              style=\"display:none;\">\n",
              "        \n",
              "  <svg xmlns=\"http://www.w3.org/2000/svg\" height=\"24px\"viewBox=\"0 0 24 24\"\n",
              "       width=\"24px\">\n",
              "    <path d=\"M0 0h24v24H0V0z\" fill=\"none\"/>\n",
              "    <path d=\"M18.56 5.44l.94 2.06.94-2.06 2.06-.94-2.06-.94-.94-2.06-.94 2.06-2.06.94zm-11 1L8.5 8.5l.94-2.06 2.06-.94-2.06-.94L8.5 2.5l-.94 2.06-2.06.94zm10 10l.94 2.06.94-2.06 2.06-.94-2.06-.94-.94-2.06-.94 2.06-2.06.94z\"/><path d=\"M17.41 7.96l-1.37-1.37c-.4-.4-.92-.59-1.43-.59-.52 0-1.04.2-1.43.59L10.3 9.45l-7.72 7.72c-.78.78-.78 2.05 0 2.83L4 21.41c.39.39.9.59 1.41.59.51 0 1.02-.2 1.41-.59l7.78-7.78 2.81-2.81c.8-.78.8-2.07 0-2.86zM5.41 20L4 18.59l7.72-7.72 1.47 1.35L5.41 20z\"/>\n",
              "  </svg>\n",
              "      </button>\n",
              "      \n",
              "  <style>\n",
              "    .colab-df-container {\n",
              "      display:flex;\n",
              "      flex-wrap:wrap;\n",
              "      gap: 12px;\n",
              "    }\n",
              "\n",
              "    .colab-df-convert {\n",
              "      background-color: #E8F0FE;\n",
              "      border: none;\n",
              "      border-radius: 50%;\n",
              "      cursor: pointer;\n",
              "      display: none;\n",
              "      fill: #1967D2;\n",
              "      height: 32px;\n",
              "      padding: 0 0 0 0;\n",
              "      width: 32px;\n",
              "    }\n",
              "\n",
              "    .colab-df-convert:hover {\n",
              "      background-color: #E2EBFA;\n",
              "      box-shadow: 0px 1px 2px rgba(60, 64, 67, 0.3), 0px 1px 3px 1px rgba(60, 64, 67, 0.15);\n",
              "      fill: #174EA6;\n",
              "    }\n",
              "\n",
              "    [theme=dark] .colab-df-convert {\n",
              "      background-color: #3B4455;\n",
              "      fill: #D2E3FC;\n",
              "    }\n",
              "\n",
              "    [theme=dark] .colab-df-convert:hover {\n",
              "      background-color: #434B5C;\n",
              "      box-shadow: 0px 1px 3px 1px rgba(0, 0, 0, 0.15);\n",
              "      filter: drop-shadow(0px 1px 2px rgba(0, 0, 0, 0.3));\n",
              "      fill: #FFFFFF;\n",
              "    }\n",
              "  </style>\n",
              "\n",
              "      <script>\n",
              "        const buttonEl =\n",
              "          document.querySelector('#df-ee5ff2e0-434b-4907-a438-ec514eb36597 button.colab-df-convert');\n",
              "        buttonEl.style.display =\n",
              "          google.colab.kernel.accessAllowed ? 'block' : 'none';\n",
              "\n",
              "        async function convertToInteractive(key) {\n",
              "          const element = document.querySelector('#df-ee5ff2e0-434b-4907-a438-ec514eb36597');\n",
              "          const dataTable =\n",
              "            await google.colab.kernel.invokeFunction('convertToInteractive',\n",
              "                                                     [key], {});\n",
              "          if (!dataTable) return;\n",
              "\n",
              "          const docLinkHtml = 'Like what you see? Visit the ' +\n",
              "            '<a target=\"_blank\" href=https://colab.research.google.com/notebooks/data_table.ipynb>data table notebook</a>'\n",
              "            + ' to learn more about interactive tables.';\n",
              "          element.innerHTML = '';\n",
              "          dataTable['output_type'] = 'display_data';\n",
              "          await google.colab.output.renderOutput(dataTable, element);\n",
              "          const docLink = document.createElement('div');\n",
              "          docLink.innerHTML = docLinkHtml;\n",
              "          element.appendChild(docLink);\n",
              "        }\n",
              "      </script>\n",
              "    </div>\n",
              "  </div>\n",
              "  "
            ],
            "text/plain": [
              "           doc_id  doc_relevance_given_query\n",
              "query_id                                    \n",
              "123839     123839                          2\n",
              "123839    1793430                          1\n",
              "123839     806300                          1\n",
              "123839     806075                          1\n",
              "123839     836567                          1\n",
              "123839     806263                          1"
            ]
          },
          "execution_count": 19,
          "metadata": {},
          "output_type": "execute_result"
        }
      ],
      "source": [
        "# example query ID from the queries dataframe\n",
        "yanni_query_id = 123839\n",
        "\n",
        "get_true_relevant_docs_for_query(yanni_query_id)"
      ]
    },
    {
      "cell_type": "markdown",
      "metadata": {
        "id": "G5rWLxehtrav"
      },
      "source": [
        "Below, the first query, five relevant documents and their relevance label has been used to evaluate the ranking of the search for this query:\n",
        "- Normalised Discounted Cumulative Gain has been calculated for the first 5 results (NDCG@5)"
      ]
    },
    {
      "cell_type": "code",
      "execution_count": null,
      "metadata": {
        "colab": {
          "base_uri": "https://localhost:8080/"
        },
        "id": "1owPoLaBtrav",
        "outputId": "e64d7d59-2fee-4747-8300-0f74e14cbb43"
      },
      "outputs": [
        {
          "name": "stdout",
          "output_type": "stream",
          "text": [
            "NDCG@5 metric details for the query 'yanni':\n",
            "{'dcg': {'dcg': 3.178882481454721, 'ideal_dcg': 4.948459118879392, 'normalized_dcg': 0.6423984527479734, 'unrated_docs': 1}}\n"
          ]
        }
      ],
      "source": [
        "ndcg_example_result_given_q = es.rank_eval(\n",
        "                                        index = 'lm_index_lambda_0p1',\n",
        "                                        requests = {\n",
        "                                                        'id' : str(yanni_query_id),\n",
        "                                                        'request' : {'query' : {\n",
        "                                                                                'match' : {'doc_text' : 'yanni'}\n",
        "                                                        },\n",
        "                                                                },\n",
        "                                                        # doc IDs below taken from qrels df only for this particular example\n",
        "                                                        'ratings': [\n",
        "                                                                { '_index': 'lm_index_lambda_0p1', '_id': '123839', 'rating': 2 },\n",
        "                                                                { '_index': 'lm_index_lambda_0p1', '_id': '1793430', 'rating': 1 },\n",
        "                                                                { '_index': 'lm_index_lambda_0p1', '_id': '806300', 'rating': 1 },\n",
        "                                                                { '_index': 'lm_index_lambda_0p1', '_id': '806075', 'rating': 1 },\n",
        "                                                                { '_index': 'lm_index_lambda_0p1', '_id': '836567', 'rating': 1 }\n",
        "                                                                ]\n",
        "                                                        },\n",
        "                                        metric = {\n",
        "                                                        'dcg': {\n",
        "                                                                'k': 5,\n",
        "                                                                'normalize': True\n",
        "                                                                }\n",
        "                                                        }\n",
        "\n",
        "                                        )\n",
        "ndcg_example_result_given_q = dict(ndcg_example_result_given_q)['details'][str(yanni_query_id)]['metric_details']\n",
        "print(\"NDCG@5 metric details for the query 'yanni':\\n{}\".format(ndcg_example_result_given_q))"
      ]
    },
    {
      "cell_type": "markdown",
      "metadata": {
        "id": "AcyEWaN7traw"
      },
      "source": [
        "The value for NDCG@5 of 0.64 suggests that the documents ranked highest in the retrieval using the Language Model were mostly relevant, although the rankings could have been better, the most relevant documents could have been positioned higher, reflected by the difference between the DCG produced by the model (3.17) and the Ideal DCG given the ground truths (4.95).\n",
        "\n",
        "The returned documents from the Language Model and the expected relevant documents given the query are shown below."
      ]
    },
    {
      "cell_type": "code",
      "execution_count": null,
      "metadata": {
        "colab": {
          "base_uri": "https://localhost:8080/",
          "height": 241
        },
        "id": "KbKFK1iPtraw",
        "outputId": "3b7dbc90-d917-43cc-d2d4-184bd4e594db"
      },
      "outputs": [
        {
          "name": "stdout",
          "output_type": "stream",
          "text": [
            "Top Ranked Results for the Query: \n",
            "'yanni'\n"
          ]
        },
        {
          "data": {
            "text/html": [
              "\n",
              "  <div id=\"df-db33238a-c595-4bc7-bd06-128099d59699\">\n",
              "    <div class=\"colab-df-container\">\n",
              "      <div>\n",
              "<style scoped>\n",
              "    .dataframe tbody tr th:only-of-type {\n",
              "        vertical-align: middle;\n",
              "    }\n",
              "\n",
              "    .dataframe tbody tr th {\n",
              "        vertical-align: top;\n",
              "    }\n",
              "\n",
              "    .dataframe thead th {\n",
              "        text-align: right;\n",
              "    }\n",
              "</style>\n",
              "<table border=\"1\" class=\"dataframe\">\n",
              "  <thead>\n",
              "    <tr style=\"text-align: right;\">\n",
              "      <th></th>\n",
              "      <th>doc_id</th>\n",
              "      <th>similarity_score</th>\n",
              "    </tr>\n",
              "  </thead>\n",
              "  <tbody>\n",
              "    <tr>\n",
              "      <th>0</th>\n",
              "      <td>806300</td>\n",
              "      <td>13.47165</td>\n",
              "    </tr>\n",
              "    <tr>\n",
              "      <th>1</th>\n",
              "      <td>806326</td>\n",
              "      <td>12.703196</td>\n",
              "    </tr>\n",
              "    <tr>\n",
              "      <th>2</th>\n",
              "      <td>836567</td>\n",
              "      <td>12.703196</td>\n",
              "    </tr>\n",
              "    <tr>\n",
              "      <th>3</th>\n",
              "      <td>123839</td>\n",
              "      <td>12.39447</td>\n",
              "    </tr>\n",
              "    <tr>\n",
              "      <th>4</th>\n",
              "      <td>1793430</td>\n",
              "      <td>11.883647</td>\n",
              "    </tr>\n",
              "  </tbody>\n",
              "</table>\n",
              "</div>\n",
              "      <button class=\"colab-df-convert\" onclick=\"convertToInteractive('df-db33238a-c595-4bc7-bd06-128099d59699')\"\n",
              "              title=\"Convert this dataframe to an interactive table.\"\n",
              "              style=\"display:none;\">\n",
              "        \n",
              "  <svg xmlns=\"http://www.w3.org/2000/svg\" height=\"24px\"viewBox=\"0 0 24 24\"\n",
              "       width=\"24px\">\n",
              "    <path d=\"M0 0h24v24H0V0z\" fill=\"none\"/>\n",
              "    <path d=\"M18.56 5.44l.94 2.06.94-2.06 2.06-.94-2.06-.94-.94-2.06-.94 2.06-2.06.94zm-11 1L8.5 8.5l.94-2.06 2.06-.94-2.06-.94L8.5 2.5l-.94 2.06-2.06.94zm10 10l.94 2.06.94-2.06 2.06-.94-2.06-.94-.94-2.06-.94 2.06-2.06.94z\"/><path d=\"M17.41 7.96l-1.37-1.37c-.4-.4-.92-.59-1.43-.59-.52 0-1.04.2-1.43.59L10.3 9.45l-7.72 7.72c-.78.78-.78 2.05 0 2.83L4 21.41c.39.39.9.59 1.41.59.51 0 1.02-.2 1.41-.59l7.78-7.78 2.81-2.81c.8-.78.8-2.07 0-2.86zM5.41 20L4 18.59l7.72-7.72 1.47 1.35L5.41 20z\"/>\n",
              "  </svg>\n",
              "      </button>\n",
              "      \n",
              "  <style>\n",
              "    .colab-df-container {\n",
              "      display:flex;\n",
              "      flex-wrap:wrap;\n",
              "      gap: 12px;\n",
              "    }\n",
              "\n",
              "    .colab-df-convert {\n",
              "      background-color: #E8F0FE;\n",
              "      border: none;\n",
              "      border-radius: 50%;\n",
              "      cursor: pointer;\n",
              "      display: none;\n",
              "      fill: #1967D2;\n",
              "      height: 32px;\n",
              "      padding: 0 0 0 0;\n",
              "      width: 32px;\n",
              "    }\n",
              "\n",
              "    .colab-df-convert:hover {\n",
              "      background-color: #E2EBFA;\n",
              "      box-shadow: 0px 1px 2px rgba(60, 64, 67, 0.3), 0px 1px 3px 1px rgba(60, 64, 67, 0.15);\n",
              "      fill: #174EA6;\n",
              "    }\n",
              "\n",
              "    [theme=dark] .colab-df-convert {\n",
              "      background-color: #3B4455;\n",
              "      fill: #D2E3FC;\n",
              "    }\n",
              "\n",
              "    [theme=dark] .colab-df-convert:hover {\n",
              "      background-color: #434B5C;\n",
              "      box-shadow: 0px 1px 3px 1px rgba(0, 0, 0, 0.15);\n",
              "      filter: drop-shadow(0px 1px 2px rgba(0, 0, 0, 0.3));\n",
              "      fill: #FFFFFF;\n",
              "    }\n",
              "  </style>\n",
              "\n",
              "      <script>\n",
              "        const buttonEl =\n",
              "          document.querySelector('#df-db33238a-c595-4bc7-bd06-128099d59699 button.colab-df-convert');\n",
              "        buttonEl.style.display =\n",
              "          google.colab.kernel.accessAllowed ? 'block' : 'none';\n",
              "\n",
              "        async function convertToInteractive(key) {\n",
              "          const element = document.querySelector('#df-db33238a-c595-4bc7-bd06-128099d59699');\n",
              "          const dataTable =\n",
              "            await google.colab.kernel.invokeFunction('convertToInteractive',\n",
              "                                                     [key], {});\n",
              "          if (!dataTable) return;\n",
              "\n",
              "          const docLinkHtml = 'Like what you see? Visit the ' +\n",
              "            '<a target=\"_blank\" href=https://colab.research.google.com/notebooks/data_table.ipynb>data table notebook</a>'\n",
              "            + ' to learn more about interactive tables.';\n",
              "          element.innerHTML = '';\n",
              "          dataTable['output_type'] = 'display_data';\n",
              "          await google.colab.output.renderOutput(dataTable, element);\n",
              "          const docLink = document.createElement('div');\n",
              "          docLink.innerHTML = docLinkHtml;\n",
              "          element.appendChild(docLink);\n",
              "        }\n",
              "      </script>\n",
              "    </div>\n",
              "  </div>\n",
              "  "
            ],
            "text/plain": [
              "    doc_id similarity_score\n",
              "0   806300         13.47165\n",
              "1   806326        12.703196\n",
              "2   836567        12.703196\n",
              "3   123839         12.39447\n",
              "4  1793430        11.883647"
            ]
          },
          "execution_count": 29,
          "metadata": {},
          "output_type": "execute_result"
        }
      ],
      "source": [
        "get_top_k_ranked_search_results(query_check = 'yanni', es_index = 'lm_index_lambda_0p1', k = 5)"
      ]
    },
    {
      "cell_type": "markdown",
      "metadata": {
        "id": "VwkWWA1qtraw"
      },
      "source": [
        "Given the ground truth labels, the documents that should have been returned first are shown below. The most relevant document (the doc_id 123839) was positioned in 4th place using the Language Model with its current hyperparameters. Alternative hyperparameters will be considered later."
      ]
    },
    {
      "cell_type": "code",
      "execution_count": null,
      "metadata": {
        "id": "7nSyALLRtraw",
        "outputId": "f1a636d0-9c67-4a7c-b5f3-508c440fc2bb"
      },
      "outputs": [
        {
          "name": "stdout",
          "output_type": "stream",
          "text": [
            "Ground truth relevance labels of documents for the query 'yanni':\n"
          ]
        },
        {
          "data": {
            "text/html": [
              "<div>\n",
              "<style scoped>\n",
              "    .dataframe tbody tr th:only-of-type {\n",
              "        vertical-align: middle;\n",
              "    }\n",
              "\n",
              "    .dataframe tbody tr th {\n",
              "        vertical-align: top;\n",
              "    }\n",
              "\n",
              "    .dataframe thead th {\n",
              "        text-align: right;\n",
              "    }\n",
              "</style>\n",
              "<table border=\"1\" class=\"dataframe\">\n",
              "  <thead>\n",
              "    <tr style=\"text-align: right;\">\n",
              "      <th></th>\n",
              "      <th>doc_id</th>\n",
              "      <th>doc_relevance_given_query</th>\n",
              "    </tr>\n",
              "    <tr>\n",
              "      <th>query_id</th>\n",
              "      <th></th>\n",
              "      <th></th>\n",
              "    </tr>\n",
              "  </thead>\n",
              "  <tbody>\n",
              "    <tr>\n",
              "      <th>123839</th>\n",
              "      <td>123839</td>\n",
              "      <td>2</td>\n",
              "    </tr>\n",
              "    <tr>\n",
              "      <th>123839</th>\n",
              "      <td>1793430</td>\n",
              "      <td>1</td>\n",
              "    </tr>\n",
              "    <tr>\n",
              "      <th>123839</th>\n",
              "      <td>806300</td>\n",
              "      <td>1</td>\n",
              "    </tr>\n",
              "    <tr>\n",
              "      <th>123839</th>\n",
              "      <td>806075</td>\n",
              "      <td>1</td>\n",
              "    </tr>\n",
              "    <tr>\n",
              "      <th>123839</th>\n",
              "      <td>836567</td>\n",
              "      <td>1</td>\n",
              "    </tr>\n",
              "    <tr>\n",
              "      <th>123839</th>\n",
              "      <td>806263</td>\n",
              "      <td>1</td>\n",
              "    </tr>\n",
              "  </tbody>\n",
              "</table>\n",
              "</div>"
            ],
            "text/plain": [
              "           doc_id  doc_relevance_given_query\n",
              "query_id                                    \n",
              "123839     123839                          2\n",
              "123839    1793430                          1\n",
              "123839     806300                          1\n",
              "123839     806075                          1\n",
              "123839     836567                          1\n",
              "123839     806263                          1"
            ]
          },
          "execution_count": 68,
          "metadata": {},
          "output_type": "execute_result"
        }
      ],
      "source": [
        "get_true_relevant_docs_for_query(yanni_query_id)"
      ]
    },
    {
      "cell_type": "markdown",
      "metadata": {
        "id": "xF7Fcslrtrax"
      },
      "source": [
        "Below, this process will be repeated for multiple queries, after the results will be aggregated to compare the evaluation metrics per model, taking into consideration potential adjustments of the hyperparameters."
      ]
    },
    {
      "cell_type": "markdown",
      "metadata": {
        "id": "1_LrwGPptrax"
      },
      "source": [
        "### Section 4.2 - Calculating Evaluation Metrics For All Queries - NDCG@5 & Precision@5"
      ]
    },
    {
      "cell_type": "markdown",
      "metadata": {
        "id": "D_Z80N6otrax"
      },
      "source": [
        "Below the elasticsearch rank evaluation function has been used (similarly to above) with a for loop to be applicable to multiple queries. The results for all training queries from the list of queries have been stored and displayed below (a list of dictionaries has been used).\n",
        "- Above, to check an example, query ID, doc ID and relevance scores were hard coded\n",
        "- Below, they have been made variables to be updated in a for loop as the query relevance data is read row by row."
      ]
    },
    {
      "cell_type": "code",
      "execution_count": null,
      "metadata": {
        "id": "4HINZv-ptrax"
      },
      "outputs": [],
      "source": [
        "def get_evaluation_metrics(\n",
        "                            queries_df,\n",
        "                            qrels_df,\n",
        "                            es_index,\n",
        "                            eval_metric_dict,\n",
        "                            match_type = 'match',\n",
        "                            boolean_query_option = 'should',\n",
        "                            minimum_should_match = 1\n",
        "                            ):\n",
        "        \"\"\"\n",
        "        Check ground truth relevance and calculate ranking evaluation metric.\n",
        "\n",
        "        Checks dataframes containing query text data, retrieves\n",
        "        relevant documents and ground truth labels for those documents,\n",
        "        and compares ranking generated by search to ideal ranking\n",
        "        given the ground truth labels.\n",
        "\n",
        "        Parameters\n",
        "        ----------\n",
        "        queries_df : pandas.DataFrame\n",
        "            Dataframe containing query IDs and query text.\n",
        "        es_index : str\n",
        "            Name of the index to be used for the search.\n",
        "        qrels_df : pandas.DataFrame\n",
        "            Dataframe containing the ground truth relevance labels.\n",
        "        eval_metric_dict : dict\n",
        "            Dictionary containing the parameters of the evaluation metric\n",
        "            such as k for NDCG@k.\n",
        "        match_type : str\n",
        "            Match type to use for the queries, by default 'match'.\n",
        "        boolean_query_option : str\n",
        "            Option specifying how terms in boolean query are matched\n",
        "            such as 'should' or 'must', by default 'should'.\n",
        "        minimum_should_match : int or float\n",
        "            Number of query terms or proportion that should match\n",
        "            terms in the documents if boolean_query_option\n",
        "            is set to 'should', by default 1.\n",
        "\n",
        "        Returns\n",
        "        -------\n",
        "        list of dict\n",
        "            list of dictionaries mapping query IDs to the NDCG measure for the query.\n",
        "        \"\"\"\n",
        "\n",
        "        # Store evaluation results in list\n",
        "        eval_results = []\n",
        "\n",
        "        for query_id in queries_df.index:\n",
        "\n",
        "                query_text = queries_df.loc[query_id, 'query_text']\n",
        "\n",
        "                # Ratings:\n",
        "                # Create iterable from the qrels_df, which will be used for doc ratings per query.\n",
        "                doc_qrels_given_query_id = qrels_df.loc[query_id].iterrows()\n",
        "\n",
        "                # For ratings below, doc ID & qrel label from qrels_df rows have\n",
        "                # been retrieved using list comprehension with the iterable created.\n",
        "                ratings_list = [\n",
        "                                {\n",
        "                                '_index': es_index,\n",
        "                                '_id': str(doc_row['doc_id']),\n",
        "                                'rating': doc_row['doc_relevance_given_query']\n",
        "                                }\\\n",
        "                                for _, doc_row in doc_qrels_given_query_id\n",
        "                                 ]\n",
        "\n",
        "                # Query:\n",
        "                # set minimum_should number or percentage if 'should' is used.\n",
        "                if match_type == 'bool' and boolean_query_option == 'should':\n",
        "                    query_terms = query_text.split()\n",
        "                    # specify boolean query options using list comprehension\n",
        "                    query_given_match_type = {\n",
        "                                    match_type: {\n",
        "                                                boolean_query_option : [\n",
        "                                                                        {'term' : {'doc_text' : term}}\\\n",
        "                                                                        for term in query_terms\n",
        "                                                                        ],\n",
        "                                                'minimum_should_match' : minimum_should_match\n",
        "                                                }\n",
        "                                    }\n",
        "\n",
        "                # don't set minimum_should number or percentage if 'must' is used.\n",
        "                elif match_type == 'bool' and boolean_query_option == 'must':\n",
        "                    query_terms = query_text.split()\n",
        "                    query_given_match_type = {\n",
        "                                    match_type: {\n",
        "                                                boolean_query_option : [\n",
        "                                                                        {'term' : {'doc_text' : term}}\\\n",
        "                                                                        for term in query_terms\n",
        "                                                                        ]\n",
        "                                                }\n",
        "                                    }\n",
        "                else:\n",
        "                    query_given_match_type  = {match_type : {'doc_text' : query_text}}\n",
        "\n",
        "                # get evaluation results using ratings and query parameters above.\n",
        "                eval_result = es.rank_eval(\n",
        "                                            index = es_index,\n",
        "                                            requests = {\n",
        "                                                        'id' : str(query_id),\n",
        "                                                        'request' : {'query' : query_given_match_type},\n",
        "                                                        'ratings': ratings_list\n",
        "                                                    },\n",
        "                                            metric = eval_metric_dict\n",
        "                                            )\n",
        "\n",
        "                # store evaluation results as list of dictionaries\n",
        "                eval_results.append({query_id : dict(eval_result)})\n",
        "\n",
        "        return eval_results\n"
      ]
    },
    {
      "cell_type": "markdown",
      "metadata": {
        "id": "RJULFqtNtray"
      },
      "source": [
        "#### Section 4.2.1 - Evaluation Metrics For All Queries From Training Data - NDCG@5"
      ]
    },
    {
      "cell_type": "markdown",
      "metadata": {
        "id": "Jte_OhNatray"
      },
      "source": [
        "The parameters below will be used to calculate NDCG@5for a second example query, which is slightly longer."
      ]
    },
    {
      "cell_type": "code",
      "execution_count": null,
      "metadata": {
        "id": "OwYMUAXktray"
      },
      "outputs": [],
      "source": [
        "ndcg_at_k_metric = {\n",
        "                        'dcg': {\n",
        "                                'k': 5,\n",
        "                                'normalize': True\n",
        "                                }\n",
        "                        }"
      ]
    },
    {
      "cell_type": "code",
      "execution_count": null,
      "metadata": {
        "id": "g4wZ0iEatray"
      },
      "outputs": [],
      "source": [
        "lm_ndcg_at_5_results = get_evaluation_metrics(\n",
        "                                                queries_df = queries_df,\n",
        "                                                qrels_df = qrels_df,\n",
        "                                                es_index = 'lm_index_lambda_0p1',\n",
        "                                                eval_metric_dict = ndcg_at_k_metric,\n",
        "                                                match_type = 'match'\n",
        "                                                )"
      ]
    },
    {
      "cell_type": "markdown",
      "metadata": {
        "id": "SY9ZVcfQtraz"
      },
      "source": [
        "#### Example query evaluation analysis\n",
        "\n",
        "Evaluation metrics for the second example query, 'k pop' are shown below (the first example 'yanni' has been discussed).\n",
        "- The output of the elasticsearch command is a combination of lists and dictionaries\n",
        "- The required results have been retrieved using lookups of those dictionaries and lists with the commands below."
      ]
    },
    {
      "cell_type": "code",
      "execution_count": null,
      "metadata": {
        "colab": {
          "base_uri": "https://localhost:8080/"
        },
        "id": "SqoELqqBtraz",
        "outputId": "ec95ccac-37a6-44a3-f5a3-3fdd1b1b0f46"
      },
      "outputs": [
        {
          "name": "stdout",
          "output_type": "stream",
          "text": [
            "Second Example Query: 'k pop'\n",
            "Normalised Discounted Cumulative Gain @ 5:\n",
            "0.7337495705923307\n"
          ]
        }
      ],
      "source": [
        "# NDCG @5 Evaluation results for the second query example\n",
        "example_2_query_id = queries_df.index[1]\n",
        "example_2_query_text = queries_df.loc[example_2_query_id, 'query_text']\n",
        "print(\"Second Example Query: '{}'\".format(example_2_query_text))\n",
        "\n",
        "ndcg_for_example_2_query = lm_ndcg_at_5_results[1][example_2_query_id]['metric_score']\n",
        "print(\"Normalised Discounted Cumulative Gain @ 5:\\n{}\".format(ndcg_for_example_2_query))"
      ]
    },
    {
      "cell_type": "markdown",
      "metadata": {
        "id": "A-udkPREtraz"
      },
      "source": [
        "The results for the query 'k pop' using the language model are better than those returned using the 'yanni', which could be related to the shorter query 'yanni' occurring in documents where it may not be the most important topic in the document, which may make retrieving irrelevant documents more likely, affecting the ranking of relevant documents. When assessing the hyperparamters of each model, the adaptability of models in relation to rare and short terms will be considered."
      ]
    },
    {
      "cell_type": "code",
      "execution_count": null,
      "metadata": {
        "id": "lC94KPWvtraz",
        "outputId": "66fcbe4d-2bfa-465e-d425-9238fe3a0cb5"
      },
      "outputs": [
        {
          "name": "stdout",
          "output_type": "stream",
          "text": [
            "Top Ranked Results for the Query: \n",
            "'k pop'\n"
          ]
        },
        {
          "data": {
            "text/html": [
              "<div>\n",
              "<style scoped>\n",
              "    .dataframe tbody tr th:only-of-type {\n",
              "        vertical-align: middle;\n",
              "    }\n",
              "\n",
              "    .dataframe tbody tr th {\n",
              "        vertical-align: top;\n",
              "    }\n",
              "\n",
              "    .dataframe thead th {\n",
              "        text-align: right;\n",
              "    }\n",
              "</style>\n",
              "<table border=\"1\" class=\"dataframe\">\n",
              "  <thead>\n",
              "    <tr style=\"text-align: right;\">\n",
              "      <th></th>\n",
              "      <th>doc_id</th>\n",
              "      <th>similarity_score</th>\n",
              "    </tr>\n",
              "  </thead>\n",
              "  <tbody>\n",
              "    <tr>\n",
              "      <th>0</th>\n",
              "      <td>188629</td>\n",
              "      <td>15.39881</td>\n",
              "    </tr>\n",
              "    <tr>\n",
              "      <th>1</th>\n",
              "      <td>2185399</td>\n",
              "      <td>14.43431</td>\n",
              "    </tr>\n",
              "    <tr>\n",
              "      <th>2</th>\n",
              "      <td>2191096</td>\n",
              "      <td>14.392569</td>\n",
              "    </tr>\n",
              "    <tr>\n",
              "      <th>3</th>\n",
              "      <td>533438</td>\n",
              "      <td>14.042981</td>\n",
              "    </tr>\n",
              "    <tr>\n",
              "      <th>4</th>\n",
              "      <td>1046396</td>\n",
              "      <td>13.993875</td>\n",
              "    </tr>\n",
              "  </tbody>\n",
              "</table>\n",
              "</div>"
            ],
            "text/plain": [
              "    doc_id similarity_score\n",
              "0   188629         15.39881\n",
              "1  2185399         14.43431\n",
              "2  2191096        14.392569\n",
              "3   533438        14.042981\n",
              "4  1046396        13.993875"
            ]
          },
          "execution_count": 85,
          "metadata": {},
          "output_type": "execute_result"
        }
      ],
      "source": [
        "get_top_k_ranked_search_results(query_check = 'k pop', es_index = 'lm_index_lambda_0p1', k = 5)"
      ]
    },
    {
      "cell_type": "markdown",
      "metadata": {
        "id": "CKGI8kditraz"
      },
      "source": [
        "Given the ground truth labels, the documents that should have been returned first are shown below. The most relevant document (the doc_id 188629) was positioned in 1st place using the Language Model with its current hyperparameters. Alternative hyperparameters will be considered later, as results for shorter queries such as 'yanni' may improve whilst other longer queries may not."
      ]
    },
    {
      "cell_type": "code",
      "execution_count": null,
      "metadata": {
        "id": "b1XIwVHCtra0",
        "outputId": "c118b262-3724-4695-9b74-d808ae3b8c18"
      },
      "outputs": [
        {
          "name": "stdout",
          "output_type": "stream",
          "text": [
            "Ground truth relevance labels of documents for the query 'k pop':\n"
          ]
        },
        {
          "data": {
            "text/html": [
              "<div>\n",
              "<style scoped>\n",
              "    .dataframe tbody tr th:only-of-type {\n",
              "        vertical-align: middle;\n",
              "    }\n",
              "\n",
              "    .dataframe tbody tr th {\n",
              "        vertical-align: top;\n",
              "    }\n",
              "\n",
              "    .dataframe thead th {\n",
              "        text-align: right;\n",
              "    }\n",
              "</style>\n",
              "<table border=\"1\" class=\"dataframe\">\n",
              "  <thead>\n",
              "    <tr style=\"text-align: right;\">\n",
              "      <th></th>\n",
              "      <th>doc_id</th>\n",
              "      <th>doc_relevance_given_query</th>\n",
              "    </tr>\n",
              "    <tr>\n",
              "      <th>query_id</th>\n",
              "      <th></th>\n",
              "      <th></th>\n",
              "    </tr>\n",
              "  </thead>\n",
              "  <tbody>\n",
              "    <tr>\n",
              "      <th>188629</th>\n",
              "      <td>188629</td>\n",
              "      <td>2</td>\n",
              "    </tr>\n",
              "    <tr>\n",
              "      <th>188629</th>\n",
              "      <td>2185399</td>\n",
              "      <td>1</td>\n",
              "    </tr>\n",
              "    <tr>\n",
              "      <th>188629</th>\n",
              "      <td>1919943</td>\n",
              "      <td>1</td>\n",
              "    </tr>\n",
              "    <tr>\n",
              "      <th>188629</th>\n",
              "      <td>1440095</td>\n",
              "      <td>1</td>\n",
              "    </tr>\n",
              "    <tr>\n",
              "      <th>188629</th>\n",
              "      <td>1526572</td>\n",
              "      <td>1</td>\n",
              "    </tr>\n",
              "    <tr>\n",
              "      <th>188629</th>\n",
              "      <td>2334042</td>\n",
              "      <td>1</td>\n",
              "    </tr>\n",
              "  </tbody>\n",
              "</table>\n",
              "</div>"
            ],
            "text/plain": [
              "           doc_id  doc_relevance_given_query\n",
              "query_id                                    \n",
              "188629     188629                          2\n",
              "188629    2185399                          1\n",
              "188629    1919943                          1\n",
              "188629    1440095                          1\n",
              "188629    1526572                          1\n",
              "188629    2334042                          1"
            ]
          },
          "execution_count": 255,
          "metadata": {},
          "output_type": "execute_result"
        }
      ],
      "source": [
        "k_pop_query_id = 188629\n",
        "get_true_relevant_docs_for_query(k_pop_query_id)"
      ]
    },
    {
      "cell_type": "markdown",
      "metadata": {
        "id": "5wOPMWmltra0"
      },
      "source": [
        "Below, this process will be repeated for multiple queries, after the results will be aggregated to compare the evaluation metrics per model, taking into consideration potential adjustments of the hyperparameters."
      ]
    },
    {
      "cell_type": "markdown",
      "metadata": {
        "id": "JQ49Qiljtra0"
      },
      "source": [
        "### Section 4.3 - Retrieving Evaluation Metrics & Formatting Results"
      ]
    },
    {
      "cell_type": "markdown",
      "metadata": {
        "id": "tHgwSALytra0"
      },
      "source": [
        "Below, a function has been defined to put the evaluation metrics into a dataframe using the dictionaries output from elasticsearch."
      ]
    },
    {
      "cell_type": "code",
      "execution_count": null,
      "metadata": {
        "id": "U7Wcx-gotra0"
      },
      "outputs": [],
      "source": [
        "def get_evaluation_metrics_df(\n",
        "                                eval_metric_name,\n",
        "                                queries_df,\n",
        "                                qrels_df,\n",
        "                                es_index,\n",
        "                                eval_metric_dict,\n",
        "                                match_type = 'match',\n",
        "                                boolean_query_option = 'should',\n",
        "                                minimum_should_match = 1\n",
        "                                ):\n",
        "    \"\"\"\n",
        "    Put evaluation metrics in a dataframe\n",
        "\n",
        "    Puts elasticsearch output in a list of lists, converts\n",
        "    to an array, which forms a dataframe, The evaluation\n",
        "    metric dataframe can then be analyse using descriptive\n",
        "    statistic functions such as .mean().\n",
        "\n",
        "    Parameters\n",
        "    ----------\n",
        "    queries_df : pandas.DataFrame\n",
        "        Dataframe containing query IDs and query text.\n",
        "    es_index : str\n",
        "        Name of the index to be used for the search.\n",
        "    qrels_df : pandas.DataFrame\n",
        "        Dataframe containing the ground truth relevance labels.\n",
        "    eval_metric_dict : dict\n",
        "        Dictionary containing the parameters of the evaluation metric\n",
        "        such as k for NDCG@k\n",
        "    eval_metric_name : str\n",
        "        Evaluation metric name to be used as column header\n",
        "    Returns\n",
        "    -------\n",
        "    pandas.DataFrame\n",
        "        Dataframe containing the evaluation metrics for the provided\n",
        "        queries.\n",
        "    \"\"\"\n",
        "\n",
        "    eval_metrics_list = get_evaluation_metrics(\n",
        "                                                queries_df = queries_df,\n",
        "                                                qrels_df = qrels_df,\n",
        "                                                es_index = es_index,\n",
        "                                                eval_metric_dict = eval_metric_dict,\n",
        "                                                match_type = match_type,\n",
        "                                                boolean_query_option = boolean_query_option,\n",
        "                                                minimum_should_match = minimum_should_match\n",
        "                                                )\n",
        "    structured_eval_metrics_list = []\n",
        "\n",
        "    for i in range(len(queries_df)):\n",
        "        query_id = queries_df.index[i]\n",
        "        # Look up evaluation metric from evaluation metrics list of dictionaries\n",
        "        eval_metric_for_query = eval_metrics_list[i][query_id]['metric_score']\n",
        "        # Create a list of query ID and the corresponding metric score\n",
        "        eval_metrics = [str(query_id), eval_metric_for_query]\n",
        "        # Add list to list of lists\n",
        "        structured_eval_metrics_list.append(eval_metrics)\n",
        "        # Convert to an array to be used to form a dataframe\n",
        "        eval_metrics_array = np.array(structured_eval_metrics_list, ndmin = 2)\n",
        "\n",
        "    eval_df = pd.DataFrame(eval_metrics_array, columns = ['query_id', eval_metric_name])\n",
        "    eval_df = eval_df.astype({eval_metric_name:'float64'})\n",
        "\n",
        "    return eval_df.loc[:, eval_metric_name].describe()[['mean', 'std']]"
      ]
    },
    {
      "cell_type": "markdown",
      "metadata": {
        "id": "o2oMKeCxtra1"
      },
      "source": [
        "The above function is used below to calculate the NDCG@5 & P@5 for the models for all queries. Comparisons are made below given the current hyperparameters of each model."
      ]
    },
    {
      "cell_type": "markdown",
      "metadata": {
        "id": "jNw2PQLEGfbj"
      },
      "source": [
        "## Section 5 - Initial Evaluation of Models"
      ]
    },
    {
      "cell_type": "markdown",
      "metadata": {
        "id": "2CQqdJ-mvOqM"
      },
      "source": [
        "### Section 5.1 - Comparisons of NDCG@5"
      ]
    },
    {
      "cell_type": "code",
      "execution_count": null,
      "metadata": {
        "id": "DpeJ829etra1"
      },
      "outputs": [],
      "source": [
        "lm_ndcg_at_5 = get_evaluation_metrics_df(\n",
        "                                            eval_metric_name = 'NDCG@5',\n",
        "                                            queries_df = queries_df,\n",
        "                                            qrels_df = qrels_df,\n",
        "                                            es_index = 'lm_index_lambda_0p1',\n",
        "                                            eval_metric_dict = ndcg_at_k_metric,\n",
        "                                            match_type = 'match'\n",
        "                                            )"
      ]
    },
    {
      "cell_type": "code",
      "execution_count": null,
      "metadata": {
        "id": "ZkmAZf2ztra1"
      },
      "outputs": [],
      "source": [
        "\n",
        "bm25_ndcg_at_5 = get_evaluation_metrics_df(\n",
        "                                            eval_metric_name = 'NDCG@5',\n",
        "                                            queries_df = queries_df,\n",
        "                                            qrels_df = qrels_df,\n",
        "                                            es_index = 'bm25_model_index',\n",
        "                                            eval_metric_dict = ndcg_at_k_metric,\n",
        "                                            match_type = 'match'\n",
        "                                            )"
      ]
    },
    {
      "cell_type": "code",
      "execution_count": null,
      "metadata": {
        "id": "Z1QmczkjXsvx"
      },
      "outputs": [],
      "source": [
        "std_tfidf_ndcg_at_5 = get_evaluation_metrics_df(\n",
        "                                            eval_metric_name = 'NDCG@5',\n",
        "                                            queries_df = queries_df,\n",
        "                                            qrels_df = qrels_df,\n",
        "                                            es_index = 'tf_idf',\n",
        "                                            eval_metric_dict = ndcg_at_k_metric,\n",
        "                                            match_type = 'match'\n",
        "                                            )"
      ]
    },
    {
      "cell_type": "code",
      "execution_count": null,
      "metadata": {
        "id": "sdiHyJrTGfbk",
        "outputId": "cce8a906-3387-40e0-8947-e627334f78df"
      },
      "outputs": [
        {
          "name": "stdout",
          "output_type": "stream",
          "text": [
            "Language Model (lambda at 0.1) NDCG@5 for all training queries:\n"
          ]
        },
        {
          "data": {
            "text/plain": [
              "mean    0.385076\n",
              "std     0.274755\n",
              "Name: NDCG@5, dtype: float64"
            ]
          },
          "execution_count": 85,
          "metadata": {},
          "output_type": "execute_result"
        }
      ],
      "source": [
        "print('Language Model (lambda at 0.1) NDCG@5 for all training queries:')\n",
        "lm_ndcg_at_5"
      ]
    },
    {
      "cell_type": "code",
      "execution_count": null,
      "metadata": {
        "id": "rBXqalWmGfbk",
        "outputId": "f637c8f7-9a9f-44b4-b612-5b8640a44f16"
      },
      "outputs": [
        {
          "name": "stdout",
          "output_type": "stream",
          "text": [
            "BM25 Model NDCG@5 for all training queries:\n"
          ]
        },
        {
          "data": {
            "text/plain": [
              "mean    0.399817\n",
              "std     0.278243\n",
              "Name: NDCG@5, dtype: float64"
            ]
          },
          "execution_count": 86,
          "metadata": {},
          "output_type": "execute_result"
        }
      ],
      "source": [
        "print('BM25 Model NDCG@5 for all training queries:')\n",
        "bm25_ndcg_at_5"
      ]
    },
    {
      "cell_type": "code",
      "execution_count": null,
      "metadata": {
        "colab": {
          "base_uri": "https://localhost:8080/"
        },
        "id": "lOBn1EWWX73n",
        "outputId": "b7cddbee-63cd-4d91-ba68-685d24481205"
      },
      "outputs": [
        {
          "name": "stdout",
          "output_type": "stream",
          "text": [
            "Standard tf-idf NDCG@5 for all queries:\n"
          ]
        },
        {
          "data": {
            "text/plain": [
              "mean    0.289628\n",
              "std     0.275755\n",
              "Name: NDCG@5, dtype: float64"
            ]
          },
          "execution_count": 36,
          "metadata": {},
          "output_type": "execute_result"
        }
      ],
      "source": [
        "print('Standard tf-idf NDCG@5 for all queries:')\n",
        "std_tfidf_ndcg_at_5"
      ]
    },
    {
      "cell_type": "markdown",
      "metadata": {
        "id": "j90w_G2ntra2"
      },
      "source": [
        "### Initial Evaluation of Models - Comparisons of P@5"
      ]
    },
    {
      "cell_type": "markdown",
      "metadata": {
        "id": "74l90Bwftra2"
      },
      "source": [
        "Below the parameters for calculating Precision@5 have been outlined."
      ]
    },
    {
      "cell_type": "code",
      "execution_count": null,
      "metadata": {
        "id": "Q_VpTOB0tra2"
      },
      "outputs": [],
      "source": [
        "precision_at_k_metric = {\n",
        "                        'precision': {\n",
        "                                        'k': 5,\n",
        "                                        # query relevance labels >= 1 to be deemed relevant\n",
        "                                        'relevant_rating_threshold': 1,\n",
        "                                        }\n",
        "                        }"
      ]
    },
    {
      "cell_type": "markdown",
      "metadata": {
        "id": "OPCyNDCktra2"
      },
      "source": [
        "The scores for P@5 are aggregated below across all queries and compared between models below."
      ]
    },
    {
      "cell_type": "code",
      "execution_count": null,
      "metadata": {
        "id": "mmI3g4rqtra2"
      },
      "outputs": [],
      "source": [
        "lm_p_at_5 = get_evaluation_metrics_df(\n",
        "                                            eval_metric_name = 'P@5',\n",
        "                                            queries_df = queries_df,\n",
        "                                            qrels_df = qrels_df,\n",
        "                                            es_index = 'lm_index_lambda_0p1',\n",
        "                                            eval_metric_dict = precision_at_k_metric,\n",
        "                                            match_type = 'match'\n",
        "                                            )"
      ]
    },
    {
      "cell_type": "code",
      "execution_count": null,
      "metadata": {
        "id": "xLsjKEDMtra3"
      },
      "outputs": [],
      "source": [
        "\n",
        "bm25_p_at_5 = get_evaluation_metrics_df(\n",
        "                                            eval_metric_name = 'P@5',\n",
        "                                            queries_df = queries_df,\n",
        "                                            qrels_df = qrels_df,\n",
        "                                            es_index = 'bm25_model_index',\n",
        "                                            eval_metric_dict = precision_at_k_metric,\n",
        "                                            match_type = 'match'\n",
        "                                            )"
      ]
    },
    {
      "cell_type": "code",
      "execution_count": null,
      "metadata": {
        "id": "9iixPbWTYsN5"
      },
      "outputs": [],
      "source": [
        "std_tfidf_p_at_5 = get_evaluation_metrics_df(\n",
        "                                            eval_metric_name = 'P@5',\n",
        "                                            queries_df = queries_df,\n",
        "                                            qrels_df = qrels_df,\n",
        "                                            es_index = 'tf_idf',\n",
        "                                            eval_metric_dict = precision_at_k_metric,\n",
        "                                            match_type = 'match'\n",
        "                                            )"
      ]
    },
    {
      "cell_type": "code",
      "execution_count": null,
      "metadata": {
        "id": "NRccubxYtra3",
        "outputId": "a95fb770-e64c-4f95-d5e8-4ee9189542b5"
      },
      "outputs": [
        {
          "name": "stdout",
          "output_type": "stream",
          "text": [
            "Language Model (lambda at 0.1) Precision@5 for all training queries:\n"
          ]
        },
        {
          "data": {
            "text/plain": [
              "mean    0.290328\n",
              "std     0.227278\n",
              "Name: P@5, dtype: float64"
            ]
          },
          "execution_count": 95,
          "metadata": {},
          "output_type": "execute_result"
        }
      ],
      "source": [
        "print('Language Model (lambda at 0.1) Precision@5 for all training queries:')\n",
        "lm_p_at_5"
      ]
    },
    {
      "cell_type": "code",
      "execution_count": null,
      "metadata": {
        "id": "XJlc7SAItra3",
        "outputId": "34c6b72c-6a59-4615-b466-60c799c74e56"
      },
      "outputs": [
        {
          "name": "stdout",
          "output_type": "stream",
          "text": [
            "BM25 Model Precision@5 for all training queries:\n"
          ]
        },
        {
          "data": {
            "text/plain": [
              "mean    0.295175\n",
              "std     0.229133\n",
              "Name: P@5, dtype: float64"
            ]
          },
          "execution_count": 97,
          "metadata": {},
          "output_type": "execute_result"
        }
      ],
      "source": [
        "print('BM25 Model Precision@5 for all training queries:')\n",
        "bm25_p_at_5"
      ]
    },
    {
      "cell_type": "code",
      "execution_count": null,
      "metadata": {
        "colab": {
          "base_uri": "https://localhost:8080/"
        },
        "id": "p--8kY4NYtBy",
        "outputId": "ed861dc5-417c-4a6d-d2b4-c443a5988c5b"
      },
      "outputs": [
        {
          "name": "stdout",
          "output_type": "stream",
          "text": [
            "Standard tf-idf Precision@5 for all training queries:\n"
          ]
        },
        {
          "data": {
            "text/plain": [
              "mean    0.216090\n",
              "std     0.220669\n",
              "Name: P@5, dtype: float64"
            ]
          },
          "execution_count": 40,
          "metadata": {},
          "output_type": "execute_result"
        }
      ],
      "source": [
        "print('Standard tf-idf Precision@5 for all training queries:')\n",
        "std_tfidf_p_at_5"
      ]
    },
    {
      "cell_type": "markdown",
      "metadata": {
        "id": "aWfTQMKUtra3"
      },
      "source": [
        "The evaluation metrics for the language model appear to be stronger than the BM25 Model (using the current hyperparameters), although the variation appears to be greater within the BM25 index, which could be linked to how documents of varying length are treated given the document length normalisation parameter. Alternative hyperparameters, taking into consideration query and document length, will be considered below in order to improve the evaluation metrics before making final comparisons on the test dataset."
      ]
    },
    {
      "cell_type": "markdown",
      "metadata": {
        "id": "NouvHIgOGfbn"
      },
      "source": [
        "## Section 6 - BM25 Parameter Tuning"
      ]
    },
    {
      "cell_type": "markdown",
      "metadata": {
        "id": "6Arh4KOHbk87"
      },
      "source": [
        "### Section 6.1 - BM25 Index Creation Function"
      ]
    },
    {
      "cell_type": "code",
      "execution_count": null,
      "metadata": {
        "id": "92wjRfJybc0Z"
      },
      "outputs": [],
      "source": [
        "# The code below has been adapted from the Elasticsearch Guide [8.1] Similarity Module & Text Analysis, 2022\n",
        "def generate_bm25_index_for_docs(\n",
        "                                es_index_name,\n",
        "                                number_of_shards = 4,\n",
        "                                number_of_replicas  = 1,\n",
        "                                similarity_name = 'bm25_similarity',\n",
        "                                similarity_type = 'BM25',\n",
        "                                k1 = 1.2,\n",
        "                                b = 0.75,\n",
        "                                stop_word_removal = True,\n",
        "                                stemming = True\n",
        "                                ):\n",
        "    \"\"\"\n",
        "    Create language model index based on specified settings\n",
        "\n",
        "    Uses logical operators to identify the components to be included\n",
        "    in the settings and mappings of the index. Uses mapping\n",
        "    settings required for the wikIR documents.\n",
        "\n",
        "    Parameters\n",
        "    ----------\n",
        "    es_index_name : str\n",
        "        Name to be given to new index\n",
        "    number_of_shards : int, optional\n",
        "        Number of shards to be used for the index, by default 4\n",
        "    number_of_replicas : int, optional\n",
        "        Number of replicas to be used for the index, by default 1\n",
        "    similarity_name : str, optional\n",
        "        Similarity name to be used in settings of the index. This\n",
        "        can be arbitrary, but will need to be distinguishable,\n",
        "        particularly from other language models using alternative\n",
        "        settings, by default 'lm_similarity'\n",
        "    lm_smoothing_type : str, optional\n",
        "        Language Model smoothing type, by default 'LMJelinekMercer'\n",
        "    lm_smoothing_lambda : float, optional\n",
        "        Language Model lambda smoothing value, by default 0.1\n",
        "    stop_word_removal : bool, optional\n",
        "        Choice of whether or not to use stop word removal\n",
        "        for measuring similarity, by default True\n",
        "    stemming : bool, optional\n",
        "        Choice of whether or not to use stemming removal\n",
        "        for measuring similarity,, by default True\n",
        "\n",
        "    Returns\n",
        "    -------\n",
        "    ObjectApiResponse or str\n",
        "        API response confirming whether the index has been created\n",
        "        or str stating the index already exists\n",
        "    \"\"\"\n",
        "\n",
        "    bm25_settings = {\n",
        "                    'number_of_shards': number_of_shards,\n",
        "                    'number_of_replicas': number_of_replicas,\n",
        "                    'index' : {\n",
        "                                'similarity' : {\n",
        "                                                similarity_name : {\n",
        "                                                                    'type' : similarity_type,\n",
        "                                                                    'k1' : k1,\n",
        "                                                                    'b': b\n",
        "                                                                    }\n",
        "                                                }\n",
        "                                }\n",
        "                    }\n",
        "\n",
        "    if stop_word_removal and stemming:\n",
        "        analyser_settings =  {\n",
        "                                'stop_word_removal' : {\n",
        "                                                        'tokenizer' : 'whitespace',\n",
        "                                                        'filter' : ['stop'],\n",
        "                                                        'stopwords' : '_english_'\n",
        "                                                        },\n",
        "                                'stem'              :  {\n",
        "                                                        'tokenizer' : 'whitespace',\n",
        "                                                        'filter': ['stemmer']\n",
        "                                                         }\n",
        "                                }\n",
        "\n",
        "        bm25_settings['analysis'] =  analyser_settings\n",
        "\n",
        "    elif stop_word_removal:\n",
        "        analyser_settings =  {\n",
        "                                'stop_word_removal' : {\n",
        "                                                        'tokenizer' : 'whitespace',\n",
        "                                                        'filter' : ['stop'],\n",
        "                                                        'stopwords' : '_english_'\n",
        "                                                        }\n",
        "                                }\n",
        "        bm25_settings['analysis'] =  analyser_settings\n",
        "\n",
        "    elif stemming:\n",
        "        analyser_settings =  {\n",
        "                                'stem'              :  {\n",
        "                                                        'tokenizer' : 'whitespace',\n",
        "                                                        'filter': ['stemmer']\n",
        "                                                         }\n",
        "                                }\n",
        "        bm25_settings['analysis'] =  analyser_settings\n",
        "\n",
        "    else:\n",
        "        pass\n",
        "\n",
        "    bm25_mappings = {\n",
        "                    'properties': {\n",
        "                                    'doc_text': {'type': 'text', 'similarity': similarity_name}\n",
        "                                    }\n",
        "                    }\n",
        "\n",
        "    if es.indices.exists(index = es_index_name):\n",
        "        return print('An index with the name {} already exists'.format(es_index_name))\n",
        "    else:\n",
        "        return es.indices.create(index = es_index_name, settings = bm25_settings, mappings = bm25_mappings)\n"
      ]
    },
    {
      "cell_type": "markdown",
      "metadata": {
        "id": "CqKbOyRMbpt0"
      },
      "source": [
        "### Section 6.2 - Create Indices"
      ]
    },
    {
      "cell_type": "code",
      "execution_count": null,
      "metadata": {
        "id": "OkcLMk_7bcw4"
      },
      "outputs": [],
      "source": [
        "# Define k1 and b parameters in a list to enumerate through later\n",
        "bm25_k_params = ['0.5', '1.2', '2.5', '3.5', '0.5', '1.2', '2.5', '3.5', '0.5', '1.2', '2.5', '3.5']\n",
        "bm25_b_params = ['0.1', '0.1', '0.1', '0.1', '0.5', '0.5', '0.5', '0.5', '0.95', '0.95', '0.95', '0.95']"
      ]
    },
    {
      "cell_type": "code",
      "execution_count": null,
      "metadata": {
        "id": "Qu2Ljnqq__iQ"
      },
      "outputs": [],
      "source": [
        "for k_param, b_param in zip(bm25_k_params, bm25_b_params):\n",
        "    # use the hyperparameter in the names for the index and similarity measure\n",
        "\n",
        "    index_name = 'bm25_k' + k_param[0:] + '_b' + b_param[0:]\n",
        "    similarity_name =  'bm25_k_' + k_param[2:]\n",
        "    k1_param = float(k_param)\n",
        "    b_parameter = float(b_param)\n",
        "\n",
        "    generate_bm25_index_for_docs(\n",
        "                                es_index_name = index_name,\n",
        "                                number_of_shards = 4,\n",
        "                                number_of_replicas  = 1,\n",
        "                                similarity_name = 'bm25_similarity',\n",
        "                                similarity_type = 'BM25',\n",
        "                                k1 = k1_param,\n",
        "                                b = b_parameter,\n",
        "                                stop_word_removal = True,\n",
        "                                stemming = True\n",
        "                                )"
      ]
    },
    {
      "cell_type": "markdown",
      "metadata": {
        "id": "uK5gRxXNcHsU"
      },
      "source": [
        "### Section 6.3 - Add Documents to Indices"
      ]
    },
    {
      "cell_type": "code",
      "execution_count": null,
      "metadata": {
        "colab": {
          "base_uri": "https://localhost:8080/"
        },
        "id": "AmGwFqGNbcrA",
        "outputId": "2ed42459-d7a2-4c4d-916a-c36ca5a2b763"
      },
      "outputs": [
        {
          "name": "stderr",
          "output_type": "stream",
          "text": [
            "12it [27:41, 138.47s/it]\n"
          ]
        }
      ],
      "source": [
        "# Add docs to new indices\n",
        "\n",
        "for k_param, b_param in tqdm(zip(bm25_k_params, bm25_b_params)):\n",
        "    index_name = 'bm25_k' + k_param[0:] + '_b' + b_param[0:]\n",
        "    bulk(es, generate_actions(), index = index_name)"
      ]
    },
    {
      "cell_type": "markdown",
      "metadata": {
        "id": "9sbCE0szcXS7"
      },
      "source": [
        "### Section 6.4 - nDCG Comparison Between 'match' and Boolean Queries with Different Parameters"
      ]
    },
    {
      "cell_type": "markdown",
      "metadata": {
        "id": "olLoHygdGfbr"
      },
      "source": [
        "Below, a function has been defined to summarise the evaluation metrics of each model in a dataframe to allow comparisons to be made."
      ]
    },
    {
      "cell_type": "code",
      "execution_count": null,
      "metadata": {
        "id": "GytTxZFWGfbr"
      },
      "outputs": [],
      "source": [
        "def compare_model_evaluation_metrics_at_k_df(\n",
        "                                            list_of_index_names,\n",
        "                                            queries_df,\n",
        "                                            qrels_df,\n",
        "                                            eval_metric_name = 'NDCG',\n",
        "                                            k = 5,\n",
        "                                            match_type = 'match',\n",
        "                                            boolean_query_option = 'should',\n",
        "                                            minimum_should_match = 1\n",
        "                                            ):\n",
        "    \"\"\"\n",
        "    Generate a dataframe of evaluation metrics given indices.\n",
        "\n",
        "    Evaluate the list of retrieval models and put the results in a dataframe\n",
        "\n",
        "    Parameters\n",
        "    ----------\n",
        "    list_of_index_names : list of str\n",
        "        List of index names to evaluate, must already\n",
        "        exist in cluster.\n",
        "    queries_df : pandas.DataFrame\n",
        "        Dataframe containing query IDs and query text.\n",
        "    qrels_df : pandas.DataFrame\n",
        "        Dataframe containing the ground truth relevance labels.\n",
        "    eval_metric_name : str, optional\n",
        "        Name of evaluation metric such as 'NDCG' or\n",
        "        'Precision', by default 'NDCG'.\n",
        "    k : int, optional\n",
        "        Number of top search results to consider for\n",
        "        each query when evaluating the model, by default 5.\n",
        "    match_type : str\n",
        "        Match type to use for the queries, by default 'match'.\n",
        "    boolean_query_option : str\n",
        "        Option specifying how terms in boolean query are matched\n",
        "        such as 'should' or 'must', by default 'should'.\n",
        "    minimum_should_match : int or float\n",
        "        Number of query terms or proportion that should match\n",
        "        terms in the documents if boolean_query_option\n",
        "        is set to 'should', by default 1.\n",
        "\n",
        "    Returns\n",
        "    -------\n",
        "    pandas.DataFrame\n",
        "        Table of the evaluation metrics sorted highest to lowest\n",
        "        in terms of the mean of the specified evaluation metric at k.\n",
        "    \"\"\"\n",
        "    evaluation_metrics_for_each_index = []\n",
        "\n",
        "    if eval_metric_name == 'NDCG':\n",
        "        evaluation_metric_dict = {\n",
        "                                    'dcg': {\n",
        "                                            'k': k,\n",
        "                                            'normalize': True\n",
        "                                            }\n",
        "                                    }\n",
        "    elif eval_metric_name == 'Precision':\n",
        "        evaluation_metric_dict = {\n",
        "                                    'precision': {\n",
        "                                                    'k': k,\n",
        "                                                    'relevant_rating_threshold': 1\n",
        "                                                    }\n",
        "                                    }\n",
        "    else:\n",
        "        return print(\"Evaluation metric name not included, 'Precision' & 'NDCG' can be used\")\n",
        "\n",
        "    eval_metric_name = eval_metric_name +'@'+ str(k)\n",
        "\n",
        "    for es_index_name in list_of_index_names:\n",
        "        if not es.indices.exists(index = es_index_name):\n",
        "            return print(\"Index name '{}' not found in cluster\".format(es_index_name))\n",
        "        else:\n",
        "            pass\n",
        "\n",
        "        evaluation_metrics = get_evaluation_metrics_df(\n",
        "                                                    eval_metric_name = eval_metric_name,\n",
        "                                                    queries_df = queries_df,\n",
        "                                                    qrels_df = qrels_df,\n",
        "                                                    es_index = es_index_name,\n",
        "                                                    eval_metric_dict = evaluation_metric_dict,\n",
        "                                                    match_type = match_type,\n",
        "                                                    boolean_query_option = boolean_query_option,\n",
        "                                                    minimum_should_match = minimum_should_match\n",
        "                                                    )\n",
        "\n",
        "        evaluation_metrics = evaluation_metrics\n",
        "        index_results = [es_index_name] + list(evaluation_metrics)\n",
        "        evaluation_metrics_for_each_index.append(index_results)\n",
        "\n",
        "    evaluation_metrics_array = np.array(evaluation_metrics_for_each_index, ndmin = 2)\n",
        "    df = pd.DataFrame(\n",
        "                        evaluation_metrics_array,\n",
        "                        columns = ['Model_Index', 'Mean_' + eval_metric_name, 'Std_' + eval_metric_name ]\n",
        "                        )\n",
        "    df = df.sort_values(by = 'Mean_' + eval_metric_name, ascending = False)\n",
        "    return df\n",
        "\n"
      ]
    },
    {
      "cell_type": "markdown",
      "metadata": {
        "id": "er35-1ueccft"
      },
      "source": [
        "#### Specify `should` to enable logical OR operator"
      ]
    },
    {
      "cell_type": "code",
      "execution_count": null,
      "metadata": {
        "id": "5d1IQM6Cbck2"
      },
      "outputs": [],
      "source": [
        "# Use values to get names of the indices\n",
        "index_names = ['bm25_k' + k_param[0:] + '_b' + b_param[0:] for k_param, b_param in zip(bm25_k_params, bm25_b_params)]\n",
        "\n",
        "# compare the evaluation metrics for each index\n",
        "bm25_ndcg_should = compare_model_evaluation_metrics_at_k_df(\n",
        "                                        list_of_index_names = index_names,\n",
        "                                        queries_df = queries_df,\n",
        "                                        qrels_df = qrels_df,\n",
        "                                        eval_metric_name = 'NDCG',\n",
        "                                        k = 5,\n",
        "                                        match_type = 'bool',\n",
        "                                        boolean_query_option = 'should'\n",
        "                                        )"
      ]
    },
    {
      "cell_type": "markdown",
      "metadata": {
        "id": "WlLxLGWKcjC4"
      },
      "source": [
        "#### Specify `must` to enable logical AND operator"
      ]
    },
    {
      "cell_type": "code",
      "execution_count": null,
      "metadata": {
        "id": "Q3ujqoUTbciJ"
      },
      "outputs": [],
      "source": [
        "# Use values to get names of the indices\n",
        "index_names = ['bm25_k' + k_param[0:] + '_b' + b_param[0:] for k_param, b_param in zip(bm25_k_params, bm25_b_params)]\n",
        "\n",
        "# compare the evaluation metrics for each index\n",
        "bm25_ndcg_must = compare_model_evaluation_metrics_at_k_df(\n",
        "                                        list_of_index_names = index_names,\n",
        "                                        queries_df = queries_df,\n",
        "                                        qrels_df = qrels_df,\n",
        "                                        eval_metric_name = 'NDCG',\n",
        "                                        k = 5,\n",
        "                                        match_type = 'bool',\n",
        "                                        boolean_query_option = 'must'\n",
        "                                        )"
      ]
    },
    {
      "cell_type": "markdown",
      "metadata": {
        "id": "CVMMgfE-crGn"
      },
      "source": [
        "#### Comparison\n",
        "\n",
        "The table below compiles all results and sorts the mean nDCG values from largest to smallest. So, the best performing models are at the top, and the lower performing are at the bottom."
      ]
    },
    {
      "cell_type": "code",
      "execution_count": null,
      "metadata": {
        "id": "zq7XMz25bcfH"
      },
      "outputs": [],
      "source": [
        "# Add query type to dataframes\n",
        "bm25_ndcg_should['type'] = 'should'\n",
        "bm25_ndcg_must['type'] = 'must'"
      ]
    },
    {
      "cell_type": "code",
      "execution_count": null,
      "metadata": {
        "colab": {
          "base_uri": "https://localhost:8080/",
          "height": 801
        },
        "id": "yMbmcRrJbccX",
        "outputId": "dceb6b52-6379-4c76-87f1-1c01ac1c7796"
      },
      "outputs": [
        {
          "data": {
            "text/html": [
              "\n",
              "  <div id=\"df-3aea7f97-a32d-4843-8932-28410ba8afad\">\n",
              "    <div class=\"colab-df-container\">\n",
              "      <div>\n",
              "<style scoped>\n",
              "    .dataframe tbody tr th:only-of-type {\n",
              "        vertical-align: middle;\n",
              "    }\n",
              "\n",
              "    .dataframe tbody tr th {\n",
              "        vertical-align: top;\n",
              "    }\n",
              "\n",
              "    .dataframe thead th {\n",
              "        text-align: right;\n",
              "    }\n",
              "</style>\n",
              "<table border=\"1\" class=\"dataframe\">\n",
              "  <thead>\n",
              "    <tr style=\"text-align: right;\">\n",
              "      <th></th>\n",
              "      <th>Model_Index</th>\n",
              "      <th>Mean_NDCG@5</th>\n",
              "      <th>Std_NDCG@5</th>\n",
              "      <th>type</th>\n",
              "    </tr>\n",
              "  </thead>\n",
              "  <tbody>\n",
              "    <tr>\n",
              "      <th>0</th>\n",
              "      <td>bm25_k3.5_b0.1</td>\n",
              "      <td>0.402153</td>\n",
              "      <td>0.282125</td>\n",
              "      <td>must</td>\n",
              "    </tr>\n",
              "    <tr>\n",
              "      <th>1</th>\n",
              "      <td>bm25_k1.2_b0.1</td>\n",
              "      <td>0.401787</td>\n",
              "      <td>0.278075</td>\n",
              "      <td>should</td>\n",
              "    </tr>\n",
              "    <tr>\n",
              "      <th>2</th>\n",
              "      <td>bm25_k2.5_b0.1</td>\n",
              "      <td>0.401671</td>\n",
              "      <td>0.275836</td>\n",
              "      <td>should</td>\n",
              "    </tr>\n",
              "    <tr>\n",
              "      <th>3</th>\n",
              "      <td>bm25_k2.5_b0.1</td>\n",
              "      <td>0.401506</td>\n",
              "      <td>0.282038</td>\n",
              "      <td>must</td>\n",
              "    </tr>\n",
              "    <tr>\n",
              "      <th>4</th>\n",
              "      <td>bm25_k3.5_b0.5</td>\n",
              "      <td>0.401382</td>\n",
              "      <td>0.281722</td>\n",
              "      <td>must</td>\n",
              "    </tr>\n",
              "    <tr>\n",
              "      <th>5</th>\n",
              "      <td>bm25_k2.5_b0.5</td>\n",
              "      <td>0.401007</td>\n",
              "      <td>0.281225</td>\n",
              "      <td>must</td>\n",
              "    </tr>\n",
              "    <tr>\n",
              "      <th>6</th>\n",
              "      <td>bm25_k2.5_b0.5</td>\n",
              "      <td>0.400629</td>\n",
              "      <td>0.274926</td>\n",
              "      <td>should</td>\n",
              "    </tr>\n",
              "    <tr>\n",
              "      <th>7</th>\n",
              "      <td>bm25_k1.2_b0.5</td>\n",
              "      <td>0.400318</td>\n",
              "      <td>0.278437</td>\n",
              "      <td>should</td>\n",
              "    </tr>\n",
              "    <tr>\n",
              "      <th>8</th>\n",
              "      <td>bm25_k1.2_b0.1</td>\n",
              "      <td>0.400234</td>\n",
              "      <td>0.282215</td>\n",
              "      <td>must</td>\n",
              "    </tr>\n",
              "    <tr>\n",
              "      <th>9</th>\n",
              "      <td>bm25_k2.5_b0.95</td>\n",
              "      <td>0.399992</td>\n",
              "      <td>0.281278</td>\n",
              "      <td>must</td>\n",
              "    </tr>\n",
              "    <tr>\n",
              "      <th>10</th>\n",
              "      <td>bm25_k3.5_b0.95</td>\n",
              "      <td>0.399424</td>\n",
              "      <td>0.281741</td>\n",
              "      <td>must</td>\n",
              "    </tr>\n",
              "    <tr>\n",
              "      <th>11</th>\n",
              "      <td>bm25_k1.2_b0.95</td>\n",
              "      <td>0.399242</td>\n",
              "      <td>0.277888</td>\n",
              "      <td>should</td>\n",
              "    </tr>\n",
              "    <tr>\n",
              "      <th>12</th>\n",
              "      <td>bm25_k2.5_b0.95</td>\n",
              "      <td>0.399115</td>\n",
              "      <td>0.275167</td>\n",
              "      <td>should</td>\n",
              "    </tr>\n",
              "    <tr>\n",
              "      <th>13</th>\n",
              "      <td>bm25_k3.5_b0.1</td>\n",
              "      <td>0.39889</td>\n",
              "      <td>0.276374</td>\n",
              "      <td>should</td>\n",
              "    </tr>\n",
              "    <tr>\n",
              "      <th>14</th>\n",
              "      <td>bm25_k1.2_b0.5</td>\n",
              "      <td>0.398664</td>\n",
              "      <td>0.282706</td>\n",
              "      <td>must</td>\n",
              "    </tr>\n",
              "    <tr>\n",
              "      <th>15</th>\n",
              "      <td>bm25_k3.5_b0.5</td>\n",
              "      <td>0.397574</td>\n",
              "      <td>0.276012</td>\n",
              "      <td>should</td>\n",
              "    </tr>\n",
              "    <tr>\n",
              "      <th>16</th>\n",
              "      <td>bm25_k1.2_b0.95</td>\n",
              "      <td>0.397519</td>\n",
              "      <td>0.282225</td>\n",
              "      <td>must</td>\n",
              "    </tr>\n",
              "    <tr>\n",
              "      <th>17</th>\n",
              "      <td>bm25_k3.5_b0.95</td>\n",
              "      <td>0.395126</td>\n",
              "      <td>0.275969</td>\n",
              "      <td>should</td>\n",
              "    </tr>\n",
              "    <tr>\n",
              "      <th>18</th>\n",
              "      <td>bm25_k0.5_b0.1</td>\n",
              "      <td>0.392922</td>\n",
              "      <td>0.279954</td>\n",
              "      <td>must</td>\n",
              "    </tr>\n",
              "    <tr>\n",
              "      <th>19</th>\n",
              "      <td>bm25_k0.5_b0.1</td>\n",
              "      <td>0.392767</td>\n",
              "      <td>0.277059</td>\n",
              "      <td>should</td>\n",
              "    </tr>\n",
              "    <tr>\n",
              "      <th>20</th>\n",
              "      <td>bm25_k0.5_b0.5</td>\n",
              "      <td>0.391863</td>\n",
              "      <td>0.280318</td>\n",
              "      <td>must</td>\n",
              "    </tr>\n",
              "    <tr>\n",
              "      <th>21</th>\n",
              "      <td>bm25_k0.5_b0.5</td>\n",
              "      <td>0.391714</td>\n",
              "      <td>0.277432</td>\n",
              "      <td>should</td>\n",
              "    </tr>\n",
              "    <tr>\n",
              "      <th>22</th>\n",
              "      <td>bm25_k0.5_b0.95</td>\n",
              "      <td>0.390113</td>\n",
              "      <td>0.279596</td>\n",
              "      <td>must</td>\n",
              "    </tr>\n",
              "    <tr>\n",
              "      <th>23</th>\n",
              "      <td>bm25_k0.5_b0.95</td>\n",
              "      <td>0.390021</td>\n",
              "      <td>0.27686</td>\n",
              "      <td>should</td>\n",
              "    </tr>\n",
              "  </tbody>\n",
              "</table>\n",
              "</div>\n",
              "      <button class=\"colab-df-convert\" onclick=\"convertToInteractive('df-3aea7f97-a32d-4843-8932-28410ba8afad')\"\n",
              "              title=\"Convert this dataframe to an interactive table.\"\n",
              "              style=\"display:none;\">\n",
              "        \n",
              "  <svg xmlns=\"http://www.w3.org/2000/svg\" height=\"24px\"viewBox=\"0 0 24 24\"\n",
              "       width=\"24px\">\n",
              "    <path d=\"M0 0h24v24H0V0z\" fill=\"none\"/>\n",
              "    <path d=\"M18.56 5.44l.94 2.06.94-2.06 2.06-.94-2.06-.94-.94-2.06-.94 2.06-2.06.94zm-11 1L8.5 8.5l.94-2.06 2.06-.94-2.06-.94L8.5 2.5l-.94 2.06-2.06.94zm10 10l.94 2.06.94-2.06 2.06-.94-2.06-.94-.94-2.06-.94 2.06-2.06.94z\"/><path d=\"M17.41 7.96l-1.37-1.37c-.4-.4-.92-.59-1.43-.59-.52 0-1.04.2-1.43.59L10.3 9.45l-7.72 7.72c-.78.78-.78 2.05 0 2.83L4 21.41c.39.39.9.59 1.41.59.51 0 1.02-.2 1.41-.59l7.78-7.78 2.81-2.81c.8-.78.8-2.07 0-2.86zM5.41 20L4 18.59l7.72-7.72 1.47 1.35L5.41 20z\"/>\n",
              "  </svg>\n",
              "      </button>\n",
              "      \n",
              "  <style>\n",
              "    .colab-df-container {\n",
              "      display:flex;\n",
              "      flex-wrap:wrap;\n",
              "      gap: 12px;\n",
              "    }\n",
              "\n",
              "    .colab-df-convert {\n",
              "      background-color: #E8F0FE;\n",
              "      border: none;\n",
              "      border-radius: 50%;\n",
              "      cursor: pointer;\n",
              "      display: none;\n",
              "      fill: #1967D2;\n",
              "      height: 32px;\n",
              "      padding: 0 0 0 0;\n",
              "      width: 32px;\n",
              "    }\n",
              "\n",
              "    .colab-df-convert:hover {\n",
              "      background-color: #E2EBFA;\n",
              "      box-shadow: 0px 1px 2px rgba(60, 64, 67, 0.3), 0px 1px 3px 1px rgba(60, 64, 67, 0.15);\n",
              "      fill: #174EA6;\n",
              "    }\n",
              "\n",
              "    [theme=dark] .colab-df-convert {\n",
              "      background-color: #3B4455;\n",
              "      fill: #D2E3FC;\n",
              "    }\n",
              "\n",
              "    [theme=dark] .colab-df-convert:hover {\n",
              "      background-color: #434B5C;\n",
              "      box-shadow: 0px 1px 3px 1px rgba(0, 0, 0, 0.15);\n",
              "      filter: drop-shadow(0px 1px 2px rgba(0, 0, 0, 0.3));\n",
              "      fill: #FFFFFF;\n",
              "    }\n",
              "  </style>\n",
              "\n",
              "      <script>\n",
              "        const buttonEl =\n",
              "          document.querySelector('#df-3aea7f97-a32d-4843-8932-28410ba8afad button.colab-df-convert');\n",
              "        buttonEl.style.display =\n",
              "          google.colab.kernel.accessAllowed ? 'block' : 'none';\n",
              "\n",
              "        async function convertToInteractive(key) {\n",
              "          const element = document.querySelector('#df-3aea7f97-a32d-4843-8932-28410ba8afad');\n",
              "          const dataTable =\n",
              "            await google.colab.kernel.invokeFunction('convertToInteractive',\n",
              "                                                     [key], {});\n",
              "          if (!dataTable) return;\n",
              "\n",
              "          const docLinkHtml = 'Like what you see? Visit the ' +\n",
              "            '<a target=\"_blank\" href=https://colab.research.google.com/notebooks/data_table.ipynb>data table notebook</a>'\n",
              "            + ' to learn more about interactive tables.';\n",
              "          element.innerHTML = '';\n",
              "          dataTable['output_type'] = 'display_data';\n",
              "          await google.colab.output.renderOutput(dataTable, element);\n",
              "          const docLink = document.createElement('div');\n",
              "          docLink.innerHTML = docLinkHtml;\n",
              "          element.appendChild(docLink);\n",
              "        }\n",
              "      </script>\n",
              "    </div>\n",
              "  </div>\n",
              "  "
            ],
            "text/plain": [
              "        Model_Index Mean_NDCG@5 Std_NDCG@5    type\n",
              "0    bm25_k3.5_b0.1    0.402153   0.282125    must\n",
              "1    bm25_k1.2_b0.1    0.401787   0.278075  should\n",
              "2    bm25_k2.5_b0.1    0.401671   0.275836  should\n",
              "3    bm25_k2.5_b0.1    0.401506   0.282038    must\n",
              "4    bm25_k3.5_b0.5    0.401382   0.281722    must\n",
              "5    bm25_k2.5_b0.5    0.401007   0.281225    must\n",
              "6    bm25_k2.5_b0.5    0.400629   0.274926  should\n",
              "7    bm25_k1.2_b0.5    0.400318   0.278437  should\n",
              "8    bm25_k1.2_b0.1    0.400234   0.282215    must\n",
              "9   bm25_k2.5_b0.95    0.399992   0.281278    must\n",
              "10  bm25_k3.5_b0.95    0.399424   0.281741    must\n",
              "11  bm25_k1.2_b0.95    0.399242   0.277888  should\n",
              "12  bm25_k2.5_b0.95    0.399115   0.275167  should\n",
              "13   bm25_k3.5_b0.1     0.39889   0.276374  should\n",
              "14   bm25_k1.2_b0.5    0.398664   0.282706    must\n",
              "15   bm25_k3.5_b0.5    0.397574   0.276012  should\n",
              "16  bm25_k1.2_b0.95    0.397519   0.282225    must\n",
              "17  bm25_k3.5_b0.95    0.395126   0.275969  should\n",
              "18   bm25_k0.5_b0.1    0.392922   0.279954    must\n",
              "19   bm25_k0.5_b0.1    0.392767   0.277059  should\n",
              "20   bm25_k0.5_b0.5    0.391863   0.280318    must\n",
              "21   bm25_k0.5_b0.5    0.391714   0.277432  should\n",
              "22  bm25_k0.5_b0.95    0.390113   0.279596    must\n",
              "23  bm25_k0.5_b0.95    0.390021    0.27686  should"
            ]
          },
          "execution_count": 61,
          "metadata": {},
          "output_type": "execute_result"
        }
      ],
      "source": [
        "# Concatenate dataframes\n",
        "bm25_ndcg_results = pd.concat([bm25_ndcg_should, bm25_ndcg_must])\n",
        "bm25_ndcg_results = bm25_ndcg_results.sort_values(by=['Mean_NDCG@5'], ascending=False)\n",
        "bm25_ndcg_results.reset_index(drop=True, inplace=True)\n",
        "bm25_ndcg_results"
      ]
    },
    {
      "cell_type": "markdown",
      "metadata": {
        "id": "ms93IOXDcwYO"
      },
      "source": [
        "For both `match` and `should` searches, low values of `k1` (0.5) lead to the lowest nDCG scores. Intuitively, this makes sense because larger values of `k1` are better suited for situations where numerous occurences of a term are desired. A Wikipedia article that mentions a query term multiple times is likely to be more relevant than other documents.\n",
        "\n",
        "In looking at the `b` parameter, the low value of 0.1 occupies the top spots in both types of searches. Higher values of this parameter penalize long documents, however long Wikipedia articles do not need to be penalized because they are specific to a topic. So longer, specific documents are unlikely to hamper relevance for this Wikipedia collection.  "
      ]
    },
    {
      "cell_type": "markdown",
      "metadata": {
        "id": "EpetP-_0cyez"
      },
      "source": [
        "### Section 6.5 - Precision Comparison Between 'match' and Boolean Queries with Different Parameters"
      ]
    },
    {
      "cell_type": "markdown",
      "metadata": {
        "id": "hfBEyJguc1By"
      },
      "source": [
        "#### Specify `should` to enable logical OR operator"
      ]
    },
    {
      "cell_type": "code",
      "execution_count": null,
      "metadata": {
        "id": "hfl9YMt9bcaD"
      },
      "outputs": [],
      "source": [
        "# Use values to get names of the indices\n",
        "index_names = ['bm25_k' + k_param[0:] + '_b' + b_param[0:] for k_param, b_param in zip(bm25_k_params, bm25_b_params)]\n",
        "\n",
        "# compare the evaluation metrics for each index\n",
        "bm25_precision_should = compare_model_evaluation_metrics_at_k_df(\n",
        "                                        list_of_index_names = index_names,\n",
        "                                        queries_df = queries_df,\n",
        "                                        qrels_df = qrels_df,\n",
        "                                        eval_metric_name = 'Precision',\n",
        "                                        k = 5,\n",
        "                                        match_type = 'bool',\n",
        "                                        boolean_query_option = 'should'\n",
        "                                        )"
      ]
    },
    {
      "cell_type": "markdown",
      "metadata": {
        "id": "j9A2j0VIc8CN"
      },
      "source": [
        "#### Specify `must` to enable logical AND operator"
      ]
    },
    {
      "cell_type": "code",
      "execution_count": null,
      "metadata": {
        "id": "uqmjMh0abcXD"
      },
      "outputs": [],
      "source": [
        "# Use values to get names of the indices\n",
        "index_names = ['bm25_k' + k_param[0:] + '_b' + b_param[0:] for k_param, b_param in zip(bm25_k_params, bm25_b_params)]\n",
        "\n",
        "# compare the evaluation metrics for each index\n",
        "bm25_precision_must = compare_model_evaluation_metrics_at_k_df(\n",
        "                                        list_of_index_names = index_names,\n",
        "                                        queries_df = queries_df,\n",
        "                                        qrels_df = qrels_df,\n",
        "                                        eval_metric_name = 'Precision',\n",
        "                                        k = 5,\n",
        "                                        match_type = 'bool',\n",
        "                                        boolean_query_option = 'must'\n",
        "                                        )"
      ]
    },
    {
      "cell_type": "markdown",
      "metadata": {
        "id": "kmLPeJfRdAGP"
      },
      "source": [
        "#### Comparison\n",
        "\n",
        "The table below compiles all results and sorts the mean Precision at 5 values from largest to smallest. So, the best performing models are at the top, and the lower performing are at the bottom."
      ]
    },
    {
      "cell_type": "code",
      "execution_count": null,
      "metadata": {
        "id": "gSR-Tl5UbcT8"
      },
      "outputs": [],
      "source": [
        "# Add query type to dataframes\n",
        "bm25_precision_should['type'] = 'should'\n",
        "bm25_precision_must['type'] = 'must'"
      ]
    },
    {
      "cell_type": "code",
      "execution_count": null,
      "metadata": {
        "colab": {
          "base_uri": "https://localhost:8080/",
          "height": 801
        },
        "id": "NEEMYoyrbcRO",
        "outputId": "df573a08-d251-4947-878c-efeaa7c994c6"
      },
      "outputs": [
        {
          "data": {
            "text/html": [
              "\n",
              "  <div id=\"df-6d3c4c29-0e1e-4a2e-95c1-5011022f4292\">\n",
              "    <div class=\"colab-df-container\">\n",
              "      <div>\n",
              "<style scoped>\n",
              "    .dataframe tbody tr th:only-of-type {\n",
              "        vertical-align: middle;\n",
              "    }\n",
              "\n",
              "    .dataframe tbody tr th {\n",
              "        vertical-align: top;\n",
              "    }\n",
              "\n",
              "    .dataframe thead th {\n",
              "        text-align: right;\n",
              "    }\n",
              "</style>\n",
              "<table border=\"1\" class=\"dataframe\">\n",
              "  <thead>\n",
              "    <tr style=\"text-align: right;\">\n",
              "      <th></th>\n",
              "      <th>Model_Index</th>\n",
              "      <th>Mean_Precision@5</th>\n",
              "      <th>Std_Precision@5</th>\n",
              "      <th>type</th>\n",
              "    </tr>\n",
              "  </thead>\n",
              "  <tbody>\n",
              "    <tr>\n",
              "      <th>0</th>\n",
              "      <td>bm25_k3.5_b0.1</td>\n",
              "      <td>0.299781</td>\n",
              "      <td>0.232525</td>\n",
              "      <td>must</td>\n",
              "    </tr>\n",
              "    <tr>\n",
              "      <th>1</th>\n",
              "      <td>bm25_k3.5_b0.5</td>\n",
              "      <td>0.299365</td>\n",
              "      <td>0.231449</td>\n",
              "      <td>must</td>\n",
              "    </tr>\n",
              "    <tr>\n",
              "      <th>2</th>\n",
              "      <td>bm25_k3.5_b0.95</td>\n",
              "      <td>0.299088</td>\n",
              "      <td>0.231568</td>\n",
              "      <td>must</td>\n",
              "    </tr>\n",
              "    <tr>\n",
              "      <th>3</th>\n",
              "      <td>bm25_k2.5_b0.95</td>\n",
              "      <td>0.299088</td>\n",
              "      <td>0.230729</td>\n",
              "      <td>must</td>\n",
              "    </tr>\n",
              "    <tr>\n",
              "      <th>4</th>\n",
              "      <td>bm25_k2.5_b0.5</td>\n",
              "      <td>0.298811</td>\n",
              "      <td>0.230967</td>\n",
              "      <td>must</td>\n",
              "    </tr>\n",
              "    <tr>\n",
              "      <th>5</th>\n",
              "      <td>bm25_k2.5_b0.1</td>\n",
              "      <td>0.298534</td>\n",
              "      <td>0.232282</td>\n",
              "      <td>must</td>\n",
              "    </tr>\n",
              "    <tr>\n",
              "      <th>6</th>\n",
              "      <td>bm25_k0.5_b0.5</td>\n",
              "      <td>0.298119</td>\n",
              "      <td>0.234181</td>\n",
              "      <td>must</td>\n",
              "    </tr>\n",
              "    <tr>\n",
              "      <th>7</th>\n",
              "      <td>bm25_k0.5_b0.1</td>\n",
              "      <td>0.297565</td>\n",
              "      <td>0.233227</td>\n",
              "      <td>must</td>\n",
              "    </tr>\n",
              "    <tr>\n",
              "      <th>8</th>\n",
              "      <td>bm25_k1.2_b0.95</td>\n",
              "      <td>0.297426</td>\n",
              "      <td>0.231675</td>\n",
              "      <td>must</td>\n",
              "    </tr>\n",
              "    <tr>\n",
              "      <th>9</th>\n",
              "      <td>bm25_k0.5_b0.95</td>\n",
              "      <td>0.297426</td>\n",
              "      <td>0.232988</td>\n",
              "      <td>must</td>\n",
              "    </tr>\n",
              "    <tr>\n",
              "      <th>10</th>\n",
              "      <td>bm25_k1.2_b0.1</td>\n",
              "      <td>0.297288</td>\n",
              "      <td>0.23251</td>\n",
              "      <td>must</td>\n",
              "    </tr>\n",
              "    <tr>\n",
              "      <th>11</th>\n",
              "      <td>bm25_k1.2_b0.5</td>\n",
              "      <td>0.297149</td>\n",
              "      <td>0.233103</td>\n",
              "      <td>must</td>\n",
              "    </tr>\n",
              "    <tr>\n",
              "      <th>12</th>\n",
              "      <td>bm25_k0.5_b0.5</td>\n",
              "      <td>0.296976</td>\n",
              "      <td>0.23157</td>\n",
              "      <td>should</td>\n",
              "    </tr>\n",
              "    <tr>\n",
              "      <th>13</th>\n",
              "      <td>bm25_k0.5_b0.1</td>\n",
              "      <td>0.296422</td>\n",
              "      <td>0.230603</td>\n",
              "      <td>should</td>\n",
              "    </tr>\n",
              "    <tr>\n",
              "      <th>14</th>\n",
              "      <td>bm25_k0.5_b0.95</td>\n",
              "      <td>0.296283</td>\n",
              "      <td>0.23036</td>\n",
              "      <td>should</td>\n",
              "    </tr>\n",
              "    <tr>\n",
              "      <th>15</th>\n",
              "      <td>bm25_k1.2_b0.95</td>\n",
              "      <td>0.295868</td>\n",
              "      <td>0.228177</td>\n",
              "      <td>should</td>\n",
              "    </tr>\n",
              "    <tr>\n",
              "      <th>16</th>\n",
              "      <td>bm25_k1.2_b0.1</td>\n",
              "      <td>0.295591</td>\n",
              "      <td>0.229504</td>\n",
              "      <td>should</td>\n",
              "    </tr>\n",
              "    <tr>\n",
              "      <th>17</th>\n",
              "      <td>bm25_k1.2_b0.5</td>\n",
              "      <td>0.295452</td>\n",
              "      <td>0.229863</td>\n",
              "      <td>should</td>\n",
              "    </tr>\n",
              "    <tr>\n",
              "      <th>18</th>\n",
              "      <td>bm25_k2.5_b0.1</td>\n",
              "      <td>0.293513</td>\n",
              "      <td>0.227879</td>\n",
              "      <td>should</td>\n",
              "    </tr>\n",
              "    <tr>\n",
              "      <th>19</th>\n",
              "      <td>bm25_k2.5_b0.95</td>\n",
              "      <td>0.293375</td>\n",
              "      <td>0.226043</td>\n",
              "      <td>should</td>\n",
              "    </tr>\n",
              "    <tr>\n",
              "      <th>20</th>\n",
              "      <td>bm25_k2.5_b0.5</td>\n",
              "      <td>0.293375</td>\n",
              "      <td>0.22641</td>\n",
              "      <td>should</td>\n",
              "    </tr>\n",
              "    <tr>\n",
              "      <th>21</th>\n",
              "      <td>bm25_k3.5_b0.1</td>\n",
              "      <td>0.290051</td>\n",
              "      <td>0.227144</td>\n",
              "      <td>should</td>\n",
              "    </tr>\n",
              "    <tr>\n",
              "      <th>22</th>\n",
              "      <td>bm25_k3.5_b0.95</td>\n",
              "      <td>0.289497</td>\n",
              "      <td>0.22565</td>\n",
              "      <td>should</td>\n",
              "    </tr>\n",
              "    <tr>\n",
              "      <th>23</th>\n",
              "      <td>bm25_k3.5_b0.5</td>\n",
              "      <td>0.289497</td>\n",
              "      <td>0.226508</td>\n",
              "      <td>should</td>\n",
              "    </tr>\n",
              "  </tbody>\n",
              "</table>\n",
              "</div>\n",
              "      <button class=\"colab-df-convert\" onclick=\"convertToInteractive('df-6d3c4c29-0e1e-4a2e-95c1-5011022f4292')\"\n",
              "              title=\"Convert this dataframe to an interactive table.\"\n",
              "              style=\"display:none;\">\n",
              "        \n",
              "  <svg xmlns=\"http://www.w3.org/2000/svg\" height=\"24px\"viewBox=\"0 0 24 24\"\n",
              "       width=\"24px\">\n",
              "    <path d=\"M0 0h24v24H0V0z\" fill=\"none\"/>\n",
              "    <path d=\"M18.56 5.44l.94 2.06.94-2.06 2.06-.94-2.06-.94-.94-2.06-.94 2.06-2.06.94zm-11 1L8.5 8.5l.94-2.06 2.06-.94-2.06-.94L8.5 2.5l-.94 2.06-2.06.94zm10 10l.94 2.06.94-2.06 2.06-.94-2.06-.94-.94-2.06-.94 2.06-2.06.94z\"/><path d=\"M17.41 7.96l-1.37-1.37c-.4-.4-.92-.59-1.43-.59-.52 0-1.04.2-1.43.59L10.3 9.45l-7.72 7.72c-.78.78-.78 2.05 0 2.83L4 21.41c.39.39.9.59 1.41.59.51 0 1.02-.2 1.41-.59l7.78-7.78 2.81-2.81c.8-.78.8-2.07 0-2.86zM5.41 20L4 18.59l7.72-7.72 1.47 1.35L5.41 20z\"/>\n",
              "  </svg>\n",
              "      </button>\n",
              "      \n",
              "  <style>\n",
              "    .colab-df-container {\n",
              "      display:flex;\n",
              "      flex-wrap:wrap;\n",
              "      gap: 12px;\n",
              "    }\n",
              "\n",
              "    .colab-df-convert {\n",
              "      background-color: #E8F0FE;\n",
              "      border: none;\n",
              "      border-radius: 50%;\n",
              "      cursor: pointer;\n",
              "      display: none;\n",
              "      fill: #1967D2;\n",
              "      height: 32px;\n",
              "      padding: 0 0 0 0;\n",
              "      width: 32px;\n",
              "    }\n",
              "\n",
              "    .colab-df-convert:hover {\n",
              "      background-color: #E2EBFA;\n",
              "      box-shadow: 0px 1px 2px rgba(60, 64, 67, 0.3), 0px 1px 3px 1px rgba(60, 64, 67, 0.15);\n",
              "      fill: #174EA6;\n",
              "    }\n",
              "\n",
              "    [theme=dark] .colab-df-convert {\n",
              "      background-color: #3B4455;\n",
              "      fill: #D2E3FC;\n",
              "    }\n",
              "\n",
              "    [theme=dark] .colab-df-convert:hover {\n",
              "      background-color: #434B5C;\n",
              "      box-shadow: 0px 1px 3px 1px rgba(0, 0, 0, 0.15);\n",
              "      filter: drop-shadow(0px 1px 2px rgba(0, 0, 0, 0.3));\n",
              "      fill: #FFFFFF;\n",
              "    }\n",
              "  </style>\n",
              "\n",
              "      <script>\n",
              "        const buttonEl =\n",
              "          document.querySelector('#df-6d3c4c29-0e1e-4a2e-95c1-5011022f4292 button.colab-df-convert');\n",
              "        buttonEl.style.display =\n",
              "          google.colab.kernel.accessAllowed ? 'block' : 'none';\n",
              "\n",
              "        async function convertToInteractive(key) {\n",
              "          const element = document.querySelector('#df-6d3c4c29-0e1e-4a2e-95c1-5011022f4292');\n",
              "          const dataTable =\n",
              "            await google.colab.kernel.invokeFunction('convertToInteractive',\n",
              "                                                     [key], {});\n",
              "          if (!dataTable) return;\n",
              "\n",
              "          const docLinkHtml = 'Like what you see? Visit the ' +\n",
              "            '<a target=\"_blank\" href=https://colab.research.google.com/notebooks/data_table.ipynb>data table notebook</a>'\n",
              "            + ' to learn more about interactive tables.';\n",
              "          element.innerHTML = '';\n",
              "          dataTable['output_type'] = 'display_data';\n",
              "          await google.colab.output.renderOutput(dataTable, element);\n",
              "          const docLink = document.createElement('div');\n",
              "          docLink.innerHTML = docLinkHtml;\n",
              "          element.appendChild(docLink);\n",
              "        }\n",
              "      </script>\n",
              "    </div>\n",
              "  </div>\n",
              "  "
            ],
            "text/plain": [
              "        Model_Index Mean_Precision@5 Std_Precision@5    type\n",
              "0    bm25_k3.5_b0.1         0.299781        0.232525    must\n",
              "1    bm25_k3.5_b0.5         0.299365        0.231449    must\n",
              "2   bm25_k3.5_b0.95         0.299088        0.231568    must\n",
              "3   bm25_k2.5_b0.95         0.299088        0.230729    must\n",
              "4    bm25_k2.5_b0.5         0.298811        0.230967    must\n",
              "5    bm25_k2.5_b0.1         0.298534        0.232282    must\n",
              "6    bm25_k0.5_b0.5         0.298119        0.234181    must\n",
              "7    bm25_k0.5_b0.1         0.297565        0.233227    must\n",
              "8   bm25_k1.2_b0.95         0.297426        0.231675    must\n",
              "9   bm25_k0.5_b0.95         0.297426        0.232988    must\n",
              "10   bm25_k1.2_b0.1         0.297288         0.23251    must\n",
              "11   bm25_k1.2_b0.5         0.297149        0.233103    must\n",
              "12   bm25_k0.5_b0.5         0.296976         0.23157  should\n",
              "13   bm25_k0.5_b0.1         0.296422        0.230603  should\n",
              "14  bm25_k0.5_b0.95         0.296283         0.23036  should\n",
              "15  bm25_k1.2_b0.95         0.295868        0.228177  should\n",
              "16   bm25_k1.2_b0.1         0.295591        0.229504  should\n",
              "17   bm25_k1.2_b0.5         0.295452        0.229863  should\n",
              "18   bm25_k2.5_b0.1         0.293513        0.227879  should\n",
              "19  bm25_k2.5_b0.95         0.293375        0.226043  should\n",
              "20   bm25_k2.5_b0.5         0.293375         0.22641  should\n",
              "21   bm25_k3.5_b0.1         0.290051        0.227144  should\n",
              "22  bm25_k3.5_b0.95         0.289497         0.22565  should\n",
              "23   bm25_k3.5_b0.5         0.289497        0.226508  should"
            ]
          },
          "execution_count": 65,
          "metadata": {},
          "output_type": "execute_result"
        }
      ],
      "source": [
        "# Concatenate dataframes\n",
        "bm25_precision_results = pd.concat([bm25_precision_should, bm25_precision_must])\n",
        "bm25_precision_results = bm25_precision_results.sort_values(by=['Mean_Precision@5'], ascending=False)\n",
        "bm25_precision_results.reset_index(drop=True, inplace=True)\n",
        "bm25_precision_results"
      ]
    },
    {
      "cell_type": "markdown",
      "metadata": {
        "id": "0BvpVC2qdGpf"
      },
      "source": [
        "From the table above, it is clear the `must` searches provide the largest precision values. Similar to the mean NDCG values, higher values of `k1` provide slightly better results."
      ]
    },
    {
      "cell_type": "markdown",
      "metadata": {
        "id": "7RY27A5ddI97"
      },
      "source": [
        "### Section 6.6 - The Best Parameters\n",
        "\n",
        "In looking at the two search types and their corresponding mean nDCG and Precision values, it is clear that the following specifications resulted in the largest nDCG *and* Precision values:\n",
        "* match type = `must` (logical AND operator)\n",
        "* `k1 = 3.5`\n",
        "* `b = 0.1`\n",
        "\n",
        "To recap, larger values of `k1` are better suited for this text collection because additional occurences of a query term in a text provide more information about a document's relevance. Wikipedia articles are specific and likely to include multiple occurences of a query term if related to the query. So, the more times a query term appears, the more likely the Wikipedia article is relevant.\n",
        "\n",
        "Lower values of `b` perform better because the distribution of document length is narrow. Since document lengths are similar, it would seem that little document length normalization is needed to produce relevant documents. Larger values of `b` would be necessary if there were a wide range of lengths that needed to be normalized."
      ]
    },
    {
      "cell_type": "markdown",
      "metadata": {
        "id": "V-cwunBwGfbp"
      },
      "source": [
        "## Section 7 - Language Model - Optimisation"
      ]
    },
    {
      "cell_type": "markdown",
      "metadata": {
        "id": "incOcrh-Gfbn"
      },
      "source": [
        "### Section 7.1 - Evaluation of Language Models - NDCG@5 - Comparing 'match' with Boolean Queries"
      ]
    },
    {
      "cell_type": "markdown",
      "metadata": {
        "id": "cV8lae8jGfbn"
      },
      "source": [
        "Below, the queries from the training dataset have been searched through the Language Model index (lambda set to 0.1), using boolean queries. The logical operator AND has been used by specifying 'must', which requires the documents to contain all terms in the query to be considered as potentially relevant.\n",
        "\n",
        "In this section NDCG@5 generated using boolean queries specifying 'must' has been compared to the results obtained previously when 'match' was used for the query search."
      ]
    },
    {
      "cell_type": "code",
      "execution_count": null,
      "metadata": {
        "id": "-sBWS1OWGfbn"
      },
      "outputs": [],
      "source": [
        "lm_ndcg_at_5_bool_queries_must_all_terms = get_evaluation_metrics_df(\n",
        "                                                                    eval_metric_name = 'NDCG@5',\n",
        "                                                                    queries_df = queries_df,\n",
        "                                                                    qrels_df = qrels_df,\n",
        "                                                                    es_index = 'lm_index_lambda_0p1',\n",
        "                                                                    eval_metric_dict = ndcg_at_k_metric,\n",
        "                                                                    match_type = 'bool',\n",
        "                                                                    boolean_query_option = 'must'\n",
        "                                                                    )"
      ]
    },
    {
      "cell_type": "code",
      "execution_count": null,
      "metadata": {
        "id": "btF_vTgYGfbn",
        "outputId": "5516eeda-cca6-4e5e-d083-aa0d4fbb5e56"
      },
      "outputs": [
        {
          "name": "stdout",
          "output_type": "stream",
          "text": [
            "Language Model (lambda at 0.1) NDCG@5 for all training queries    \n",
            "Boolean Queries using must (AND) for all query terms:\n"
          ]
        },
        {
          "data": {
            "text/plain": [
              "mean    0.385741\n",
              "std     0.277835\n",
              "Name: NDCG@5, dtype: float64"
            ]
          },
          "execution_count": 88,
          "metadata": {},
          "output_type": "execute_result"
        }
      ],
      "source": [
        "print(\n",
        "    'Language Model (lambda at 0.1) NDCG@5 for all training queries\\\n",
        "    \\nBoolean Queries using must (AND) for all query terms:'\n",
        "    )\n",
        "lm_ndcg_at_5_bool_queries_must_all_terms"
      ]
    },
    {
      "cell_type": "code",
      "execution_count": null,
      "metadata": {
        "id": "jxf-n7_WGfbn",
        "outputId": "0d66f900-4193-44ae-d352-a8c9a7c47ccd"
      },
      "outputs": [
        {
          "name": "stdout",
          "output_type": "stream",
          "text": [
            "Language Model (lambda at 0.1) NDCG@5 for all training queries    \n",
            "Using Match:\n"
          ]
        },
        {
          "data": {
            "text/plain": [
              "mean    0.385076\n",
              "std     0.274755\n",
              "Name: NDCG@5, dtype: float64"
            ]
          },
          "execution_count": 89,
          "metadata": {},
          "output_type": "execute_result"
        }
      ],
      "source": [
        "# Results from previous section\n",
        "print(\n",
        "    'Language Model (lambda at 0.1) NDCG@5 for all training queries\\\n",
        "    \\nUsing Match:'\n",
        "    )\n",
        "lm_ndcg_at_5"
      ]
    },
    {
      "cell_type": "markdown",
      "metadata": {
        "id": "WCyrgDazGfbo"
      },
      "source": [
        "Using boolean queries, ensuring that all query terms are found in the documents, increases the NDCG (0.385741 compared to 0.385076). This may be due to most query terms in the training dataset (and potentially in deployment of settings for wikipedia articles) being short and specific, which would cause the use of an AND logical operator to help retrieve the most relevant documents. This should also benefit precision, which is reviewed below."
      ]
    },
    {
      "cell_type": "markdown",
      "metadata": {
        "id": "V-UKhKdwGfbo"
      },
      "source": [
        "### Section 7.2 - Evaluation of Language Models - P@5 - Comparing 'match' with Boolean Queries"
      ]
    },
    {
      "cell_type": "markdown",
      "metadata": {
        "id": "6Fd9JNFiGfbo"
      },
      "source": [
        "In this section Precision@5 generated using boolean queries specifying 'must' has been compared to the results obtained previously when 'match' was used for the query search."
      ]
    },
    {
      "cell_type": "code",
      "execution_count": null,
      "metadata": {
        "id": "EOCtT1JcGfbo"
      },
      "outputs": [],
      "source": [
        "\n",
        "lm_p_at_5_bool_queries_must_all_terms = get_evaluation_metrics_df(\n",
        "                                                                    eval_metric_name = 'P@5',\n",
        "                                                                    queries_df = queries_df,\n",
        "                                                                    qrels_df = qrels_df,\n",
        "                                                                    es_index = 'lm_index_lambda_0p1',\n",
        "                                                                    eval_metric_dict = precision_at_k_metric,\n",
        "                                                                    match_type = 'bool',\n",
        "                                                                    boolean_query_option = 'must'\n",
        "                                                                    )"
      ]
    },
    {
      "cell_type": "code",
      "execution_count": null,
      "metadata": {
        "id": "y8iO_lSqGfbo",
        "outputId": "e6bad579-5077-4744-8674-9d5d9958ed04"
      },
      "outputs": [
        {
          "name": "stdout",
          "output_type": "stream",
          "text": [
            "Language Model (lambda at 0.1) P@5 for all training queries    \n",
            "Boolean Queries using must (AND) for all query terms:\n"
          ]
        },
        {
          "data": {
            "text/plain": [
              "mean    0.292024\n",
              "std     0.230111\n",
              "Name: P@5, dtype: float64"
            ]
          },
          "execution_count": 93,
          "metadata": {},
          "output_type": "execute_result"
        }
      ],
      "source": [
        "print(\n",
        "    'Language Model (lambda at 0.1) P@5 for all training queries\\\n",
        "    \\nBoolean Queries using must (AND) for all query terms:'\n",
        "    )\n",
        "lm_p_at_5_bool_queries_must_all_terms"
      ]
    },
    {
      "cell_type": "code",
      "execution_count": null,
      "metadata": {
        "id": "yBvH1DWfGfbo",
        "outputId": "5b182b11-6705-4a90-d667-5033d9b420c4"
      },
      "outputs": [
        {
          "name": "stdout",
          "output_type": "stream",
          "text": [
            "Language Model (lambda at 0.1) P@5 for all training queries    \n",
            "Using Match:\n"
          ]
        },
        {
          "data": {
            "text/plain": [
              "mean    0.290328\n",
              "std     0.227278\n",
              "Name: P@5, dtype: float64"
            ]
          },
          "execution_count": 218,
          "metadata": {},
          "output_type": "execute_result"
        }
      ],
      "source": [
        "# Results from previous section\n",
        "print(\n",
        "    'Language Model (lambda at 0.1) P@5 for all training queries\\\n",
        "    \\nUsing Match:'\n",
        "    )\n",
        "lm_p_at_5"
      ]
    },
    {
      "cell_type": "markdown",
      "metadata": {
        "id": "e4QT64gRGfbp"
      },
      "source": [
        "As with NDCG@5, Precision@5 is also higher when using AND for all terms, which is likely to be linked to each of the query terms within the queries being essential to the information need the query represents. For completeness, results were reviewed when altering the minimum percentage of terms in the query to be present in retrieved documents. However, precision@5 and NDCG@5 results did not better the results seen when using requiring all query terms to be present in the document, using 'must'.\n",
        "\n",
        "Therefore, for language models reviewed in the following sections, boolean queries using 'must' (AND) will be used."
      ]
    },
    {
      "cell_type": "markdown",
      "metadata": {
        "id": "vQ_IxjJgGfbp"
      },
      "source": [
        "### Section 7.3 - Setting Alternative Lambda Values for JM Language Models\n",
        "\n",
        "Smoothing will increase the reliance on the vocabulary in the collection when retrieving documents in response to a query, which may harm results. This is because The vocabulary of different Wikipedia articles tend to be topic-specific, so limiting smoothing may support retrieval of the most relevant documents.\n",
        "\n",
        "So far, the default value of lambda, 0.1, had been used.\n",
        "- 0.01, 0.05, 0.2, 0.3 and 0.4 have been compared to the results seen when lambda was set to 0.1.\n",
        "- The values above have been used as they are in the ranges below and above the value of lambda, 0.1 used so far.\n",
        "- Indices have been created with these settings below in order to make comparisons."
      ]
    },
    {
      "cell_type": "code",
      "execution_count": null,
      "metadata": {
        "id": "_BFX5sBXGfbp"
      },
      "outputs": [],
      "source": [
        "lambda_smoothing_paramters_options = ['0.01', '0.05', '0.2', '0.3', '0.4']\n",
        "for lambda_p in lambda_smoothing_paramters_options:\n",
        "    # create a JM language model index for each of the smoothing parameter options\n",
        "    # use the hyperparameter in the names for the index and similarity measure\n",
        "\n",
        "    index_name = 'lm_index_lambda_0p' + lambda_p[2:]\n",
        "    similarity_name =  'lm_similarity_lambda_0p' + lambda_p[2:]\n",
        "    smoothing_parameter_lambda = float(lambda_p)\n",
        "\n",
        "    generate_lm_index_for_docs(\n",
        "                                es_index_name = index_name,\n",
        "                                number_of_shards = 4,\n",
        "                                number_of_replicas  = 1,\n",
        "                                similarity_name = similarity_name,\n",
        "                                lm_smoothing_type = 'LMJelinekMercer',\n",
        "                                lm_smoothing_lambda = smoothing_parameter_lambda,\n",
        "                                stop_word_removal = True,\n",
        "                                stemming = True\n",
        "                                )\n"
      ]
    },
    {
      "cell_type": "markdown",
      "metadata": {
        "id": "E1IWDeR4Gfbq"
      },
      "source": [
        "Each of the new indices have been created using the function above, an example with the specified settings and mappings is shown below.\n",
        "- *N.B.: lamdda_0p2 corresponds to setting lambda as 0.2*"
      ]
    },
    {
      "cell_type": "code",
      "execution_count": null,
      "metadata": {
        "id": "pYTVPQe2Gfbq",
        "outputId": "f9a59f7a-65f7-4c43-90b0-5058dc306572"
      },
      "outputs": [
        {
          "data": {
            "text/plain": [
              "ObjectApiResponse({'lm_index_lambda_0p2': {'settings': {'index': {'routing': {'allocation': {'include': {'_tier_preference': 'data_content'}}}, 'number_of_shards': '4', 'provided_name': 'lm_index_lambda_0p2', 'similarity': {'lm_similarity_lambda_0p2': {'type': 'LMJelinekMercer', 'lambda': '0.2'}}, 'creation_date': '1649560670694', 'analysis': {'stop_word_removal': {'filter': ['stop'], 'stopwords': '_english_', 'tokenizer': 'whitespace'}, 'stem': {'filter': ['stemmer'], 'tokenizer': 'whitespace'}}, 'number_of_replicas': '1', 'uuid': 'h93XnlVFQ--75bqNLBOMUQ', 'version': {'created': '8010099'}}}}})"
            ]
          },
          "execution_count": 181,
          "metadata": {},
          "output_type": "execute_result"
        }
      ],
      "source": [
        "es.indices.get_settings(index = 'lm_index_lambda_0p2')"
      ]
    },
    {
      "cell_type": "code",
      "execution_count": null,
      "metadata": {
        "id": "LIGov2VVGfbq",
        "outputId": "db47353b-768d-4bfc-8d11-ccbd6396a7d0"
      },
      "outputs": [
        {
          "data": {
            "text/plain": [
              "ObjectApiResponse({'lm_index_lambda_0p2': {'mappings': {'properties': {'doc_text': {'type': 'text', 'similarity': 'lm_similarity_lambda_0p2'}}}}})"
            ]
          },
          "execution_count": 182,
          "metadata": {},
          "output_type": "execute_result"
        }
      ],
      "source": [
        "es.indices.get_mapping(index = 'lm_index_lambda_0p2')"
      ]
    },
    {
      "cell_type": "markdown",
      "metadata": {
        "id": "Ho7Aa6E3Gfbq"
      },
      "source": [
        "Below, the documents have been added to each of the indices."
      ]
    },
    {
      "cell_type": "code",
      "execution_count": null,
      "metadata": {
        "id": "IeZwgN1xtra4"
      },
      "outputs": [],
      "source": [
        "lambda_smoothing_paramters_options = ['0.01', '0.05', '0.2', '0.3', '0.4']\n",
        "for lambda_p in lambda_smoothing_paramters_options:\n",
        "    index_name = 'lm_index_lambda_0p' + lambda_p[2:]\n",
        "\n",
        "    # Add documents to each of the new indices\n",
        "    bulk(es, generate_actions(), index = index_name, ignore_status = 400)"
      ]
    },
    {
      "cell_type": "markdown",
      "metadata": {
        "id": "Y1LcTR8eGfbq"
      },
      "source": [
        "An example query is searched below in one the new Language Model indices."
      ]
    },
    {
      "cell_type": "code",
      "execution_count": null,
      "metadata": {
        "id": "7UJxZ4kVGfbq",
        "outputId": "33fe3948-1bd3-4a13-fdd6-07b13a1d90a9"
      },
      "outputs": [
        {
          "name": "stdout",
          "output_type": "stream",
          "text": [
            "Top Ranked Results for the Query: \n",
            "'cooking'\n"
          ]
        },
        {
          "data": {
            "text/plain": [
              "'he has been a michelin starred chef since 1990 his light and colorful cooking is permeated with north south mixtures thanks to his european and asiatic career according to him cooking is done with eco friendly and healthy products it needs to be shared he has written in magazines and english newspapers published books and hosted cooking shows on the bbc daniel galmiche loves cooking since its earliest years this love appeared through healthy and natural products from his grandparents farm from hunting with his father as well as fragrances from his mother cooking he apprenticed at the gourmet restaurant of chef yves lalloz luxeuil les bains he improved his work in la napoule in the south of france then abroad in sweden singapore and portugal in 1977 daniel galmiche practised in london with the help of the great french chef michel roux he was elected chef of the 1987 1988 season in scotland during the 1989 1990 season he got the michelin star at knockingam lodge hotel he joined the harveys bristol restaurant in 1996 and the ortolan in 2002 where he both maintains the michelin starred title two years later he was the great chef at cliveden house'"
            ]
          },
          "execution_count": 189,
          "metadata": {},
          "output_type": "execute_result"
        }
      ],
      "source": [
        "show_top_search_result_text(\n",
        "                            query_check = 'cooking',\n",
        "                            es_index = 'lm_index_lambda_0p3',\n",
        "                            match_type = 'bool',\n",
        "                            boolean_query_option = 'must'\n",
        "                            ).item()"
      ]
    },
    {
      "cell_type": "markdown",
      "metadata": {
        "id": "w9t08Gn3Gfbr"
      },
      "source": [
        "### Section 7.4 - Comparing Alternative Values of JM Language Model Smoothing Parameter"
      ]
    },
    {
      "cell_type": "markdown",
      "metadata": {
        "id": "xmt_umLgGfbr"
      },
      "source": [
        "The function defined above has been used to compare NDCG@5 and Precision@5 for each of the Language Models. Results are shown in the dataframes below."
      ]
    },
    {
      "cell_type": "code",
      "execution_count": null,
      "metadata": {
        "id": "PCedW-xCGfbr",
        "outputId": "c28b6ae7-63d2-4ec0-ee6b-6133a3c1c223"
      },
      "outputs": [
        {
          "data": {
            "text/html": [
              "<div>\n",
              "<style scoped>\n",
              "    .dataframe tbody tr th:only-of-type {\n",
              "        vertical-align: middle;\n",
              "    }\n",
              "\n",
              "    .dataframe tbody tr th {\n",
              "        vertical-align: top;\n",
              "    }\n",
              "\n",
              "    .dataframe thead th {\n",
              "        text-align: right;\n",
              "    }\n",
              "</style>\n",
              "<table border=\"1\" class=\"dataframe\">\n",
              "  <thead>\n",
              "    <tr style=\"text-align: right;\">\n",
              "      <th></th>\n",
              "      <th>Model_Index</th>\n",
              "      <th>Mean_NDCG@5</th>\n",
              "      <th>Std_NDCG@5</th>\n",
              "    </tr>\n",
              "  </thead>\n",
              "  <tbody>\n",
              "    <tr>\n",
              "      <th>3</th>\n",
              "      <td>lm_index_lambda_0p2</td>\n",
              "      <td>0.38597</td>\n",
              "      <td>0.277708</td>\n",
              "    </tr>\n",
              "    <tr>\n",
              "      <th>0</th>\n",
              "      <td>lm_index_lambda_0p01</td>\n",
              "      <td>0.385916</td>\n",
              "      <td>0.277933</td>\n",
              "    </tr>\n",
              "    <tr>\n",
              "      <th>1</th>\n",
              "      <td>lm_index_lambda_0p05</td>\n",
              "      <td>0.385875</td>\n",
              "      <td>0.277965</td>\n",
              "    </tr>\n",
              "    <tr>\n",
              "      <th>2</th>\n",
              "      <td>lm_index_lambda_0p1</td>\n",
              "      <td>0.385741</td>\n",
              "      <td>0.277835</td>\n",
              "    </tr>\n",
              "    <tr>\n",
              "      <th>4</th>\n",
              "      <td>lm_index_lambda_0p3</td>\n",
              "      <td>0.385693</td>\n",
              "      <td>0.2778</td>\n",
              "    </tr>\n",
              "    <tr>\n",
              "      <th>5</th>\n",
              "      <td>lm_index_lambda_0p4</td>\n",
              "      <td>0.385346</td>\n",
              "      <td>0.277885</td>\n",
              "    </tr>\n",
              "  </tbody>\n",
              "</table>\n",
              "</div>"
            ],
            "text/plain": [
              "            Model_Index Mean_NDCG@5 Std_NDCG@5\n",
              "3   lm_index_lambda_0p2     0.38597   0.277708\n",
              "0  lm_index_lambda_0p01    0.385916   0.277933\n",
              "1  lm_index_lambda_0p05    0.385875   0.277965\n",
              "2   lm_index_lambda_0p1    0.385741   0.277835\n",
              "4   lm_index_lambda_0p3    0.385693     0.2778\n",
              "5   lm_index_lambda_0p4    0.385346   0.277885"
            ]
          },
          "execution_count": 235,
          "metadata": {},
          "output_type": "execute_result"
        }
      ],
      "source": [
        "# evaluate models for each hyperparameter, now including default 0.1\n",
        "lambda_smoothing_paramters_options = ['0.01', '0.05', '0.1', '0.2', '0.3', '0.4']\n",
        "# Use values to get names of the indices\n",
        "index_names = ['lm_index_lambda_0p' + lambda_p[2:] for lambda_p in lambda_smoothing_paramters_options]\n",
        "\n",
        "# compare the evaluation metrics for each index\n",
        "compare_model_evaluation_metrics_at_k_df(\n",
        "                                            list_of_index_names = index_names,\n",
        "                                            queries_df = queries_df,\n",
        "                                            qrels_df = qrels_df,\n",
        "                                            eval_metric_name = 'NDCG',\n",
        "                                            k = 5,\n",
        "                                            match_type = 'bool',\n",
        "                                            boolean_query_option = 'must'\n",
        "                                            )"
      ]
    },
    {
      "cell_type": "code",
      "execution_count": null,
      "metadata": {
        "id": "OkfWo5qPGfbs",
        "outputId": "0e64c062-18a6-4f21-e0fa-6f8b54703ffd"
      },
      "outputs": [
        {
          "data": {
            "text/html": [
              "<div>\n",
              "<style scoped>\n",
              "    .dataframe tbody tr th:only-of-type {\n",
              "        vertical-align: middle;\n",
              "    }\n",
              "\n",
              "    .dataframe tbody tr th {\n",
              "        vertical-align: top;\n",
              "    }\n",
              "\n",
              "    .dataframe thead th {\n",
              "        text-align: right;\n",
              "    }\n",
              "</style>\n",
              "<table border=\"1\" class=\"dataframe\">\n",
              "  <thead>\n",
              "    <tr style=\"text-align: right;\">\n",
              "      <th></th>\n",
              "      <th>Model_Index</th>\n",
              "      <th>Mean_Precision@5</th>\n",
              "      <th>Std_Precision@5</th>\n",
              "    </tr>\n",
              "  </thead>\n",
              "  <tbody>\n",
              "    <tr>\n",
              "      <th>0</th>\n",
              "      <td>lm_index_lambda_0p01</td>\n",
              "      <td>0.292301</td>\n",
              "      <td>0.230482</td>\n",
              "    </tr>\n",
              "    <tr>\n",
              "      <th>1</th>\n",
              "      <td>lm_index_lambda_0p05</td>\n",
              "      <td>0.292163</td>\n",
              "      <td>0.230477</td>\n",
              "    </tr>\n",
              "    <tr>\n",
              "      <th>2</th>\n",
              "      <td>lm_index_lambda_0p1</td>\n",
              "      <td>0.292024</td>\n",
              "      <td>0.230111</td>\n",
              "    </tr>\n",
              "    <tr>\n",
              "      <th>3</th>\n",
              "      <td>lm_index_lambda_0p2</td>\n",
              "      <td>0.291886</td>\n",
              "      <td>0.230106</td>\n",
              "    </tr>\n",
              "    <tr>\n",
              "      <th>4</th>\n",
              "      <td>lm_index_lambda_0p3</td>\n",
              "      <td>0.291747</td>\n",
              "      <td>0.230101</td>\n",
              "    </tr>\n",
              "    <tr>\n",
              "      <th>5</th>\n",
              "      <td>lm_index_lambda_0p4</td>\n",
              "      <td>0.291747</td>\n",
              "      <td>0.230222</td>\n",
              "    </tr>\n",
              "  </tbody>\n",
              "</table>\n",
              "</div>"
            ],
            "text/plain": [
              "            Model_Index Mean_Precision@5 Std_Precision@5\n",
              "0  lm_index_lambda_0p01         0.292301        0.230482\n",
              "1  lm_index_lambda_0p05         0.292163        0.230477\n",
              "2   lm_index_lambda_0p1         0.292024        0.230111\n",
              "3   lm_index_lambda_0p2         0.291886        0.230106\n",
              "4   lm_index_lambda_0p3         0.291747        0.230101\n",
              "5   lm_index_lambda_0p4         0.291747        0.230222"
            ]
          },
          "execution_count": 234,
          "metadata": {},
          "output_type": "execute_result"
        }
      ],
      "source": [
        "# evaluate models for each hyperparameter, now including default 0.1\n",
        "lambda_smoothing_paramters_options = ['0.01', '0.05', '0.1', '0.2', '0.3', '0.4']\n",
        "# Use values to get names of the indices\n",
        "index_names = ['lm_index_lambda_0p' + lambda_p[2:] for lambda_p in lambda_smoothing_paramters_options]\n",
        "\n",
        "# compare the evaluation metrics for each index\n",
        "compare_model_evaluation_metrics_at_k_df(\n",
        "                                            list_of_index_names = index_names,\n",
        "                                            queries_df = queries_df,\n",
        "                                            qrels_df = qrels_df,\n",
        "                                            eval_metric_name = 'Precision',\n",
        "                                            k = 5,\n",
        "                                            match_type = 'bool',\n",
        "                                            boolean_query_option = 'must'\n",
        "                                            )"
      ]
    },
    {
      "cell_type": "markdown",
      "metadata": {
        "id": "6E7eeMxXGfbs"
      },
      "source": [
        "The results aboves suggest lower values for a smoothing parameter of the JM language model could lead to greater precision. The lowest value of lambda chosen, 0.01 resulted in the highest Precision@5 and the second highest value for NDCG@5. Contrastingly, the highest values of the smoothing parameter lambda resulted in the lowest Precision@5 and NDCG@5. This is likely to be linked due to documents, which come from the collection of Wikipedia articles, having their own context-specific vocabulary, so minimising smoothing could benefit retrieval, minimising the reliance on the collection of articles, which would contain unrelated topics."
      ]
    },
    {
      "cell_type": "markdown",
      "metadata": {
        "id": "3lO6zzqZaBYX"
      },
      "source": [
        "## Section 8 - Tf-idf - Optimisation"
      ]
    },
    {
      "cell_type": "markdown",
      "metadata": {
        "id": "8orV0okeRuna"
      },
      "source": [
        "### 8.1 Comparison Between 'match' and Boolean Queries with Different Parameters\n"
      ]
    },
    {
      "cell_type": "markdown",
      "metadata": {
        "id": "BEI7XLxpS46N"
      },
      "source": [
        "### 8.1.1 nDCG\n"
      ]
    },
    {
      "cell_type": "markdown",
      "metadata": {
        "id": "ebdmmGQTT1Ix"
      },
      "source": [
        "#### Specify `should` to enable logical OR operator"
      ]
    },
    {
      "cell_type": "code",
      "execution_count": null,
      "metadata": {
        "id": "QIJwQGXVTpuz"
      },
      "outputs": [],
      "source": [
        "# compare the evaluation metrics for each index\n",
        "std_tfidf_ndcg_should = compare_model_evaluation_metrics_at_k_df(\n",
        "                                        list_of_index_names = ['tf_idf'],\n",
        "                                        queries_df = queries_df,\n",
        "                                        qrels_df = qrels_df,\n",
        "                                        eval_metric_name = 'NDCG',\n",
        "                                        k = 5,\n",
        "                                        match_type = 'bool',\n",
        "                                        boolean_query_option = 'should'\n",
        "                                        )"
      ]
    },
    {
      "cell_type": "markdown",
      "metadata": {
        "id": "r4deWlOZTpu0"
      },
      "source": [
        "#### Specify `must` to enable logical AND operator"
      ]
    },
    {
      "cell_type": "code",
      "execution_count": null,
      "metadata": {
        "id": "_QD75LCVTpu0"
      },
      "outputs": [],
      "source": [
        "# compare the evaluation metrics for each index\n",
        "std_tfidf_ndcg_must = compare_model_evaluation_metrics_at_k_df(\n",
        "                                        list_of_index_names = ['tf_idf'],\n",
        "                                        queries_df = queries_df,\n",
        "                                        qrels_df = qrels_df,\n",
        "                                        eval_metric_name = 'NDCG',\n",
        "                                        k = 5,\n",
        "                                        match_type = 'bool',\n",
        "                                        boolean_query_option = 'must'\n",
        "                                        )"
      ]
    },
    {
      "cell_type": "markdown",
      "metadata": {
        "id": "yfqFxVAWTpu1"
      },
      "source": [
        "#### Comparison\n",
        "\n",
        "The table below compiles all results and sorts the mean nDCG values from largest to smallest. So, the best performing models are at the top, and the lower performing are at the bottom."
      ]
    },
    {
      "cell_type": "code",
      "execution_count": null,
      "metadata": {
        "id": "VeoKUfcMTpu1"
      },
      "outputs": [],
      "source": [
        "# Add query type to dataframes\n",
        "std_tfidf_ndcg_should['type'] = 'should'\n",
        "std_tfidf_ndcg_must['type'] = 'must'"
      ]
    },
    {
      "cell_type": "code",
      "execution_count": null,
      "metadata": {
        "colab": {
          "base_uri": "https://localhost:8080/",
          "height": 112
        },
        "id": "AyO-xEp_Tpu1",
        "outputId": "b8ccd143-3c3e-4d84-b273-c979c3799289"
      },
      "outputs": [
        {
          "data": {
            "text/html": [
              "\n",
              "  <div id=\"df-67093121-d80f-4bba-a343-165eccfb5d8f\">\n",
              "    <div class=\"colab-df-container\">\n",
              "      <div>\n",
              "<style scoped>\n",
              "    .dataframe tbody tr th:only-of-type {\n",
              "        vertical-align: middle;\n",
              "    }\n",
              "\n",
              "    .dataframe tbody tr th {\n",
              "        vertical-align: top;\n",
              "    }\n",
              "\n",
              "    .dataframe thead th {\n",
              "        text-align: right;\n",
              "    }\n",
              "</style>\n",
              "<table border=\"1\" class=\"dataframe\">\n",
              "  <thead>\n",
              "    <tr style=\"text-align: right;\">\n",
              "      <th></th>\n",
              "      <th>Model_Index</th>\n",
              "      <th>Mean_NDCG@5</th>\n",
              "      <th>Std_NDCG@5</th>\n",
              "      <th>type</th>\n",
              "    </tr>\n",
              "  </thead>\n",
              "  <tbody>\n",
              "    <tr>\n",
              "      <th>0</th>\n",
              "      <td>tf_idf</td>\n",
              "      <td>0.390507</td>\n",
              "      <td>0.280982</td>\n",
              "      <td>must</td>\n",
              "    </tr>\n",
              "    <tr>\n",
              "      <th>1</th>\n",
              "      <td>tf_idf</td>\n",
              "      <td>0.289646</td>\n",
              "      <td>0.275743</td>\n",
              "      <td>should</td>\n",
              "    </tr>\n",
              "  </tbody>\n",
              "</table>\n",
              "</div>\n",
              "      <button class=\"colab-df-convert\" onclick=\"convertToInteractive('df-67093121-d80f-4bba-a343-165eccfb5d8f')\"\n",
              "              title=\"Convert this dataframe to an interactive table.\"\n",
              "              style=\"display:none;\">\n",
              "        \n",
              "  <svg xmlns=\"http://www.w3.org/2000/svg\" height=\"24px\"viewBox=\"0 0 24 24\"\n",
              "       width=\"24px\">\n",
              "    <path d=\"M0 0h24v24H0V0z\" fill=\"none\"/>\n",
              "    <path d=\"M18.56 5.44l.94 2.06.94-2.06 2.06-.94-2.06-.94-.94-2.06-.94 2.06-2.06.94zm-11 1L8.5 8.5l.94-2.06 2.06-.94-2.06-.94L8.5 2.5l-.94 2.06-2.06.94zm10 10l.94 2.06.94-2.06 2.06-.94-2.06-.94-.94-2.06-.94 2.06-2.06.94z\"/><path d=\"M17.41 7.96l-1.37-1.37c-.4-.4-.92-.59-1.43-.59-.52 0-1.04.2-1.43.59L10.3 9.45l-7.72 7.72c-.78.78-.78 2.05 0 2.83L4 21.41c.39.39.9.59 1.41.59.51 0 1.02-.2 1.41-.59l7.78-7.78 2.81-2.81c.8-.78.8-2.07 0-2.86zM5.41 20L4 18.59l7.72-7.72 1.47 1.35L5.41 20z\"/>\n",
              "  </svg>\n",
              "      </button>\n",
              "      \n",
              "  <style>\n",
              "    .colab-df-container {\n",
              "      display:flex;\n",
              "      flex-wrap:wrap;\n",
              "      gap: 12px;\n",
              "    }\n",
              "\n",
              "    .colab-df-convert {\n",
              "      background-color: #E8F0FE;\n",
              "      border: none;\n",
              "      border-radius: 50%;\n",
              "      cursor: pointer;\n",
              "      display: none;\n",
              "      fill: #1967D2;\n",
              "      height: 32px;\n",
              "      padding: 0 0 0 0;\n",
              "      width: 32px;\n",
              "    }\n",
              "\n",
              "    .colab-df-convert:hover {\n",
              "      background-color: #E2EBFA;\n",
              "      box-shadow: 0px 1px 2px rgba(60, 64, 67, 0.3), 0px 1px 3px 1px rgba(60, 64, 67, 0.15);\n",
              "      fill: #174EA6;\n",
              "    }\n",
              "\n",
              "    [theme=dark] .colab-df-convert {\n",
              "      background-color: #3B4455;\n",
              "      fill: #D2E3FC;\n",
              "    }\n",
              "\n",
              "    [theme=dark] .colab-df-convert:hover {\n",
              "      background-color: #434B5C;\n",
              "      box-shadow: 0px 1px 3px 1px rgba(0, 0, 0, 0.15);\n",
              "      filter: drop-shadow(0px 1px 2px rgba(0, 0, 0, 0.3));\n",
              "      fill: #FFFFFF;\n",
              "    }\n",
              "  </style>\n",
              "\n",
              "      <script>\n",
              "        const buttonEl =\n",
              "          document.querySelector('#df-67093121-d80f-4bba-a343-165eccfb5d8f button.colab-df-convert');\n",
              "        buttonEl.style.display =\n",
              "          google.colab.kernel.accessAllowed ? 'block' : 'none';\n",
              "\n",
              "        async function convertToInteractive(key) {\n",
              "          const element = document.querySelector('#df-67093121-d80f-4bba-a343-165eccfb5d8f');\n",
              "          const dataTable =\n",
              "            await google.colab.kernel.invokeFunction('convertToInteractive',\n",
              "                                                     [key], {});\n",
              "          if (!dataTable) return;\n",
              "\n",
              "          const docLinkHtml = 'Like what you see? Visit the ' +\n",
              "            '<a target=\"_blank\" href=https://colab.research.google.com/notebooks/data_table.ipynb>data table notebook</a>'\n",
              "            + ' to learn more about interactive tables.';\n",
              "          element.innerHTML = '';\n",
              "          dataTable['output_type'] = 'display_data';\n",
              "          await google.colab.output.renderOutput(dataTable, element);\n",
              "          const docLink = document.createElement('div');\n",
              "          docLink.innerHTML = docLinkHtml;\n",
              "          element.appendChild(docLink);\n",
              "        }\n",
              "      </script>\n",
              "    </div>\n",
              "  </div>\n",
              "  "
            ],
            "text/plain": [
              "  Model_Index Mean_NDCG@5 Std_NDCG@5    type\n",
              "0      tf_idf    0.390507   0.280982    must\n",
              "1      tf_idf    0.289646   0.275743  should"
            ]
          },
          "execution_count": 72,
          "metadata": {},
          "output_type": "execute_result"
        }
      ],
      "source": [
        "# Concatenate dataframes\n",
        "std_tfidf_ndcg_results = pd.concat([std_tfidf_ndcg_should, std_tfidf_ndcg_must])\n",
        "std_tfidf_ndcg_results = std_tfidf_ndcg_results.sort_values(by=['Mean_NDCG@5'], ascending=False)\n",
        "std_tfidf_ndcg_results.reset_index(drop=True, inplace=True)\n",
        "std_tfidf_ndcg_results"
      ]
    },
    {
      "cell_type": "markdown",
      "metadata": {
        "id": "uP8gEZIoS5Gt"
      },
      "source": [
        "###8.1.2 Precision"
      ]
    },
    {
      "cell_type": "markdown",
      "metadata": {
        "id": "HsP-2CPlUBny"
      },
      "source": [
        "#### Specify `should` to enable logical OR operator"
      ]
    },
    {
      "cell_type": "code",
      "execution_count": null,
      "metadata": {
        "id": "KkWZ2jeqUBny"
      },
      "outputs": [],
      "source": [
        "# Use values to get names of the indices\n",
        "index_names = ['tf_idf']\n",
        "\n",
        "# compare the evaluation metrics for each index\n",
        "std_tfidf_precision_should = compare_model_evaluation_metrics_at_k_df(\n",
        "                                        list_of_index_names = index_names,\n",
        "                                        queries_df = queries_df,\n",
        "                                        qrels_df = qrels_df,\n",
        "                                        eval_metric_name = 'Precision',\n",
        "                                        k = 5,\n",
        "                                        match_type = 'bool',\n",
        "                                        boolean_query_option = 'should'\n",
        "                                        )"
      ]
    },
    {
      "cell_type": "markdown",
      "metadata": {
        "id": "Yym2g_xrUBny"
      },
      "source": [
        "#### Specify `must` to enable logical AND operator"
      ]
    },
    {
      "cell_type": "code",
      "execution_count": null,
      "metadata": {
        "id": "nCIAUwq1UBny"
      },
      "outputs": [],
      "source": [
        "# Use values to get names of the indices\n",
        "index_names = ['tf_idf']\n",
        "\n",
        "# compare the evaluation metrics for each index\n",
        "std_tfidf_precision_must = compare_model_evaluation_metrics_at_k_df(\n",
        "                                        list_of_index_names = index_names,\n",
        "                                        queries_df = queries_df,\n",
        "                                        qrels_df = qrels_df,\n",
        "                                        eval_metric_name = 'Precision',\n",
        "                                        k = 5,\n",
        "                                        match_type = 'bool',\n",
        "                                        boolean_query_option = 'must'\n",
        "                                        )"
      ]
    },
    {
      "cell_type": "markdown",
      "metadata": {
        "id": "hxcKw8BsUBny"
      },
      "source": [
        "#### Comparison\n",
        "\n",
        "The table below compiles all results and sorts the mean Precision at 5 values from largest to smallest. So, the best performing models are at the top, and the lower performing are at the bottom."
      ]
    },
    {
      "cell_type": "code",
      "execution_count": null,
      "metadata": {
        "id": "7_A-wSxOUBny"
      },
      "outputs": [],
      "source": [
        "# Add query type to dataframes\n",
        "std_tfidf_precision_should['type'] = 'should'\n",
        "std_tfidf_precision_must['type'] = 'must'"
      ]
    },
    {
      "cell_type": "code",
      "execution_count": null,
      "metadata": {
        "colab": {
          "base_uri": "https://localhost:8080/",
          "height": 112
        },
        "id": "tVNUlAQVUBnz",
        "outputId": "0a2bd3c2-fcb5-41bc-ed80-3f946ff8375f"
      },
      "outputs": [
        {
          "data": {
            "text/html": [
              "\n",
              "  <div id=\"df-d57cb392-203d-4ea7-931f-460e22c0b1f2\">\n",
              "    <div class=\"colab-df-container\">\n",
              "      <div>\n",
              "<style scoped>\n",
              "    .dataframe tbody tr th:only-of-type {\n",
              "        vertical-align: middle;\n",
              "    }\n",
              "\n",
              "    .dataframe tbody tr th {\n",
              "        vertical-align: top;\n",
              "    }\n",
              "\n",
              "    .dataframe thead th {\n",
              "        text-align: right;\n",
              "    }\n",
              "</style>\n",
              "<table border=\"1\" class=\"dataframe\">\n",
              "  <thead>\n",
              "    <tr style=\"text-align: right;\">\n",
              "      <th></th>\n",
              "      <th>Model_Index</th>\n",
              "      <th>Mean_Precision@5</th>\n",
              "      <th>Std_Precision@5</th>\n",
              "      <th>type</th>\n",
              "    </tr>\n",
              "  </thead>\n",
              "  <tbody>\n",
              "    <tr>\n",
              "      <th>0</th>\n",
              "      <td>tf_idf</td>\n",
              "      <td>0.294379</td>\n",
              "      <td>0.230542</td>\n",
              "      <td>must</td>\n",
              "    </tr>\n",
              "    <tr>\n",
              "      <th>1</th>\n",
              "      <td>tf_idf</td>\n",
              "      <td>0.21609</td>\n",
              "      <td>0.220669</td>\n",
              "      <td>should</td>\n",
              "    </tr>\n",
              "  </tbody>\n",
              "</table>\n",
              "</div>\n",
              "      <button class=\"colab-df-convert\" onclick=\"convertToInteractive('df-d57cb392-203d-4ea7-931f-460e22c0b1f2')\"\n",
              "              title=\"Convert this dataframe to an interactive table.\"\n",
              "              style=\"display:none;\">\n",
              "        \n",
              "  <svg xmlns=\"http://www.w3.org/2000/svg\" height=\"24px\"viewBox=\"0 0 24 24\"\n",
              "       width=\"24px\">\n",
              "    <path d=\"M0 0h24v24H0V0z\" fill=\"none\"/>\n",
              "    <path d=\"M18.56 5.44l.94 2.06.94-2.06 2.06-.94-2.06-.94-.94-2.06-.94 2.06-2.06.94zm-11 1L8.5 8.5l.94-2.06 2.06-.94-2.06-.94L8.5 2.5l-.94 2.06-2.06.94zm10 10l.94 2.06.94-2.06 2.06-.94-2.06-.94-.94-2.06-.94 2.06-2.06.94z\"/><path d=\"M17.41 7.96l-1.37-1.37c-.4-.4-.92-.59-1.43-.59-.52 0-1.04.2-1.43.59L10.3 9.45l-7.72 7.72c-.78.78-.78 2.05 0 2.83L4 21.41c.39.39.9.59 1.41.59.51 0 1.02-.2 1.41-.59l7.78-7.78 2.81-2.81c.8-.78.8-2.07 0-2.86zM5.41 20L4 18.59l7.72-7.72 1.47 1.35L5.41 20z\"/>\n",
              "  </svg>\n",
              "      </button>\n",
              "      \n",
              "  <style>\n",
              "    .colab-df-container {\n",
              "      display:flex;\n",
              "      flex-wrap:wrap;\n",
              "      gap: 12px;\n",
              "    }\n",
              "\n",
              "    .colab-df-convert {\n",
              "      background-color: #E8F0FE;\n",
              "      border: none;\n",
              "      border-radius: 50%;\n",
              "      cursor: pointer;\n",
              "      display: none;\n",
              "      fill: #1967D2;\n",
              "      height: 32px;\n",
              "      padding: 0 0 0 0;\n",
              "      width: 32px;\n",
              "    }\n",
              "\n",
              "    .colab-df-convert:hover {\n",
              "      background-color: #E2EBFA;\n",
              "      box-shadow: 0px 1px 2px rgba(60, 64, 67, 0.3), 0px 1px 3px 1px rgba(60, 64, 67, 0.15);\n",
              "      fill: #174EA6;\n",
              "    }\n",
              "\n",
              "    [theme=dark] .colab-df-convert {\n",
              "      background-color: #3B4455;\n",
              "      fill: #D2E3FC;\n",
              "    }\n",
              "\n",
              "    [theme=dark] .colab-df-convert:hover {\n",
              "      background-color: #434B5C;\n",
              "      box-shadow: 0px 1px 3px 1px rgba(0, 0, 0, 0.15);\n",
              "      filter: drop-shadow(0px 1px 2px rgba(0, 0, 0, 0.3));\n",
              "      fill: #FFFFFF;\n",
              "    }\n",
              "  </style>\n",
              "\n",
              "      <script>\n",
              "        const buttonEl =\n",
              "          document.querySelector('#df-d57cb392-203d-4ea7-931f-460e22c0b1f2 button.colab-df-convert');\n",
              "        buttonEl.style.display =\n",
              "          google.colab.kernel.accessAllowed ? 'block' : 'none';\n",
              "\n",
              "        async function convertToInteractive(key) {\n",
              "          const element = document.querySelector('#df-d57cb392-203d-4ea7-931f-460e22c0b1f2');\n",
              "          const dataTable =\n",
              "            await google.colab.kernel.invokeFunction('convertToInteractive',\n",
              "                                                     [key], {});\n",
              "          if (!dataTable) return;\n",
              "\n",
              "          const docLinkHtml = 'Like what you see? Visit the ' +\n",
              "            '<a target=\"_blank\" href=https://colab.research.google.com/notebooks/data_table.ipynb>data table notebook</a>'\n",
              "            + ' to learn more about interactive tables.';\n",
              "          element.innerHTML = '';\n",
              "          dataTable['output_type'] = 'display_data';\n",
              "          await google.colab.output.renderOutput(dataTable, element);\n",
              "          const docLink = document.createElement('div');\n",
              "          docLink.innerHTML = docLinkHtml;\n",
              "          element.appendChild(docLink);\n",
              "        }\n",
              "      </script>\n",
              "    </div>\n",
              "  </div>\n",
              "  "
            ],
            "text/plain": [
              "  Model_Index Mean_Precision@5 Std_Precision@5    type\n",
              "0      tf_idf         0.294379        0.230542    must\n",
              "1      tf_idf          0.21609        0.220669  should"
            ]
          },
          "execution_count": 76,
          "metadata": {},
          "output_type": "execute_result"
        }
      ],
      "source": [
        "# Concatenate dataframes\n",
        "std_tfidf_precision_results = pd.concat([std_tfidf_precision_should, std_tfidf_precision_must])\n",
        "std_tfidf_precision_results = std_tfidf_precision_results.sort_values(by=['Mean_Precision@5'], ascending=False)\n",
        "std_tfidf_precision_results.reset_index(drop=True, inplace=True)\n",
        "std_tfidf_precision_results"
      ]
    },
    {
      "cell_type": "markdown",
      "metadata": {
        "id": "voog1fD7TYZe"
      },
      "source": [
        "### 8.2 Standard tf-idf"
      ]
    },
    {
      "cell_type": "markdown",
      "metadata": {
        "id": "5mkk8mNGTP1w"
      },
      "source": [
        "Tf-idf alone has proven to be the lowest performant model among the language model and BM25. To address this, I will adjust different different components of tf-idf. These are the combinations that I will be using:\n",
        "\n",
        "\n",
        "\n",
        "*   Standard tf-idf tfxidf\n",
        "*   Standard tf-idf with cosine normalisation tfxidfx(1/(sum document lengths)^2)\n",
        "* Sublinear tf transformation log(1+tf)*idf\n",
        "* Probabilistic inverse document frequency tfx(log(N-n)/n)\n",
        "\n",
        "<br>\n",
        "Below are the equivalents of these formulas in Painless notation:"
      ]
    },
    {
      "cell_type": "code",
      "execution_count": null,
      "metadata": {
        "id": "n4Kx39OGSsUi"
      },
      "outputs": [],
      "source": [
        "co_norm_tfidf = \"double tf = doc.freq; double idf = Math.log((field.docCount+1.0)/(term.docFreq+1.0)) + 1.0; double norm = 1/Math.sqrt(doc.length); return tf * idf * norm ;\"\n",
        "sub_tf_tfidf = \"double tf = Math.log(1+doc.freq); double idf = Math.log((field.docCount+1.0)/(term.docFreq+1.0)) + 1.0; double norm = 1/Math.sqrt(doc.length); return tf * idf ;\"\n",
        "prob_tfidf = \"double tf = doc.freq; double idf = Math.log((field.docCount - term.docFreq +1.0)/(term.docFreq+1.0)); double norm = 1/Math.sqrt(doc.length); return tf * idf ;\""
      ]
    },
    {
      "cell_type": "markdown",
      "metadata": {
        "id": "zXIB67wAxCxN"
      },
      "source": [
        "1. Adjust the settings of the index. Source (calculating formula) will be set to **std_tfidf** (Standard tf-idf)"
      ]
    },
    {
      "cell_type": "code",
      "execution_count": null,
      "metadata": {
        "colab": {
          "base_uri": "https://localhost:8080/"
        },
        "id": "xjFcbvmN-HiA",
        "outputId": "ebc43bc2-c68d-4db4-86d4-89c948b9c850"
      },
      "outputs": [
        {
          "data": {
            "text/plain": [
              "ObjectApiResponse({'acknowledged': True, 'shards_acknowledged': True})"
            ]
          },
          "execution_count": 19,
          "metadata": {},
          "output_type": "execute_result"
        }
      ],
      "source": [
        "payload = {\n",
        "  \"settings\": {\n",
        "\n",
        "    \"similarity\": {\n",
        "      \"scripted_tfidf\": {\n",
        "        \"type\": \"scripted\",\n",
        "        \"script\": {\n",
        "          \"source\": std_tfidf\n",
        "        }\n",
        "      }\n",
        "    }\n",
        "\n",
        "}}\n",
        "\n",
        "es.indices.close(index = 'tf_idf')\n",
        "es.indices.put_settings(index = 'tf_idf', settings = payload)\n",
        "es.indices.open(index = 'tf_idf')"
      ]
    },
    {
      "cell_type": "markdown",
      "metadata": {
        "id": "sFrxn7hgC9dr"
      },
      "source": [
        "2. Run the evaluation functions for NDCG at 5."
      ]
    },
    {
      "cell_type": "code",
      "execution_count": null,
      "metadata": {
        "id": "3AdovWsYOG84"
      },
      "outputs": [],
      "source": [
        "std_tfidf_ndcg_at_5_results = get_evaluation_metrics(\n",
        "                                                queries_df = queries_df,\n",
        "                                                qrels_df = qrels_df,\n",
        "                                                es_index = 'tf_idf',\n",
        "                                                eval_metric_dict = ndcg_at_k_metric\n",
        "                                                )"
      ]
    },
    {
      "cell_type": "code",
      "execution_count": null,
      "metadata": {
        "id": "JAOEbtHlOG85"
      },
      "outputs": [],
      "source": [
        "std_tfidf_ndcg_at_5 = get_evaluation_metrics_df(\n",
        "                                            eval_metric_name = 'NDCG@5',\n",
        "                                            queries_df = queries_df,\n",
        "                                            qrels_df = qrels_df,\n",
        "                                            es_index = 'tf_idf',\n",
        "                                            eval_metric_dict = ndcg_at_k_metric\n",
        "                                            )"
      ]
    },
    {
      "cell_type": "markdown",
      "metadata": {
        "id": "nt4zDAq8DHeb"
      },
      "source": [
        "3. Get mean and standard deviation for NDCG @ 5"
      ]
    },
    {
      "cell_type": "code",
      "execution_count": null,
      "metadata": {
        "colab": {
          "base_uri": "https://localhost:8080/"
        },
        "id": "2L2esBQYOG85",
        "outputId": "811f770b-37a9-45be-efb7-f801b577d083"
      },
      "outputs": [
        {
          "name": "stdout",
          "output_type": "stream",
          "text": [
            "Standard tf-idf NDCG@5 for all queries:\n"
          ]
        },
        {
          "data": {
            "text/plain": [
              "mean    0.288944\n",
              "std     0.275718\n",
              "Name: NDCG@5, dtype: float64"
            ]
          },
          "execution_count": 22,
          "metadata": {},
          "output_type": "execute_result"
        }
      ],
      "source": [
        "print('Standard tf-idf NDCG@5 for all queries:')\n",
        "std_tfidf_ndcg_at_5.loc[:,'NDCG@5'].describe()[['mean', 'std']]"
      ]
    },
    {
      "cell_type": "markdown",
      "metadata": {
        "id": "nK2R3LM6DdZ4"
      },
      "source": [
        "4. Run the evaluation functions for Precision at 5."
      ]
    },
    {
      "cell_type": "code",
      "execution_count": null,
      "metadata": {
        "id": "pat1XLYTOG85"
      },
      "outputs": [],
      "source": [
        "precision_at_k_metric = {\n",
        "                        'precision': {\n",
        "                                        'k': 5,\n",
        "                                        # query relevance labels >= 1 to be deemed relevant\n",
        "                                        'relevant_rating_threshold': 1,\n",
        "                                        }\n",
        "                        }"
      ]
    },
    {
      "cell_type": "code",
      "execution_count": null,
      "metadata": {
        "id": "YjQqZR4EOG86"
      },
      "outputs": [],
      "source": [
        "std_tfidf_p_at_5 = get_evaluation_metrics_df(\n",
        "                                            eval_metric_name = 'P@5',\n",
        "                                            queries_df = queries_df,\n",
        "                                            qrels_df = qrels_df,\n",
        "                                            es_index = 'tf_idf',\n",
        "                                            eval_metric_dict = precision_at_k_metric\n",
        "                                            )"
      ]
    },
    {
      "cell_type": "markdown",
      "metadata": {
        "id": "JYLrfOa7DRfB"
      },
      "source": [
        "5. Get mean and standard deviation for Precision @ 5"
      ]
    },
    {
      "cell_type": "code",
      "execution_count": null,
      "metadata": {
        "colab": {
          "base_uri": "https://localhost:8080/"
        },
        "id": "x5qmAU1TOG86",
        "outputId": "7f4e6f1c-62bc-43f2-fb90-5ca8cfcb73b2"
      },
      "outputs": [
        {
          "name": "stdout",
          "output_type": "stream",
          "text": [
            "Standard tf-idf Precision@5 for all queries:\n"
          ]
        },
        {
          "data": {
            "text/plain": [
              "mean    0.216090\n",
              "std     0.220669\n",
              "Name: P@5, dtype: float64"
            ]
          },
          "execution_count": 25,
          "metadata": {},
          "output_type": "execute_result"
        }
      ],
      "source": [
        "print('Standard tf-idf Precision@5 for all queries:')\n",
        "std_tfidf_p_at_5.loc[:,'P@5'].describe()[['mean', 'std']]"
      ]
    },
    {
      "cell_type": "markdown",
      "metadata": {
        "id": "EtTshqpFxWVR"
      },
      "source": [
        "### 8.3 Standard tf-idf with document length normalisation\n",
        "1. Adjust the settings of the index. Source (calculating formula) will be set to **co_norm_tfidf** (Cosine normalisation)"
      ]
    },
    {
      "cell_type": "code",
      "execution_count": null,
      "metadata": {
        "colab": {
          "base_uri": "https://localhost:8080/"
        },
        "id": "ppUBY5R6xYRK",
        "outputId": "8442b504-45f8-4e1f-88c3-6a6ec8d9a331"
      },
      "outputs": [
        {
          "data": {
            "text/plain": [
              "ObjectApiResponse({'acknowledged': True, 'shards_acknowledged': True})"
            ]
          },
          "execution_count": 26,
          "metadata": {},
          "output_type": "execute_result"
        }
      ],
      "source": [
        "payload = {\n",
        "  \"settings\": {\n",
        "\n",
        "    \"similarity\": {\n",
        "      \"scripted_tfidf\": {\n",
        "        \"type\": \"scripted\",\n",
        "        \"script\": {\n",
        "          \"source\": co_norm_tfidf\n",
        "        }\n",
        "      }\n",
        "    }\n",
        "\n",
        "}}\n",
        "\n",
        "es.indices.close(index = 'tf_idf')\n",
        "es.indices.put_settings(index = 'tf_idf', settings = payload)\n",
        "es.indices.open(index = 'tf_idf')"
      ]
    },
    {
      "cell_type": "markdown",
      "metadata": {
        "id": "lZMuRHaSEOQZ"
      },
      "source": [
        "2. Run the evaluation functions for NDCG at 5"
      ]
    },
    {
      "cell_type": "code",
      "execution_count": null,
      "metadata": {
        "id": "2fLQzM64xY98"
      },
      "outputs": [],
      "source": [
        "co_norm_tfidf_ndcg_at_5_results = get_evaluation_metrics(\n",
        "                                                queries_df = queries_df,\n",
        "                                                qrels_df = qrels_df,\n",
        "                                                es_index = 'tf_idf',\n",
        "                                                eval_metric_dict = ndcg_at_k_metric\n",
        "                                                )"
      ]
    },
    {
      "cell_type": "code",
      "execution_count": null,
      "metadata": {
        "id": "OiC-YO73xY98"
      },
      "outputs": [],
      "source": [
        "co_norm_tfidf_ndcg_at_5 = get_evaluation_metrics_df(\n",
        "                                            eval_metric_name = 'NDCG@5',\n",
        "                                            queries_df = queries_df,\n",
        "                                            qrels_df = qrels_df,\n",
        "                                            es_index = 'tf_idf',\n",
        "                                            eval_metric_dict = ndcg_at_k_metric\n",
        "                                            )"
      ]
    },
    {
      "cell_type": "markdown",
      "metadata": {
        "id": "HgSDV7ezERpR"
      },
      "source": [
        "3. Get mean and standard deviation for NDCG @ 5"
      ]
    },
    {
      "cell_type": "code",
      "execution_count": null,
      "metadata": {
        "colab": {
          "base_uri": "https://localhost:8080/"
        },
        "id": "3glBkVkPxY99",
        "outputId": "53e1064e-3ff4-427c-ac4e-c23a5cbd03dd"
      },
      "outputs": [
        {
          "name": "stdout",
          "output_type": "stream",
          "text": [
            "Standard tf-idf with document length normalization NDCG@5 for all queries:\n"
          ]
        },
        {
          "data": {
            "text/plain": [
              "mean    0.286568\n",
              "std     0.275231\n",
              "Name: NDCG@5, dtype: float64"
            ]
          },
          "execution_count": 29,
          "metadata": {},
          "output_type": "execute_result"
        }
      ],
      "source": [
        "print('Standard tf-idf with document length normalization NDCG@5 for all queries:')\n",
        "co_norm_tfidf_ndcg_at_5.loc[:,'NDCG@5'].describe()[['mean', 'std']]"
      ]
    },
    {
      "cell_type": "markdown",
      "metadata": {
        "id": "HPewLP3nEVAt"
      },
      "source": [
        "4. Run the evaluation functions for Precision at 5"
      ]
    },
    {
      "cell_type": "code",
      "execution_count": null,
      "metadata": {
        "id": "ansK-sTVxY99"
      },
      "outputs": [],
      "source": [
        "precision_at_k_metric = {\n",
        "                        'precision': {\n",
        "                                        'k': 5,\n",
        "                                        # query relevance labels >= 1 to be deemed relevant\n",
        "                                        'relevant_rating_threshold': 1,\n",
        "                                        }\n",
        "                        }"
      ]
    },
    {
      "cell_type": "code",
      "execution_count": null,
      "metadata": {
        "id": "46znfxB7xY99"
      },
      "outputs": [],
      "source": [
        "co_norm_p_at_5 = get_evaluation_metrics_df(\n",
        "                                            eval_metric_name = 'P@5',\n",
        "                                            queries_df = queries_df,\n",
        "                                            qrels_df = qrels_df,\n",
        "                                            es_index = 'tf_idf',\n",
        "                                            eval_metric_dict = precision_at_k_metric\n",
        "                                            )"
      ]
    },
    {
      "cell_type": "markdown",
      "metadata": {
        "id": "1OQMKsgNEc-X"
      },
      "source": [
        "5. Get mean and standard deviation for Precision @ 5"
      ]
    },
    {
      "cell_type": "code",
      "execution_count": null,
      "metadata": {
        "colab": {
          "base_uri": "https://localhost:8080/"
        },
        "id": "LvbmmXnexY9_",
        "outputId": "2b8bcc7c-3b71-4fb3-b368-c836c08e1939"
      },
      "outputs": [
        {
          "name": "stdout",
          "output_type": "stream",
          "text": [
            "Standard tf-idf with document length normalization Precision@5 for all queries:\n"
          ]
        },
        {
          "data": {
            "text/plain": [
              "mean    0.214843\n",
              "std     0.219813\n",
              "Name: P@5, dtype: float64"
            ]
          },
          "execution_count": 32,
          "metadata": {},
          "output_type": "execute_result"
        }
      ],
      "source": [
        "print('Standard tf-idf with document length normalization Precision@5 for all queries:')\n",
        "co_norm_p_at_5.loc[:,'P@5'].describe()[['mean', 'std']]"
      ]
    },
    {
      "cell_type": "markdown",
      "metadata": {
        "id": "2Z0xm-NazLFh"
      },
      "source": [
        "### 8.4 Sublinear tf transformation\n",
        "1. Adjust the settings of the index. Source (calculating formula) will be set to **sub_tf_tfidf** (Sublinear tf transformation)"
      ]
    },
    {
      "cell_type": "code",
      "execution_count": null,
      "metadata": {
        "colab": {
          "base_uri": "https://localhost:8080/"
        },
        "id": "sckU4MenzLFh",
        "outputId": "dc1a485a-e452-4204-ed8e-342d36cf59c1"
      },
      "outputs": [
        {
          "data": {
            "text/plain": [
              "ObjectApiResponse({'acknowledged': True, 'shards_acknowledged': True})"
            ]
          },
          "execution_count": 33,
          "metadata": {},
          "output_type": "execute_result"
        }
      ],
      "source": [
        "payload = {\n",
        "  \"settings\": {\n",
        "\n",
        "    \"similarity\": {\n",
        "      \"scripted_tfidf\": {\n",
        "        \"type\": \"scripted\",\n",
        "        \"script\": {\n",
        "          \"source\": sub_tf_tfidf\n",
        "        }\n",
        "      }\n",
        "    }\n",
        "\n",
        "}}\n",
        "\n",
        "es.indices.close(index = 'tf_idf')\n",
        "es.indices.put_settings(index = 'tf_idf', settings = payload)\n",
        "es.indices.open(index = 'tf_idf')"
      ]
    },
    {
      "cell_type": "markdown",
      "metadata": {
        "id": "qQB4fg_MEsNY"
      },
      "source": [
        "2. Run the evaluation functions for NDCG at 5"
      ]
    },
    {
      "cell_type": "code",
      "execution_count": null,
      "metadata": {
        "id": "pt9KeQbwzLFi"
      },
      "outputs": [],
      "source": [
        "sub_tf_ndcg_at_5_results = get_evaluation_metrics(\n",
        "                                                queries_df = queries_df,\n",
        "                                                qrels_df = qrels_df,\n",
        "                                                es_index = 'tf_idf',\n",
        "                                                eval_metric_dict = ndcg_at_k_metric\n",
        "                                                )"
      ]
    },
    {
      "cell_type": "code",
      "execution_count": null,
      "metadata": {
        "id": "f1VR5PfEzLFi"
      },
      "outputs": [],
      "source": [
        "sub_tf_ndcg_at_5 = get_evaluation_metrics_df(\n",
        "                                            eval_metric_name = 'NDCG@5',\n",
        "                                            queries_df = queries_df,\n",
        "                                            qrels_df = qrels_df,\n",
        "                                            es_index = 'tf_idf',\n",
        "                                            eval_metric_dict = ndcg_at_k_metric\n",
        "                                            )"
      ]
    },
    {
      "cell_type": "markdown",
      "metadata": {
        "id": "2esIsMldEu_M"
      },
      "source": [
        "3. Get mean and standard deviation for NDCG @ 5"
      ]
    },
    {
      "cell_type": "code",
      "execution_count": null,
      "metadata": {
        "colab": {
          "base_uri": "https://localhost:8080/"
        },
        "id": "soAocYXVzLFi",
        "outputId": "2de5695d-ccb9-4b7d-aa2c-8a6d6286e81c"
      },
      "outputs": [
        {
          "name": "stdout",
          "output_type": "stream",
          "text": [
            "Sublinear tf transformation NDCG@5 for all queries:\n"
          ]
        },
        {
          "data": {
            "text/plain": [
              "mean    0.395989\n",
              "std     0.275916\n",
              "Name: NDCG@5, dtype: float64"
            ]
          },
          "execution_count": 36,
          "metadata": {},
          "output_type": "execute_result"
        }
      ],
      "source": [
        "print('Sublinear tf transformation NDCG@5 for all queries:')\n",
        "sub_tf_ndcg_at_5.loc[:,'NDCG@5'].describe()[['mean', 'std']]"
      ]
    },
    {
      "cell_type": "markdown",
      "metadata": {
        "id": "ZZZmzdGmExuk"
      },
      "source": [
        "4. Run the evaluation functions for Precision at 5"
      ]
    },
    {
      "cell_type": "code",
      "execution_count": null,
      "metadata": {
        "id": "7LckHWArzLFi"
      },
      "outputs": [],
      "source": [
        "precision_at_k_metric = {\n",
        "                        'precision': {\n",
        "                                        'k': 5,\n",
        "                                        # query relevance labels >= 1 to be deemed relevant\n",
        "                                        'relevant_rating_threshold': 1,\n",
        "                                        }\n",
        "                        }"
      ]
    },
    {
      "cell_type": "code",
      "execution_count": null,
      "metadata": {
        "id": "oEVBeOWCzLFi"
      },
      "outputs": [],
      "source": [
        "sub_tf_p_at_5 = get_evaluation_metrics_df(\n",
        "                                            eval_metric_name = 'P@5',\n",
        "                                            queries_df = queries_df,\n",
        "                                            qrels_df = qrels_df,\n",
        "                                            es_index = 'tf_idf',\n",
        "                                            eval_metric_dict = precision_at_k_metric\n",
        "                                            )"
      ]
    },
    {
      "cell_type": "markdown",
      "metadata": {
        "id": "chtABmsJEz2j"
      },
      "source": [
        "5. Get mean and standard deviation for Precision @ 5"
      ]
    },
    {
      "cell_type": "code",
      "execution_count": null,
      "metadata": {
        "colab": {
          "base_uri": "https://localhost:8080/"
        },
        "id": "SYrwVrxNzLFi",
        "outputId": "36acd3dd-5f5d-4147-9cb8-f23dc8abaa8a"
      },
      "outputs": [
        {
          "name": "stdout",
          "output_type": "stream",
          "text": [
            "Sublinear tf transformation Precision@5 for all queries:\n"
          ]
        },
        {
          "data": {
            "text/plain": [
              "mean    0.285619\n",
              "std     0.224697\n",
              "Name: P@5, dtype: float64"
            ]
          },
          "execution_count": 39,
          "metadata": {},
          "output_type": "execute_result"
        }
      ],
      "source": [
        "print('Sublinear tf transformation Precision@5 for all queries:')\n",
        "sub_tf_p_at_5.loc[:,'P@5'].describe()[['mean', 'std']]"
      ]
    },
    {
      "cell_type": "markdown",
      "metadata": {
        "id": "cFldn5Td0SQ3"
      },
      "source": [
        "### 8.5 Probabilistic inverse document frequency\n",
        "1. Adjust the settings of the index. Source (calculating formula) will be set to **prob_tfidf** (Probabilistic idf)"
      ]
    },
    {
      "cell_type": "code",
      "execution_count": null,
      "metadata": {
        "colab": {
          "base_uri": "https://localhost:8080/"
        },
        "id": "AyAzeNyy0uCT",
        "outputId": "ccd4c206-e2ec-4708-de52-81890a955a3c"
      },
      "outputs": [
        {
          "data": {
            "text/plain": [
              "ObjectApiResponse({'acknowledged': True, 'shards_acknowledged': True})"
            ]
          },
          "execution_count": 40,
          "metadata": {},
          "output_type": "execute_result"
        }
      ],
      "source": [
        "payload = {\n",
        "  \"settings\": {\n",
        "\n",
        "    \"similarity\": {\n",
        "      \"scripted_tfidf\": {\n",
        "        \"type\": \"scripted\",\n",
        "        \"script\": {\n",
        "          \"source\": prob_tfidf\n",
        "        }\n",
        "      }\n",
        "    }\n",
        "\n",
        "}}\n",
        "\n",
        "es.indices.close(index = 'tf_idf')\n",
        "es.indices.put_settings(index = 'tf_idf', settings = payload)\n",
        "es.indices.open(index = 'tf_idf')"
      ]
    },
    {
      "cell_type": "markdown",
      "metadata": {
        "id": "Gt6Ir7grFBjM"
      },
      "source": [
        "2. Run the evaluation functions for NDCG at 5"
      ]
    },
    {
      "cell_type": "code",
      "execution_count": null,
      "metadata": {
        "id": "JaDnzVgU0uCU"
      },
      "outputs": [],
      "source": [
        "prob_ndcg_at_5_results = get_evaluation_metrics(\n",
        "                                                queries_df = queries_df,\n",
        "                                                qrels_df = qrels_df,\n",
        "                                                es_index = 'tf_idf',\n",
        "                                                eval_metric_dict = ndcg_at_k_metric\n",
        "                                                )"
      ]
    },
    {
      "cell_type": "code",
      "execution_count": null,
      "metadata": {
        "id": "egEICK_H0uCU"
      },
      "outputs": [],
      "source": [
        "prob_ndcg_at_5 = get_evaluation_metrics_df(\n",
        "                                            eval_metric_name = 'NDCG@5',\n",
        "                                            queries_df = queries_df,\n",
        "                                            qrels_df = qrels_df,\n",
        "                                            es_index = 'tf_idf',\n",
        "                                            eval_metric_dict = ndcg_at_k_metric\n",
        "                                            )"
      ]
    },
    {
      "cell_type": "markdown",
      "metadata": {
        "id": "13-sesm9FEm2"
      },
      "source": [
        "3. Get mean and standard deviation for NDCG @ 5"
      ]
    },
    {
      "cell_type": "code",
      "execution_count": null,
      "metadata": {
        "colab": {
          "base_uri": "https://localhost:8080/"
        },
        "id": "e47qReEX0uCU",
        "outputId": "bb0c2965-e8d4-4dc0-a9b7-1ff80a1fe26e"
      },
      "outputs": [
        {
          "name": "stdout",
          "output_type": "stream",
          "text": [
            "Probabilistic inverse document frequency NDCG@5 for all queries:\n"
          ]
        },
        {
          "data": {
            "text/plain": [
              "mean    0.308384\n",
              "std     0.275979\n",
              "Name: NDCG@5, dtype: float64"
            ]
          },
          "execution_count": 43,
          "metadata": {},
          "output_type": "execute_result"
        }
      ],
      "source": [
        "print('Probabilistic inverse document frequency NDCG@5 for all queries:')\n",
        "prob_ndcg_at_5.loc[:,'NDCG@5'].describe()[['mean', 'std']]"
      ]
    },
    {
      "cell_type": "markdown",
      "metadata": {
        "id": "ICAHItrhFI_q"
      },
      "source": [
        "4. Run the evaluation functions for Precision at 5"
      ]
    },
    {
      "cell_type": "code",
      "execution_count": null,
      "metadata": {
        "id": "EM2bf7tb0uCV"
      },
      "outputs": [],
      "source": [
        "precision_at_k_metric = {\n",
        "                        'precision': {\n",
        "                                        'k': 5,\n",
        "                                        # query relevance labels >= 1 to be deemed relevant\n",
        "                                        'relevant_rating_threshold': 1,\n",
        "                                        }\n",
        "                        }"
      ]
    },
    {
      "cell_type": "code",
      "execution_count": null,
      "metadata": {
        "id": "KCiYeWj00uCV"
      },
      "outputs": [],
      "source": [
        "prob_p_at_5 = get_evaluation_metrics_df(\n",
        "                                            eval_metric_name = 'P@5',\n",
        "                                            queries_df = queries_df,\n",
        "                                            qrels_df = qrels_df,\n",
        "                                            es_index = 'tf_idf',\n",
        "                                            eval_metric_dict = precision_at_k_metric\n",
        "                                            )"
      ]
    },
    {
      "cell_type": "markdown",
      "metadata": {
        "id": "7z7huFnTFLwL"
      },
      "source": [
        "5. Get mean and standard deviation for Precision @ 5"
      ]
    },
    {
      "cell_type": "code",
      "execution_count": null,
      "metadata": {
        "colab": {
          "base_uri": "https://localhost:8080/"
        },
        "id": "H_Lqn__I0uCV",
        "outputId": "8a957903-1e32-40d1-c8f1-1125d0a1329b"
      },
      "outputs": [
        {
          "name": "stdout",
          "output_type": "stream",
          "text": [
            "Probabilistic inverse document frequency Precision@5 for all queries:\n"
          ]
        },
        {
          "data": {
            "text/plain": [
              "mean    0.234947\n",
              "std     0.223876\n",
              "Name: P@5, dtype: float64"
            ]
          },
          "execution_count": 46,
          "metadata": {},
          "output_type": "execute_result"
        }
      ],
      "source": [
        "print('Probabilistic inverse document frequency Precision@5 for all queries:')\n",
        "prob_p_at_5.loc[:,'P@5'].describe()[['mean', 'std']]"
      ]
    },
    {
      "cell_type": "markdown",
      "metadata": {
        "id": "nr_veaNzDNY7"
      },
      "source": [
        "Both NDCG@5 and Precision@5 ranked Sublinear tf transformation as the highest performing models, while the standard tfxidf implementation with document length normalization yielded the worst results. This could be explained because of the extra penalization of documents longer than the average, in a dataset with almost similar lengths and a standard deviation of 10 words.\n"
      ]
    },
    {
      "cell_type": "markdown",
      "metadata": {
        "id": "BQ4voeWOfnB8"
      },
      "source": [
        "## Section 9 - Final results"
      ]
    },
    {
      "cell_type": "code",
      "execution_count": null,
      "metadata": {
        "colab": {
          "base_uri": "https://localhost:8080/"
        },
        "id": "FSEn9kjng6jG",
        "outputId": "e3b4f6a4-4741-4851-91d6-8ffe5f6849e1"
      },
      "outputs": [
        {
          "data": {
            "text/plain": [
              "ObjectApiResponse({'acknowledged': True, 'shards_acknowledged': True})"
            ]
          },
          "execution_count": 83,
          "metadata": {},
          "output_type": "execute_result"
        }
      ],
      "source": [
        "payload = {\n",
        "  \"settings\": {\n",
        "\n",
        "    \"similarity\": {\n",
        "      \"scripted_tfidf\": {\n",
        "        \"type\": \"scripted\",\n",
        "        \"script\": {\n",
        "          \"source\": sub_tf_tfidf\n",
        "        }\n",
        "      }\n",
        "    }\n",
        "\n",
        "}}\n",
        "\n",
        "es.indices.close(index = 'tf_idf')\n",
        "es.indices.put_settings(index = 'tf_idf', settings = payload)\n",
        "es.indices.open(index = 'tf_idf')"
      ]
    },
    {
      "cell_type": "code",
      "execution_count": null,
      "metadata": {
        "id": "it7BW1jXfqFT"
      },
      "outputs": [],
      "source": [
        "testing_queries_df = pd.read_csv('/content/drive/MyDrive/wikIR1k/test/queries.csv',index_col='query_id')\n",
        "testing_qrels_df = pd.read_csv('/content/drive/MyDrive/wikIR1k/test/test_qrels.csv',index_col='query_id')"
      ]
    },
    {
      "cell_type": "code",
      "execution_count": null,
      "metadata": {
        "colab": {
          "base_uri": "https://localhost:8080/",
          "height": 143
        },
        "id": "sU0jendRgOx5",
        "outputId": "d4e6a4b9-13aa-4212-d256-9002ab6b0295"
      },
      "outputs": [
        {
          "data": {
            "text/html": [
              "\n",
              "  <div id=\"df-67fe115f-8282-476f-b8ef-39df1c6a711f\">\n",
              "    <div class=\"colab-df-container\">\n",
              "      <div>\n",
              "<style scoped>\n",
              "    .dataframe tbody tr th:only-of-type {\n",
              "        vertical-align: middle;\n",
              "    }\n",
              "\n",
              "    .dataframe tbody tr th {\n",
              "        vertical-align: top;\n",
              "    }\n",
              "\n",
              "    .dataframe thead th {\n",
              "        text-align: right;\n",
              "    }\n",
              "</style>\n",
              "<table border=\"1\" class=\"dataframe\">\n",
              "  <thead>\n",
              "    <tr style=\"text-align: right;\">\n",
              "      <th></th>\n",
              "      <th>Model_Index</th>\n",
              "      <th>Mean_NDCG@10</th>\n",
              "      <th>Std_NDCG@10</th>\n",
              "    </tr>\n",
              "  </thead>\n",
              "  <tbody>\n",
              "    <tr>\n",
              "      <th>2</th>\n",
              "      <td>tf_idf</td>\n",
              "      <td>0.3745404843774162</td>\n",
              "      <td>0.22093606064898205</td>\n",
              "    </tr>\n",
              "    <tr>\n",
              "      <th>1</th>\n",
              "      <td>bm25_k3.5_b0.1</td>\n",
              "      <td>0.3740209130795488</td>\n",
              "      <td>0.22157830270859138</td>\n",
              "    </tr>\n",
              "    <tr>\n",
              "      <th>0</th>\n",
              "      <td>lm_index_lambda_0p01</td>\n",
              "      <td>0.36571195204067336</td>\n",
              "      <td>0.21548838574446627</td>\n",
              "    </tr>\n",
              "  </tbody>\n",
              "</table>\n",
              "</div>\n",
              "      <button class=\"colab-df-convert\" onclick=\"convertToInteractive('df-67fe115f-8282-476f-b8ef-39df1c6a711f')\"\n",
              "              title=\"Convert this dataframe to an interactive table.\"\n",
              "              style=\"display:none;\">\n",
              "        \n",
              "  <svg xmlns=\"http://www.w3.org/2000/svg\" height=\"24px\"viewBox=\"0 0 24 24\"\n",
              "       width=\"24px\">\n",
              "    <path d=\"M0 0h24v24H0V0z\" fill=\"none\"/>\n",
              "    <path d=\"M18.56 5.44l.94 2.06.94-2.06 2.06-.94-2.06-.94-.94-2.06-.94 2.06-2.06.94zm-11 1L8.5 8.5l.94-2.06 2.06-.94-2.06-.94L8.5 2.5l-.94 2.06-2.06.94zm10 10l.94 2.06.94-2.06 2.06-.94-2.06-.94-.94-2.06-.94 2.06-2.06.94z\"/><path d=\"M17.41 7.96l-1.37-1.37c-.4-.4-.92-.59-1.43-.59-.52 0-1.04.2-1.43.59L10.3 9.45l-7.72 7.72c-.78.78-.78 2.05 0 2.83L4 21.41c.39.39.9.59 1.41.59.51 0 1.02-.2 1.41-.59l7.78-7.78 2.81-2.81c.8-.78.8-2.07 0-2.86zM5.41 20L4 18.59l7.72-7.72 1.47 1.35L5.41 20z\"/>\n",
              "  </svg>\n",
              "      </button>\n",
              "      \n",
              "  <style>\n",
              "    .colab-df-container {\n",
              "      display:flex;\n",
              "      flex-wrap:wrap;\n",
              "      gap: 12px;\n",
              "    }\n",
              "\n",
              "    .colab-df-convert {\n",
              "      background-color: #E8F0FE;\n",
              "      border: none;\n",
              "      border-radius: 50%;\n",
              "      cursor: pointer;\n",
              "      display: none;\n",
              "      fill: #1967D2;\n",
              "      height: 32px;\n",
              "      padding: 0 0 0 0;\n",
              "      width: 32px;\n",
              "    }\n",
              "\n",
              "    .colab-df-convert:hover {\n",
              "      background-color: #E2EBFA;\n",
              "      box-shadow: 0px 1px 2px rgba(60, 64, 67, 0.3), 0px 1px 3px 1px rgba(60, 64, 67, 0.15);\n",
              "      fill: #174EA6;\n",
              "    }\n",
              "\n",
              "    [theme=dark] .colab-df-convert {\n",
              "      background-color: #3B4455;\n",
              "      fill: #D2E3FC;\n",
              "    }\n",
              "\n",
              "    [theme=dark] .colab-df-convert:hover {\n",
              "      background-color: #434B5C;\n",
              "      box-shadow: 0px 1px 3px 1px rgba(0, 0, 0, 0.15);\n",
              "      filter: drop-shadow(0px 1px 2px rgba(0, 0, 0, 0.3));\n",
              "      fill: #FFFFFF;\n",
              "    }\n",
              "  </style>\n",
              "\n",
              "      <script>\n",
              "        const buttonEl =\n",
              "          document.querySelector('#df-67fe115f-8282-476f-b8ef-39df1c6a711f button.colab-df-convert');\n",
              "        buttonEl.style.display =\n",
              "          google.colab.kernel.accessAllowed ? 'block' : 'none';\n",
              "\n",
              "        async function convertToInteractive(key) {\n",
              "          const element = document.querySelector('#df-67fe115f-8282-476f-b8ef-39df1c6a711f');\n",
              "          const dataTable =\n",
              "            await google.colab.kernel.invokeFunction('convertToInteractive',\n",
              "                                                     [key], {});\n",
              "          if (!dataTable) return;\n",
              "\n",
              "          const docLinkHtml = 'Like what you see? Visit the ' +\n",
              "            '<a target=\"_blank\" href=https://colab.research.google.com/notebooks/data_table.ipynb>data table notebook</a>'\n",
              "            + ' to learn more about interactive tables.';\n",
              "          element.innerHTML = '';\n",
              "          dataTable['output_type'] = 'display_data';\n",
              "          await google.colab.output.renderOutput(dataTable, element);\n",
              "          const docLink = document.createElement('div');\n",
              "          docLink.innerHTML = docLinkHtml;\n",
              "          element.appendChild(docLink);\n",
              "        }\n",
              "      </script>\n",
              "    </div>\n",
              "  </div>\n",
              "  "
            ],
            "text/plain": [
              "            Model_Index         Mean_NDCG@10          Std_NDCG@10\n",
              "2                tf_idf   0.3745404843774162  0.22093606064898205\n",
              "1        bm25_k3.5_b0.1   0.3740209130795488  0.22157830270859138\n",
              "0  lm_index_lambda_0p01  0.36571195204067336  0.21548838574446627"
            ]
          },
          "execution_count": 101,
          "metadata": {},
          "output_type": "execute_result"
        }
      ],
      "source": [
        "# Use values to get names of the indices\n",
        "index_names = ['lm_index_lambda_0p01','bm25_k3.5_b0.1','tf_idf']\n",
        "\n",
        "# compare the evaluation metrics for each index\n",
        "compare_model_evaluation_metrics_at_k_df(\n",
        "                                        list_of_index_names = index_names,\n",
        "                                        queries_df = testing_queries_df,\n",
        "                                        qrels_df = testing_qrels_df,\n",
        "                                        eval_metric_name = 'NDCG',\n",
        "                                        k = 10,\n",
        "                                        match_type = 'bool',\n",
        "                                        boolean_query_option = 'must'\n",
        "                                        )"
      ]
    },
    {
      "cell_type": "code",
      "execution_count": null,
      "metadata": {
        "colab": {
          "base_uri": "https://localhost:8080/",
          "height": 143
        },
        "id": "HXNzU73hhR1z",
        "outputId": "bc274fe4-5a25-4507-c637-98cbd1d1cd1b"
      },
      "outputs": [
        {
          "data": {
            "text/html": [
              "\n",
              "  <div id=\"df-94405f3c-2646-4b18-8de9-180c40248262\">\n",
              "    <div class=\"colab-df-container\">\n",
              "      <div>\n",
              "<style scoped>\n",
              "    .dataframe tbody tr th:only-of-type {\n",
              "        vertical-align: middle;\n",
              "    }\n",
              "\n",
              "    .dataframe tbody tr th {\n",
              "        vertical-align: top;\n",
              "    }\n",
              "\n",
              "    .dataframe thead th {\n",
              "        text-align: right;\n",
              "    }\n",
              "</style>\n",
              "<table border=\"1\" class=\"dataframe\">\n",
              "  <thead>\n",
              "    <tr style=\"text-align: right;\">\n",
              "      <th></th>\n",
              "      <th>Model_Index</th>\n",
              "      <th>Mean_Precision@10</th>\n",
              "      <th>Std_Precision@10</th>\n",
              "    </tr>\n",
              "  </thead>\n",
              "  <tbody>\n",
              "    <tr>\n",
              "      <th>2</th>\n",
              "      <td>tf_idf</td>\n",
              "      <td>0.20749603174603162</td>\n",
              "      <td>0.13703559652356107</td>\n",
              "    </tr>\n",
              "    <tr>\n",
              "      <th>1</th>\n",
              "      <td>bm25_k3.5_b0.1</td>\n",
              "      <td>0.20549603174603162</td>\n",
              "      <td>0.1349034495534523</td>\n",
              "    </tr>\n",
              "    <tr>\n",
              "      <th>0</th>\n",
              "      <td>lm_index_lambda_0p01</td>\n",
              "      <td>0.20449603174603165</td>\n",
              "      <td>0.1322949847415861</td>\n",
              "    </tr>\n",
              "  </tbody>\n",
              "</table>\n",
              "</div>\n",
              "      <button class=\"colab-df-convert\" onclick=\"convertToInteractive('df-94405f3c-2646-4b18-8de9-180c40248262')\"\n",
              "              title=\"Convert this dataframe to an interactive table.\"\n",
              "              style=\"display:none;\">\n",
              "        \n",
              "  <svg xmlns=\"http://www.w3.org/2000/svg\" height=\"24px\"viewBox=\"0 0 24 24\"\n",
              "       width=\"24px\">\n",
              "    <path d=\"M0 0h24v24H0V0z\" fill=\"none\"/>\n",
              "    <path d=\"M18.56 5.44l.94 2.06.94-2.06 2.06-.94-2.06-.94-.94-2.06-.94 2.06-2.06.94zm-11 1L8.5 8.5l.94-2.06 2.06-.94-2.06-.94L8.5 2.5l-.94 2.06-2.06.94zm10 10l.94 2.06.94-2.06 2.06-.94-2.06-.94-.94-2.06-.94 2.06-2.06.94z\"/><path d=\"M17.41 7.96l-1.37-1.37c-.4-.4-.92-.59-1.43-.59-.52 0-1.04.2-1.43.59L10.3 9.45l-7.72 7.72c-.78.78-.78 2.05 0 2.83L4 21.41c.39.39.9.59 1.41.59.51 0 1.02-.2 1.41-.59l7.78-7.78 2.81-2.81c.8-.78.8-2.07 0-2.86zM5.41 20L4 18.59l7.72-7.72 1.47 1.35L5.41 20z\"/>\n",
              "  </svg>\n",
              "      </button>\n",
              "      \n",
              "  <style>\n",
              "    .colab-df-container {\n",
              "      display:flex;\n",
              "      flex-wrap:wrap;\n",
              "      gap: 12px;\n",
              "    }\n",
              "\n",
              "    .colab-df-convert {\n",
              "      background-color: #E8F0FE;\n",
              "      border: none;\n",
              "      border-radius: 50%;\n",
              "      cursor: pointer;\n",
              "      display: none;\n",
              "      fill: #1967D2;\n",
              "      height: 32px;\n",
              "      padding: 0 0 0 0;\n",
              "      width: 32px;\n",
              "    }\n",
              "\n",
              "    .colab-df-convert:hover {\n",
              "      background-color: #E2EBFA;\n",
              "      box-shadow: 0px 1px 2px rgba(60, 64, 67, 0.3), 0px 1px 3px 1px rgba(60, 64, 67, 0.15);\n",
              "      fill: #174EA6;\n",
              "    }\n",
              "\n",
              "    [theme=dark] .colab-df-convert {\n",
              "      background-color: #3B4455;\n",
              "      fill: #D2E3FC;\n",
              "    }\n",
              "\n",
              "    [theme=dark] .colab-df-convert:hover {\n",
              "      background-color: #434B5C;\n",
              "      box-shadow: 0px 1px 3px 1px rgba(0, 0, 0, 0.15);\n",
              "      filter: drop-shadow(0px 1px 2px rgba(0, 0, 0, 0.3));\n",
              "      fill: #FFFFFF;\n",
              "    }\n",
              "  </style>\n",
              "\n",
              "      <script>\n",
              "        const buttonEl =\n",
              "          document.querySelector('#df-94405f3c-2646-4b18-8de9-180c40248262 button.colab-df-convert');\n",
              "        buttonEl.style.display =\n",
              "          google.colab.kernel.accessAllowed ? 'block' : 'none';\n",
              "\n",
              "        async function convertToInteractive(key) {\n",
              "          const element = document.querySelector('#df-94405f3c-2646-4b18-8de9-180c40248262');\n",
              "          const dataTable =\n",
              "            await google.colab.kernel.invokeFunction('convertToInteractive',\n",
              "                                                     [key], {});\n",
              "          if (!dataTable) return;\n",
              "\n",
              "          const docLinkHtml = 'Like what you see? Visit the ' +\n",
              "            '<a target=\"_blank\" href=https://colab.research.google.com/notebooks/data_table.ipynb>data table notebook</a>'\n",
              "            + ' to learn more about interactive tables.';\n",
              "          element.innerHTML = '';\n",
              "          dataTable['output_type'] = 'display_data';\n",
              "          await google.colab.output.renderOutput(dataTable, element);\n",
              "          const docLink = document.createElement('div');\n",
              "          docLink.innerHTML = docLinkHtml;\n",
              "          element.appendChild(docLink);\n",
              "        }\n",
              "      </script>\n",
              "    </div>\n",
              "  </div>\n",
              "  "
            ],
            "text/plain": [
              "            Model_Index    Mean_Precision@10     Std_Precision@10\n",
              "2                tf_idf  0.20749603174603162  0.13703559652356107\n",
              "1        bm25_k3.5_b0.1  0.20549603174603162   0.1349034495534523\n",
              "0  lm_index_lambda_0p01  0.20449603174603165   0.1322949847415861"
            ]
          },
          "execution_count": 102,
          "metadata": {},
          "output_type": "execute_result"
        }
      ],
      "source": [
        "# compare the evaluation metrics for each index\n",
        "compare_model_evaluation_metrics_at_k_df(\n",
        "                                        list_of_index_names = index_names,\n",
        "                                        queries_df = testing_queries_df,\n",
        "                                        qrels_df = testing_qrels_df,\n",
        "                                        eval_metric_name = 'Precision',\n",
        "                                        k = 10,\n",
        "                                        match_type = 'bool',\n",
        "                                        boolean_query_option = 'must'\n",
        "                                        )"
      ]
    },
    {
      "cell_type": "code",
      "execution_count": null,
      "metadata": {
        "colab": {
          "base_uri": "https://localhost:8080/",
          "height": 143
        },
        "id": "0n0jHHPwnch8",
        "outputId": "5cf6b173-59c7-4fb9-ef5b-45a16c5d00fe"
      },
      "outputs": [
        {
          "data": {
            "text/html": [
              "\n",
              "  <div id=\"df-b5661743-3fab-403e-bb32-57b6768a3486\">\n",
              "    <div class=\"colab-df-container\">\n",
              "      <div>\n",
              "<style scoped>\n",
              "    .dataframe tbody tr th:only-of-type {\n",
              "        vertical-align: middle;\n",
              "    }\n",
              "\n",
              "    .dataframe tbody tr th {\n",
              "        vertical-align: top;\n",
              "    }\n",
              "\n",
              "    .dataframe thead th {\n",
              "        text-align: right;\n",
              "    }\n",
              "</style>\n",
              "<table border=\"1\" class=\"dataframe\">\n",
              "  <thead>\n",
              "    <tr style=\"text-align: right;\">\n",
              "      <th></th>\n",
              "      <th>Model_Index</th>\n",
              "      <th>Mean_NDCG@5</th>\n",
              "      <th>Std_NDCG@5</th>\n",
              "    </tr>\n",
              "  </thead>\n",
              "  <tbody>\n",
              "    <tr>\n",
              "      <th>2</th>\n",
              "      <td>tf_idf</td>\n",
              "      <td>0.42026141376788556</td>\n",
              "      <td>0.2642113864948169</td>\n",
              "    </tr>\n",
              "    <tr>\n",
              "      <th>1</th>\n",
              "      <td>bm25_k3.5_b0.1</td>\n",
              "      <td>0.419065533465542</td>\n",
              "      <td>0.2678877059889906</td>\n",
              "    </tr>\n",
              "    <tr>\n",
              "      <th>0</th>\n",
              "      <td>lm_index_lambda_0p01</td>\n",
              "      <td>0.4101754644898754</td>\n",
              "      <td>0.2624979501406786</td>\n",
              "    </tr>\n",
              "  </tbody>\n",
              "</table>\n",
              "</div>\n",
              "      <button class=\"colab-df-convert\" onclick=\"convertToInteractive('df-b5661743-3fab-403e-bb32-57b6768a3486')\"\n",
              "              title=\"Convert this dataframe to an interactive table.\"\n",
              "              style=\"display:none;\">\n",
              "        \n",
              "  <svg xmlns=\"http://www.w3.org/2000/svg\" height=\"24px\"viewBox=\"0 0 24 24\"\n",
              "       width=\"24px\">\n",
              "    <path d=\"M0 0h24v24H0V0z\" fill=\"none\"/>\n",
              "    <path d=\"M18.56 5.44l.94 2.06.94-2.06 2.06-.94-2.06-.94-.94-2.06-.94 2.06-2.06.94zm-11 1L8.5 8.5l.94-2.06 2.06-.94-2.06-.94L8.5 2.5l-.94 2.06-2.06.94zm10 10l.94 2.06.94-2.06 2.06-.94-2.06-.94-.94-2.06-.94 2.06-2.06.94z\"/><path d=\"M17.41 7.96l-1.37-1.37c-.4-.4-.92-.59-1.43-.59-.52 0-1.04.2-1.43.59L10.3 9.45l-7.72 7.72c-.78.78-.78 2.05 0 2.83L4 21.41c.39.39.9.59 1.41.59.51 0 1.02-.2 1.41-.59l7.78-7.78 2.81-2.81c.8-.78.8-2.07 0-2.86zM5.41 20L4 18.59l7.72-7.72 1.47 1.35L5.41 20z\"/>\n",
              "  </svg>\n",
              "      </button>\n",
              "      \n",
              "  <style>\n",
              "    .colab-df-container {\n",
              "      display:flex;\n",
              "      flex-wrap:wrap;\n",
              "      gap: 12px;\n",
              "    }\n",
              "\n",
              "    .colab-df-convert {\n",
              "      background-color: #E8F0FE;\n",
              "      border: none;\n",
              "      border-radius: 50%;\n",
              "      cursor: pointer;\n",
              "      display: none;\n",
              "      fill: #1967D2;\n",
              "      height: 32px;\n",
              "      padding: 0 0 0 0;\n",
              "      width: 32px;\n",
              "    }\n",
              "\n",
              "    .colab-df-convert:hover {\n",
              "      background-color: #E2EBFA;\n",
              "      box-shadow: 0px 1px 2px rgba(60, 64, 67, 0.3), 0px 1px 3px 1px rgba(60, 64, 67, 0.15);\n",
              "      fill: #174EA6;\n",
              "    }\n",
              "\n",
              "    [theme=dark] .colab-df-convert {\n",
              "      background-color: #3B4455;\n",
              "      fill: #D2E3FC;\n",
              "    }\n",
              "\n",
              "    [theme=dark] .colab-df-convert:hover {\n",
              "      background-color: #434B5C;\n",
              "      box-shadow: 0px 1px 3px 1px rgba(0, 0, 0, 0.15);\n",
              "      filter: drop-shadow(0px 1px 2px rgba(0, 0, 0, 0.3));\n",
              "      fill: #FFFFFF;\n",
              "    }\n",
              "  </style>\n",
              "\n",
              "      <script>\n",
              "        const buttonEl =\n",
              "          document.querySelector('#df-b5661743-3fab-403e-bb32-57b6768a3486 button.colab-df-convert');\n",
              "        buttonEl.style.display =\n",
              "          google.colab.kernel.accessAllowed ? 'block' : 'none';\n",
              "\n",
              "        async function convertToInteractive(key) {\n",
              "          const element = document.querySelector('#df-b5661743-3fab-403e-bb32-57b6768a3486');\n",
              "          const dataTable =\n",
              "            await google.colab.kernel.invokeFunction('convertToInteractive',\n",
              "                                                     [key], {});\n",
              "          if (!dataTable) return;\n",
              "\n",
              "          const docLinkHtml = 'Like what you see? Visit the ' +\n",
              "            '<a target=\"_blank\" href=https://colab.research.google.com/notebooks/data_table.ipynb>data table notebook</a>'\n",
              "            + ' to learn more about interactive tables.';\n",
              "          element.innerHTML = '';\n",
              "          dataTable['output_type'] = 'display_data';\n",
              "          await google.colab.output.renderOutput(dataTable, element);\n",
              "          const docLink = document.createElement('div');\n",
              "          docLink.innerHTML = docLinkHtml;\n",
              "          element.appendChild(docLink);\n",
              "        }\n",
              "      </script>\n",
              "    </div>\n",
              "  </div>\n",
              "  "
            ],
            "text/plain": [
              "            Model_Index          Mean_NDCG@5          Std_NDCG@5\n",
              "2                tf_idf  0.42026141376788556  0.2642113864948169\n",
              "1        bm25_k3.5_b0.1    0.419065533465542  0.2678877059889906\n",
              "0  lm_index_lambda_0p01   0.4101754644898754  0.2624979501406786"
            ]
          },
          "execution_count": 103,
          "metadata": {},
          "output_type": "execute_result"
        }
      ],
      "source": [
        "# Use values to get names of the indices\n",
        "index_names = ['lm_index_lambda_0p01','bm25_k3.5_b0.1','tf_idf']\n",
        "\n",
        "# compare the evaluation metrics for each index\n",
        "compare_model_evaluation_metrics_at_k_df(\n",
        "                                        list_of_index_names = index_names,\n",
        "                                        queries_df = testing_queries_df,\n",
        "                                        qrels_df = testing_qrels_df,\n",
        "                                        eval_metric_name = 'NDCG',\n",
        "                                        k = 5,\n",
        "                                        match_type = 'bool',\n",
        "                                        boolean_query_option = 'must'\n",
        "                                        )"
      ]
    },
    {
      "cell_type": "code",
      "execution_count": null,
      "metadata": {
        "colab": {
          "base_uri": "https://localhost:8080/",
          "height": 143
        },
        "id": "vDx5FI6anch8",
        "outputId": "aed2e414-4c06-4811-8904-1615b37f27ae"
      },
      "outputs": [
        {
          "data": {
            "text/html": [
              "\n",
              "  <div id=\"df-c853f110-bf24-41e5-a11a-88995be1f24d\">\n",
              "    <div class=\"colab-df-container\">\n",
              "      <div>\n",
              "<style scoped>\n",
              "    .dataframe tbody tr th:only-of-type {\n",
              "        vertical-align: middle;\n",
              "    }\n",
              "\n",
              "    .dataframe tbody tr th {\n",
              "        vertical-align: top;\n",
              "    }\n",
              "\n",
              "    .dataframe thead th {\n",
              "        text-align: right;\n",
              "    }\n",
              "</style>\n",
              "<table border=\"1\" class=\"dataframe\">\n",
              "  <thead>\n",
              "    <tr style=\"text-align: right;\">\n",
              "      <th></th>\n",
              "      <th>Model_Index</th>\n",
              "      <th>Mean_Precision@5</th>\n",
              "      <th>Std_Precision@5</th>\n",
              "    </tr>\n",
              "  </thead>\n",
              "  <tbody>\n",
              "    <tr>\n",
              "      <th>1</th>\n",
              "      <td>bm25_k3.5_b0.1</td>\n",
              "      <td>0.30533333333333307</td>\n",
              "      <td>0.22084014664541937</td>\n",
              "    </tr>\n",
              "    <tr>\n",
              "      <th>2</th>\n",
              "      <td>tf_idf</td>\n",
              "      <td>0.30533333333333307</td>\n",
              "      <td>0.21900294418634997</td>\n",
              "    </tr>\n",
              "    <tr>\n",
              "      <th>0</th>\n",
              "      <td>lm_index_lambda_0p01</td>\n",
              "      <td>0.3033333333333331</td>\n",
              "      <td>0.21343747458109485</td>\n",
              "    </tr>\n",
              "  </tbody>\n",
              "</table>\n",
              "</div>\n",
              "      <button class=\"colab-df-convert\" onclick=\"convertToInteractive('df-c853f110-bf24-41e5-a11a-88995be1f24d')\"\n",
              "              title=\"Convert this dataframe to an interactive table.\"\n",
              "              style=\"display:none;\">\n",
              "        \n",
              "  <svg xmlns=\"http://www.w3.org/2000/svg\" height=\"24px\"viewBox=\"0 0 24 24\"\n",
              "       width=\"24px\">\n",
              "    <path d=\"M0 0h24v24H0V0z\" fill=\"none\"/>\n",
              "    <path d=\"M18.56 5.44l.94 2.06.94-2.06 2.06-.94-2.06-.94-.94-2.06-.94 2.06-2.06.94zm-11 1L8.5 8.5l.94-2.06 2.06-.94-2.06-.94L8.5 2.5l-.94 2.06-2.06.94zm10 10l.94 2.06.94-2.06 2.06-.94-2.06-.94-.94-2.06-.94 2.06-2.06.94z\"/><path d=\"M17.41 7.96l-1.37-1.37c-.4-.4-.92-.59-1.43-.59-.52 0-1.04.2-1.43.59L10.3 9.45l-7.72 7.72c-.78.78-.78 2.05 0 2.83L4 21.41c.39.39.9.59 1.41.59.51 0 1.02-.2 1.41-.59l7.78-7.78 2.81-2.81c.8-.78.8-2.07 0-2.86zM5.41 20L4 18.59l7.72-7.72 1.47 1.35L5.41 20z\"/>\n",
              "  </svg>\n",
              "      </button>\n",
              "      \n",
              "  <style>\n",
              "    .colab-df-container {\n",
              "      display:flex;\n",
              "      flex-wrap:wrap;\n",
              "      gap: 12px;\n",
              "    }\n",
              "\n",
              "    .colab-df-convert {\n",
              "      background-color: #E8F0FE;\n",
              "      border: none;\n",
              "      border-radius: 50%;\n",
              "      cursor: pointer;\n",
              "      display: none;\n",
              "      fill: #1967D2;\n",
              "      height: 32px;\n",
              "      padding: 0 0 0 0;\n",
              "      width: 32px;\n",
              "    }\n",
              "\n",
              "    .colab-df-convert:hover {\n",
              "      background-color: #E2EBFA;\n",
              "      box-shadow: 0px 1px 2px rgba(60, 64, 67, 0.3), 0px 1px 3px 1px rgba(60, 64, 67, 0.15);\n",
              "      fill: #174EA6;\n",
              "    }\n",
              "\n",
              "    [theme=dark] .colab-df-convert {\n",
              "      background-color: #3B4455;\n",
              "      fill: #D2E3FC;\n",
              "    }\n",
              "\n",
              "    [theme=dark] .colab-df-convert:hover {\n",
              "      background-color: #434B5C;\n",
              "      box-shadow: 0px 1px 3px 1px rgba(0, 0, 0, 0.15);\n",
              "      filter: drop-shadow(0px 1px 2px rgba(0, 0, 0, 0.3));\n",
              "      fill: #FFFFFF;\n",
              "    }\n",
              "  </style>\n",
              "\n",
              "      <script>\n",
              "        const buttonEl =\n",
              "          document.querySelector('#df-c853f110-bf24-41e5-a11a-88995be1f24d button.colab-df-convert');\n",
              "        buttonEl.style.display =\n",
              "          google.colab.kernel.accessAllowed ? 'block' : 'none';\n",
              "\n",
              "        async function convertToInteractive(key) {\n",
              "          const element = document.querySelector('#df-c853f110-bf24-41e5-a11a-88995be1f24d');\n",
              "          const dataTable =\n",
              "            await google.colab.kernel.invokeFunction('convertToInteractive',\n",
              "                                                     [key], {});\n",
              "          if (!dataTable) return;\n",
              "\n",
              "          const docLinkHtml = 'Like what you see? Visit the ' +\n",
              "            '<a target=\"_blank\" href=https://colab.research.google.com/notebooks/data_table.ipynb>data table notebook</a>'\n",
              "            + ' to learn more about interactive tables.';\n",
              "          element.innerHTML = '';\n",
              "          dataTable['output_type'] = 'display_data';\n",
              "          await google.colab.output.renderOutput(dataTable, element);\n",
              "          const docLink = document.createElement('div');\n",
              "          docLink.innerHTML = docLinkHtml;\n",
              "          element.appendChild(docLink);\n",
              "        }\n",
              "      </script>\n",
              "    </div>\n",
              "  </div>\n",
              "  "
            ],
            "text/plain": [
              "            Model_Index     Mean_Precision@5      Std_Precision@5\n",
              "1        bm25_k3.5_b0.1  0.30533333333333307  0.22084014664541937\n",
              "2                tf_idf  0.30533333333333307  0.21900294418634997\n",
              "0  lm_index_lambda_0p01   0.3033333333333331  0.21343747458109485"
            ]
          },
          "execution_count": 104,
          "metadata": {},
          "output_type": "execute_result"
        }
      ],
      "source": [
        "# compare the evaluation metrics for each index\n",
        "compare_model_evaluation_metrics_at_k_df(\n",
        "                                        list_of_index_names = index_names,\n",
        "                                        queries_df = testing_queries_df,\n",
        "                                        qrels_df = testing_qrels_df,\n",
        "                                        eval_metric_name = 'Precision',\n",
        "                                        k = 5,\n",
        "                                        match_type = 'bool',\n",
        "                                        boolean_query_option = 'must'\n",
        "                                        )"
      ]
    },
    {
      "cell_type": "markdown",
      "metadata": {
        "id": "rmoF5gDWdegy"
      },
      "source": [
        "The best results were produced using the TF-IDF model, which incorporated a sublinear transformation without including document length normalisation."
      ]
    },
    {
      "cell_type": "markdown",
      "metadata": {
        "id": "wejIOtYFCwnb"
      },
      "source": [
        "# References\n",
        "* C. Zhai, 2018, https://www.youtube.com/watch?v=lTLadBM31c8, [Accessed 13 Apr. 2022]\n",
        "* elasticsearch-py.readthedocs.io. (n.d.). Helpers — Python Elasticsearch client 8.1.2 documentation. [online] Available at: https://elasticsearch-py.readthedocs.io/en/v8.1.2/helpers.html#bulk-helper [Accessed 14 Apr. 2022].\n",
        "\n",
        "* Larson, S.M. (2022). Elasticsearch Python Client. [online] GitHub. Available at: https://github.com/elastic/elasticsearch-py/blob/main/examples/bulk-ingest/bulk-ingest.py [Accessed 14 Apr. 2022].\n",
        "* practical-bm25-part-3-considerations-for-picking-b-and-k1-in-elasticsearch, [Accessed 13 Apr. 2022]\n",
        "S.  Connelly, 2018, https://www.elastic.co/blog/practical-bm25-part-2-the-bm25-algorithm-and-its-variables,[Accessed 13 Apr. 2022]\n",
        "\n",
        "* www.elastic.co. (n.d.). Stop token filter | Elasticsearch Guide [8.1] | Elastic. [online] Available at: https://www.elastic.co/guide/en/elasticsearch/reference/current/analysis-stop-tokenfilter.html [Accessed 20 Mar. 2022].\n",
        "\n",
        "* www.elastic.co. (n.d.). Stemming | Elasticsearch Guide [8.1] | Elastic. [online] Available at: https://www.elastic.co/guide/en/elasticsearch/reference/current/stemming.html [Accessed 20 Mar. 2022]\n",
        "\n"
      ]
    },
    {
      "cell_type": "code",
      "execution_count": null,
      "metadata": {
        "id": "x1i5O5F_I2hn"
      },
      "outputs": [],
      "source": []
    }
  ],
  "metadata": {
    "colab": {
      "provenance": []
    },
    "interpreter": {
      "hash": "336c434b0ca99090ca49ea4abb9754779bca49821e7db1be0e1a63e0f3dbb326"
    },
    "kernelspec": {
      "display_name": "Python 3.8.8 ('python_env': venv)",
      "language": "python",
      "name": "python3"
    },
    "language_info": {
      "codemirror_mode": {
        "name": "ipython",
        "version": 3
      },
      "file_extension": ".py",
      "mimetype": "text/x-python",
      "name": "python",
      "nbconvert_exporter": "python",
      "pygments_lexer": "ipython3",
      "version": "3.8.8"
    },
    "orig_nbformat": 4
  },
  "nbformat": 4,
  "nbformat_minor": 0
}
